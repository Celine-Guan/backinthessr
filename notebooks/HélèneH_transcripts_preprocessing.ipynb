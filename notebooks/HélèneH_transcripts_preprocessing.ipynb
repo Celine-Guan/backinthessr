{
 "cells": [
  {
   "cell_type": "code",
   "execution_count": 1,
   "id": "disciplinary-isolation",
   "metadata": {},
   "outputs": [],
   "source": [
    "import pandas as pd\n",
    "import os\n",
    "import csv\n",
    "import re\n",
    "import itertools"
   ]
  },
  {
   "cell_type": "markdown",
   "id": "impaired-browse",
   "metadata": {},
   "source": [
    "## Merging all transcripts .txt files"
   ]
  },
  {
   "cell_type": "code",
   "execution_count": 2,
   "id": "adult-volleyball",
   "metadata": {},
   "outputs": [
    {
     "name": "stderr",
     "output_type": "stream",
     "text": [
      "<ipython-input-2-271f3e62120d>:1: ParserWarning: Falling back to the 'python' engine because the 'c' engine does not support regex separators (separators > 1 char and different from '\\s+' are interpreted as regex); you can avoid this warning by specifying engine='python'.\n",
      "  data = pd.read_csv('../raw_data/Transcript/Segmented/Combined/_0efYOjQYRc.txt', header = None, sep='///')\n"
     ]
    }
   ],
   "source": [
    "data = pd.read_csv('../raw_data/Transcript/Segmented/Combined/_0efYOjQYRc.txt', header = None, sep='///')"
   ]
  },
  {
   "cell_type": "code",
   "execution_count": 3,
   "id": "upper-programmer",
   "metadata": {},
   "outputs": [],
   "source": [
    "directory = '../raw_data/Transcript/Segmented/Combined'"
   ]
  },
  {
   "cell_type": "code",
   "execution_count": 4,
   "id": "compact-mechanism",
   "metadata": {
    "scrolled": true
   },
   "outputs": [
    {
     "name": "stderr",
     "output_type": "stream",
     "text": [
      "<ipython-input-4-cc9c9b79fd80>:2: ParserWarning: Falling back to the 'python' engine because the 'c' engine does not support regex separators (separators > 1 char and different from '\\s+' are interpreted as regex); you can avoid this warning by specifying engine='python'.\n",
      "  new_data = pd.read_csv(f'../raw_data/Transcript/Segmented/Combined/{filename}', header = None, sep='///', quoting=csv.QUOTE_NONE)\n"
     ]
    }
   ],
   "source": [
    "for filename in os.listdir(directory):\n",
    "    new_data = pd.read_csv(f'../raw_data/Transcript/Segmented/Combined/{filename}', header = None, sep='///', quoting=csv.QUOTE_NONE) \n",
    "    data = pd.concat([data, new_data])"
   ]
  },
  {
   "cell_type": "code",
   "execution_count": 5,
   "id": "written-manufacturer",
   "metadata": {},
   "outputs": [],
   "source": [
    "data = data.rename(columns={0 : 'all_data'})"
   ]
  },
  {
   "cell_type": "code",
   "execution_count": 6,
   "id": "informative-support",
   "metadata": {},
   "outputs": [],
   "source": [
    "data['ID'] = data['all_data'].apply(lambda x: x.split('__')[0].strip('_'))\n",
    "data['clip'] = data['all_data'].apply(lambda x: x.split('__')[1].strip('_'))\n",
    "data['Phrase'] = data['all_data'].apply(lambda x: x.split('__')[-1].strip('_'))"
   ]
  },
  {
   "cell_type": "code",
   "execution_count": 7,
   "id": "coordinate-rapid",
   "metadata": {},
   "outputs": [],
   "source": [
    "data = data.drop(columns='all_data')"
   ]
  },
  {
   "cell_type": "code",
   "execution_count": 8,
   "id": "muslim-ready",
   "metadata": {},
   "outputs": [],
   "source": [
    "data['ID'] = data['ID'].astype(str)\n",
    "data['clip'] = data['clip'].astype(str)\n",
    "data[\"Segment_ID\"] = data[\"ID\"] + data[\"clip\"]"
   ]
  },
  {
   "cell_type": "code",
   "execution_count": 9,
   "id": "operational-roots",
   "metadata": {},
   "outputs": [
    {
     "data": {
      "text/plain": [
       "44969"
      ]
     },
     "execution_count": 9,
     "metadata": {},
     "output_type": "execute_result"
    }
   ],
   "source": [
    "len(data)"
   ]
  },
  {
   "cell_type": "markdown",
   "id": "viral-lobby",
   "metadata": {},
   "source": [
    "## Removing ~40 audio files"
   ]
  },
  {
   "cell_type": "code",
   "execution_count": 10,
   "id": "advance-loading",
   "metadata": {},
   "outputs": [],
   "source": [
    "remove = pd.read_csv('../raw_data/remove.csv', header = None)"
   ]
  },
  {
   "cell_type": "code",
   "execution_count": 11,
   "id": "disturbed-hammer",
   "metadata": {},
   "outputs": [],
   "source": [
    "data = data.drop(labels = remove)"
   ]
  },
  {
   "cell_type": "markdown",
   "id": "seasonal-stake",
   "metadata": {},
   "source": [
    "## Merging with y -labels"
   ]
  },
  {
   "cell_type": "code",
   "execution_count": 12,
   "id": "attended-entertainment",
   "metadata": {},
   "outputs": [],
   "source": [
    "labels = pd.read_csv('../backinthessr/data/y1_sentiment.csv')"
   ]
  },
  {
   "cell_type": "code",
   "execution_count": 13,
   "id": "large-duplicate",
   "metadata": {},
   "outputs": [],
   "source": [
    "labels['Segment_ID'] = labels['Segment_ID'].apply(lambda x: x.strip('sqa_mosi/'))\n",
    "labels['Segment_ID'] = labels['Segment_ID'].apply(lambda x: x.strip('pom_extra/'))"
   ]
  },
  {
   "cell_type": "code",
   "execution_count": 14,
   "id": "documented-sleeve",
   "metadata": {},
   "outputs": [
    {
     "data": {
      "text/plain": [
       "18637"
      ]
     },
     "execution_count": 14,
     "metadata": {},
     "output_type": "execute_result"
    }
   ],
   "source": [
    "len(set(data.Segment_ID).intersection(set(labels.Segment_ID)))"
   ]
  },
  {
   "cell_type": "code",
   "execution_count": 15,
   "id": "backed-signal",
   "metadata": {},
   "outputs": [],
   "source": [
    "final_data = pd.merge(data, labels, how='inner', on='Segment_ID')\n",
    "final_data = final_data.drop_duplicates()"
   ]
  },
  {
   "cell_type": "code",
   "execution_count": 16,
   "id": "massive-violin",
   "metadata": {},
   "outputs": [
    {
     "data": {
      "text/html": [
       "<div>\n",
       "<style scoped>\n",
       "    .dataframe tbody tr th:only-of-type {\n",
       "        vertical-align: middle;\n",
       "    }\n",
       "\n",
       "    .dataframe tbody tr th {\n",
       "        vertical-align: top;\n",
       "    }\n",
       "\n",
       "    .dataframe thead th {\n",
       "        text-align: right;\n",
       "    }\n",
       "</style>\n",
       "<table border=\"1\" class=\"dataframe\">\n",
       "  <thead>\n",
       "    <tr style=\"text-align: right;\">\n",
       "      <th></th>\n",
       "      <th>ID</th>\n",
       "      <th>clip</th>\n",
       "      <th>Phrase</th>\n",
       "      <th>Segment_ID</th>\n",
       "      <th>Answer.sentiment</th>\n",
       "    </tr>\n",
       "  </thead>\n",
       "  <tbody>\n",
       "    <tr>\n",
       "      <th>0</th>\n",
       "      <td>0efYOjQYRc</td>\n",
       "      <td>3</td>\n",
       "      <td>He is the co-founder of Rossen and Vettese Lim...</td>\n",
       "      <td>0efYOjQYRc3</td>\n",
       "      <td>0.333333</td>\n",
       "    </tr>\n",
       "    <tr>\n",
       "      <th>2</th>\n",
       "      <td>0efYOjQYRc</td>\n",
       "      <td>4</td>\n",
       "      <td>Chairman Glenn Ives said that Deloitte is very...</td>\n",
       "      <td>0efYOjQYRc4</td>\n",
       "      <td>0.666667</td>\n",
       "    </tr>\n",
       "    <tr>\n",
       "      <th>4</th>\n",
       "      <td>-wMB_hJL-3o</td>\n",
       "      <td>4</td>\n",
       "      <td>The best way to help a depressed person is to ...</td>\n",
       "      <td>-wMB_hJL-3o4</td>\n",
       "      <td>1.333333</td>\n",
       "    </tr>\n",
       "    <tr>\n",
       "      <th>5</th>\n",
       "      <td>-wMB_hJL-3o</td>\n",
       "      <td>6</td>\n",
       "      <td>There are many different treatments helpful fo...</td>\n",
       "      <td>-wMB_hJL-3o6</td>\n",
       "      <td>0.666667</td>\n",
       "    </tr>\n",
       "    <tr>\n",
       "      <th>6</th>\n",
       "      <td>-wMB_hJL-3o</td>\n",
       "      <td>7</td>\n",
       "      <td>So if you have a loved one who is depressed th...</td>\n",
       "      <td>-wMB_hJL-3o7</td>\n",
       "      <td>0.333333</td>\n",
       "    </tr>\n",
       "    <tr>\n",
       "      <th>...</th>\n",
       "      <td>...</td>\n",
       "      <td>...</td>\n",
       "      <td>...</td>\n",
       "      <td>...</td>\n",
       "      <td>...</td>\n",
       "    </tr>\n",
       "    <tr>\n",
       "      <th>18634</th>\n",
       "      <td>2h9VVQUZjK0</td>\n",
       "      <td>8</td>\n",
       "      <td>In the digital age, though, technology has ma...</td>\n",
       "      <td>2h9VVQUZjK08</td>\n",
       "      <td>0.000000</td>\n",
       "    </tr>\n",
       "    <tr>\n",
       "      <th>18635</th>\n",
       "      <td>2h9VVQUZjK0</td>\n",
       "      <td>9</td>\n",
       "      <td>You might sometimes still see a corporate sea...</td>\n",
       "      <td>2h9VVQUZjK09</td>\n",
       "      <td>1.333333</td>\n",
       "    </tr>\n",
       "    <tr>\n",
       "      <th>18636</th>\n",
       "      <td>2h9VVQUZjK0</td>\n",
       "      <td>10</td>\n",
       "      <td>Today, state laws recognize the signature of ...</td>\n",
       "      <td>2h9VVQUZjK010</td>\n",
       "      <td>1.000000</td>\n",
       "    </tr>\n",
       "    <tr>\n",
       "      <th>18637</th>\n",
       "      <td>2h9VVQUZjK0</td>\n",
       "      <td>11</td>\n",
       "      <td>Originally, official stock certificates serve...</td>\n",
       "      <td>2h9VVQUZjK011</td>\n",
       "      <td>0.000000</td>\n",
       "    </tr>\n",
       "    <tr>\n",
       "      <th>18638</th>\n",
       "      <td>2h9VVQUZjK0</td>\n",
       "      <td>12</td>\n",
       "      <td>These certificates showed proof of ownership ...</td>\n",
       "      <td>2h9VVQUZjK012</td>\n",
       "      <td>0.000000</td>\n",
       "    </tr>\n",
       "  </tbody>\n",
       "</table>\n",
       "<p>18637 rows × 5 columns</p>\n",
       "</div>"
      ],
      "text/plain": [
       "                ID clip                                             Phrase  \\\n",
       "0       0efYOjQYRc    3  He is the co-founder of Rossen and Vettese Lim...   \n",
       "2       0efYOjQYRc    4  Chairman Glenn Ives said that Deloitte is very...   \n",
       "4      -wMB_hJL-3o    4  The best way to help a depressed person is to ...   \n",
       "5      -wMB_hJL-3o    6  There are many different treatments helpful fo...   \n",
       "6      -wMB_hJL-3o    7  So if you have a loved one who is depressed th...   \n",
       "...            ...  ...                                                ...   \n",
       "18634  2h9VVQUZjK0    8   In the digital age, though, technology has ma...   \n",
       "18635  2h9VVQUZjK0    9   You might sometimes still see a corporate sea...   \n",
       "18636  2h9VVQUZjK0   10   Today, state laws recognize the signature of ...   \n",
       "18637  2h9VVQUZjK0   11   Originally, official stock certificates serve...   \n",
       "18638  2h9VVQUZjK0   12   These certificates showed proof of ownership ...   \n",
       "\n",
       "          Segment_ID  Answer.sentiment  \n",
       "0        0efYOjQYRc3          0.333333  \n",
       "2        0efYOjQYRc4          0.666667  \n",
       "4       -wMB_hJL-3o4          1.333333  \n",
       "5       -wMB_hJL-3o6          0.666667  \n",
       "6       -wMB_hJL-3o7          0.333333  \n",
       "...              ...               ...  \n",
       "18634   2h9VVQUZjK08          0.000000  \n",
       "18635   2h9VVQUZjK09          1.333333  \n",
       "18636  2h9VVQUZjK010          1.000000  \n",
       "18637  2h9VVQUZjK011          0.000000  \n",
       "18638  2h9VVQUZjK012          0.000000  \n",
       "\n",
       "[18637 rows x 5 columns]"
      ]
     },
     "execution_count": 16,
     "metadata": {},
     "output_type": "execute_result"
    }
   ],
   "source": [
    "final_data"
   ]
  },
  {
   "cell_type": "markdown",
   "id": "basic-butter",
   "metadata": {},
   "source": [
    "## Merging with audio files"
   ]
  },
  {
   "cell_type": "code",
   "execution_count": 17,
   "id": "optional-armstrong",
   "metadata": {},
   "outputs": [],
   "source": [
    "audio = pd.read_csv('../raw_data/files.csv', header = None)"
   ]
  },
  {
   "cell_type": "code",
   "execution_count": 18,
   "id": "academic-quebec",
   "metadata": {},
   "outputs": [],
   "source": [
    "audio = audio.rename(columns={0 : 'Segment_ID'})"
   ]
  },
  {
   "cell_type": "code",
   "execution_count": 19,
   "id": "strange-return",
   "metadata": {},
   "outputs": [],
   "source": [
    "audio['Segment_ID'] = audio['Segment_ID'].apply(lambda x: x.strip('.wav'))"
   ]
  },
  {
   "cell_type": "code",
   "execution_count": 20,
   "id": "thirty-brunswick",
   "metadata": {},
   "outputs": [],
   "source": [
    "audio['Segment_ID'] = audio['Segment_ID'].apply(lambda x: x.replace('_', ''))"
   ]
  },
  {
   "cell_type": "code",
   "execution_count": 21,
   "id": "bacterial-camel",
   "metadata": {
    "scrolled": true
   },
   "outputs": [
    {
     "data": {
      "text/plain": [
       "13553"
      ]
     },
     "execution_count": 21,
     "metadata": {},
     "output_type": "execute_result"
    }
   ],
   "source": [
    "len(set(final_data.Segment_ID).intersection(set(audio.Segment_ID)))"
   ]
  },
  {
   "cell_type": "code",
   "execution_count": 22,
   "id": "disabled-colorado",
   "metadata": {},
   "outputs": [],
   "source": [
    "final_data_2 = pd.merge(final_data, audio, how='inner', on='Segment_ID')\n",
    "final_data_2 = final_data_2.drop_duplicates()"
   ]
  },
  {
   "cell_type": "code",
   "execution_count": 23,
   "id": "julian-serve",
   "metadata": {},
   "outputs": [
    {
     "data": {
      "text/html": [
       "<div>\n",
       "<style scoped>\n",
       "    .dataframe tbody tr th:only-of-type {\n",
       "        vertical-align: middle;\n",
       "    }\n",
       "\n",
       "    .dataframe tbody tr th {\n",
       "        vertical-align: top;\n",
       "    }\n",
       "\n",
       "    .dataframe thead th {\n",
       "        text-align: right;\n",
       "    }\n",
       "</style>\n",
       "<table border=\"1\" class=\"dataframe\">\n",
       "  <thead>\n",
       "    <tr style=\"text-align: right;\">\n",
       "      <th></th>\n",
       "      <th>ID</th>\n",
       "      <th>clip</th>\n",
       "      <th>Phrase</th>\n",
       "      <th>Segment_ID</th>\n",
       "      <th>Answer.sentiment</th>\n",
       "    </tr>\n",
       "  </thead>\n",
       "  <tbody>\n",
       "    <tr>\n",
       "      <th>0</th>\n",
       "      <td>0efYOjQYRc</td>\n",
       "      <td>3</td>\n",
       "      <td>He is the co-founder of Rossen and Vettese Lim...</td>\n",
       "      <td>0efYOjQYRc3</td>\n",
       "      <td>0.333333</td>\n",
       "    </tr>\n",
       "    <tr>\n",
       "      <th>1</th>\n",
       "      <td>0efYOjQYRc</td>\n",
       "      <td>4</td>\n",
       "      <td>Chairman Glenn Ives said that Deloitte is very...</td>\n",
       "      <td>0efYOjQYRc4</td>\n",
       "      <td>0.666667</td>\n",
       "    </tr>\n",
       "    <tr>\n",
       "      <th>2</th>\n",
       "      <td>56276</td>\n",
       "      <td>1</td>\n",
       "      <td>I want to tell you a little bit about this (u...</td>\n",
       "      <td>562761</td>\n",
       "      <td>-0.666667</td>\n",
       "    </tr>\n",
       "    <tr>\n",
       "      <th>3</th>\n",
       "      <td>56276</td>\n",
       "      <td>2</td>\n",
       "      <td>Now I will you that this is probably one of t...</td>\n",
       "      <td>562762</td>\n",
       "      <td>-3.000000</td>\n",
       "    </tr>\n",
       "    <tr>\n",
       "      <th>4</th>\n",
       "      <td>56276</td>\n",
       "      <td>3</td>\n",
       "      <td>This is one of the most stupidest movies, (um...</td>\n",
       "      <td>562763</td>\n",
       "      <td>-3.000000</td>\n",
       "    </tr>\n",
       "    <tr>\n",
       "      <th>...</th>\n",
       "      <td>...</td>\n",
       "      <td>...</td>\n",
       "      <td>...</td>\n",
       "      <td>...</td>\n",
       "      <td>...</td>\n",
       "    </tr>\n",
       "    <tr>\n",
       "      <th>13548</th>\n",
       "      <td>2h9VVQUZjK0</td>\n",
       "      <td>8</td>\n",
       "      <td>In the digital age, though, technology has ma...</td>\n",
       "      <td>2h9VVQUZjK08</td>\n",
       "      <td>0.000000</td>\n",
       "    </tr>\n",
       "    <tr>\n",
       "      <th>13549</th>\n",
       "      <td>2h9VVQUZjK0</td>\n",
       "      <td>9</td>\n",
       "      <td>You might sometimes still see a corporate sea...</td>\n",
       "      <td>2h9VVQUZjK09</td>\n",
       "      <td>1.333333</td>\n",
       "    </tr>\n",
       "    <tr>\n",
       "      <th>13550</th>\n",
       "      <td>2h9VVQUZjK0</td>\n",
       "      <td>10</td>\n",
       "      <td>Today, state laws recognize the signature of ...</td>\n",
       "      <td>2h9VVQUZjK010</td>\n",
       "      <td>1.000000</td>\n",
       "    </tr>\n",
       "    <tr>\n",
       "      <th>13551</th>\n",
       "      <td>2h9VVQUZjK0</td>\n",
       "      <td>11</td>\n",
       "      <td>Originally, official stock certificates serve...</td>\n",
       "      <td>2h9VVQUZjK011</td>\n",
       "      <td>0.000000</td>\n",
       "    </tr>\n",
       "    <tr>\n",
       "      <th>13552</th>\n",
       "      <td>2h9VVQUZjK0</td>\n",
       "      <td>12</td>\n",
       "      <td>These certificates showed proof of ownership ...</td>\n",
       "      <td>2h9VVQUZjK012</td>\n",
       "      <td>0.000000</td>\n",
       "    </tr>\n",
       "  </tbody>\n",
       "</table>\n",
       "<p>13553 rows × 5 columns</p>\n",
       "</div>"
      ],
      "text/plain": [
       "                ID clip                                             Phrase  \\\n",
       "0       0efYOjQYRc    3  He is the co-founder of Rossen and Vettese Lim...   \n",
       "1       0efYOjQYRc    4  Chairman Glenn Ives said that Deloitte is very...   \n",
       "2            56276    1   I want to tell you a little bit about this (u...   \n",
       "3            56276    2   Now I will you that this is probably one of t...   \n",
       "4            56276    3   This is one of the most stupidest movies, (um...   \n",
       "...            ...  ...                                                ...   \n",
       "13548  2h9VVQUZjK0    8   In the digital age, though, technology has ma...   \n",
       "13549  2h9VVQUZjK0    9   You might sometimes still see a corporate sea...   \n",
       "13550  2h9VVQUZjK0   10   Today, state laws recognize the signature of ...   \n",
       "13551  2h9VVQUZjK0   11   Originally, official stock certificates serve...   \n",
       "13552  2h9VVQUZjK0   12   These certificates showed proof of ownership ...   \n",
       "\n",
       "          Segment_ID  Answer.sentiment  \n",
       "0        0efYOjQYRc3          0.333333  \n",
       "1        0efYOjQYRc4          0.666667  \n",
       "2             562761         -0.666667  \n",
       "3             562762         -3.000000  \n",
       "4             562763         -3.000000  \n",
       "...              ...               ...  \n",
       "13548   2h9VVQUZjK08          0.000000  \n",
       "13549   2h9VVQUZjK09          1.333333  \n",
       "13550  2h9VVQUZjK010          1.000000  \n",
       "13551  2h9VVQUZjK011          0.000000  \n",
       "13552  2h9VVQUZjK012          0.000000  \n",
       "\n",
       "[13553 rows x 5 columns]"
      ]
     },
     "execution_count": 23,
     "metadata": {},
     "output_type": "execute_result"
    }
   ],
   "source": [
    "final_data_2"
   ]
  },
  {
   "cell_type": "markdown",
   "id": "confidential-shift",
   "metadata": {},
   "source": [
    "## Splitting into train & test sets"
   ]
  },
  {
   "cell_type": "code",
   "execution_count": 24,
   "id": "grateful-christian",
   "metadata": {},
   "outputs": [],
   "source": [
    "from sklearn.model_selection import train_test_split"
   ]
  },
  {
   "cell_type": "code",
   "execution_count": 34,
   "id": "cathedral-biography",
   "metadata": {},
   "outputs": [],
   "source": [
    "X = final_data_2[['Segment_ID', 'Phrase', 'clip', 'ID']]\n",
    "y = final_data_2[['Answer.sentiment', 'Segment_ID']]"
   ]
  },
  {
   "cell_type": "code",
   "execution_count": 35,
   "id": "joint-dutch",
   "metadata": {},
   "outputs": [],
   "source": [
    "X_train, X_test, y_train, y_test = train_test_split(X, y, test_size=0.20)"
   ]
  },
  {
   "cell_type": "code",
   "execution_count": 43,
   "id": "effective-master",
   "metadata": {},
   "outputs": [],
   "source": [
    "X_train.to_csv('X_train', index=False)"
   ]
  },
  {
   "cell_type": "code",
   "execution_count": 44,
   "id": "usual-disposition",
   "metadata": {},
   "outputs": [],
   "source": [
    "y_train.to_csv('y_train', index=False)"
   ]
  },
  {
   "cell_type": "code",
   "execution_count": 45,
   "id": "alert-worship",
   "metadata": {},
   "outputs": [],
   "source": [
    "X_test.to_csv('X_test', index=False)"
   ]
  },
  {
   "cell_type": "code",
   "execution_count": 46,
   "id": "freelance-vietnamese",
   "metadata": {},
   "outputs": [],
   "source": [
    "y_test.to_csv('y_test', index=False)"
   ]
  },
  {
   "cell_type": "code",
   "execution_count": null,
   "id": "designed-triangle",
   "metadata": {},
   "outputs": [],
   "source": []
  }
 ],
 "metadata": {
  "kernelspec": {
   "display_name": "Python 3",
   "language": "python",
   "name": "python3"
  },
  "language_info": {
   "codemirror_mode": {
    "name": "ipython",
    "version": 3
   },
   "file_extension": ".py",
   "mimetype": "text/x-python",
   "name": "python",
   "nbconvert_exporter": "python",
   "pygments_lexer": "ipython3",
   "version": "3.8.6"
  },
  "toc": {
   "base_numbering": 1,
   "nav_menu": {},
   "number_sections": true,
   "sideBar": true,
   "skip_h1_title": false,
   "title_cell": "Table of Contents",
   "title_sidebar": "Contents",
   "toc_cell": false,
   "toc_position": {},
   "toc_section_display": true,
   "toc_window_display": false
  },
  "varInspector": {
   "cols": {
    "lenName": 16,
    "lenType": 16,
    "lenVar": 40
   },
   "kernels_config": {
    "python": {
     "delete_cmd_postfix": "",
     "delete_cmd_prefix": "del ",
     "library": "var_list.py",
     "varRefreshCmd": "print(var_dic_list())"
    },
    "r": {
     "delete_cmd_postfix": ") ",
     "delete_cmd_prefix": "rm(",
     "library": "var_list.r",
     "varRefreshCmd": "cat(var_dic_list()) "
    }
   },
   "types_to_exclude": [
    "module",
    "function",
    "builtin_function_or_method",
    "instance",
    "_Feature"
   ],
   "window_display": false
  }
 },
 "nbformat": 4,
 "nbformat_minor": 5
}
