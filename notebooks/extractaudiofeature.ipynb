{
 "cells": [
  {
   "cell_type": "code",
   "execution_count": 1,
   "id": "downtown-hopkins",
   "metadata": {},
   "outputs": [
    {
     "name": "stdout",
     "output_type": "stream",
     "text": [
      "Requirement already satisfied: librosa in /Users/apple/.pyenv/versions/3.8.6/envs/backintheussr/lib/python3.8/site-packages (0.8.0)\n",
      "Requirement already satisfied: scikit-learn!=0.19.0,>=0.14.0 in /Users/apple/.pyenv/versions/3.8.6/envs/backintheussr/lib/python3.8/site-packages (from librosa) (0.23.2)\n",
      "Requirement already satisfied: joblib>=0.14 in /Users/apple/.pyenv/versions/3.8.6/envs/backintheussr/lib/python3.8/site-packages (from librosa) (1.0.1)\n",
      "Requirement already satisfied: numpy>=1.15.0 in /Users/apple/.pyenv/versions/3.8.6/envs/backintheussr/lib/python3.8/site-packages (from librosa) (1.19.5)\n",
      "Requirement already satisfied: numba>=0.43.0 in /Users/apple/.pyenv/versions/3.8.6/envs/backintheussr/lib/python3.8/site-packages (from librosa) (0.52.0)\n",
      "Requirement already satisfied: decorator>=3.0.0 in /Users/apple/.pyenv/versions/3.8.6/envs/backintheussr/lib/python3.8/site-packages (from librosa) (4.4.2)\n",
      "Requirement already satisfied: audioread>=2.0.0 in /Users/apple/.pyenv/versions/3.8.6/envs/backintheussr/lib/python3.8/site-packages (from librosa) (2.1.9)\n",
      "Requirement already satisfied: soundfile>=0.9.0 in /Users/apple/.pyenv/versions/3.8.6/envs/backintheussr/lib/python3.8/site-packages (from librosa) (0.10.3.post1)\n",
      "Requirement already satisfied: scipy>=1.0.0 in /Users/apple/.pyenv/versions/3.8.6/envs/backintheussr/lib/python3.8/site-packages (from librosa) (1.5.2)\n",
      "Requirement already satisfied: resampy>=0.2.2 in /Users/apple/.pyenv/versions/3.8.6/envs/backintheussr/lib/python3.8/site-packages (from librosa) (0.2.2)\n",
      "Requirement already satisfied: pooch>=1.0 in /Users/apple/.pyenv/versions/3.8.6/envs/backintheussr/lib/python3.8/site-packages (from librosa) (1.3.0)\n",
      "Requirement already satisfied: llvmlite<0.36,>=0.35.0 in /Users/apple/.pyenv/versions/3.8.6/envs/backintheussr/lib/python3.8/site-packages (from numba>=0.43.0->librosa) (0.35.0)\n",
      "Requirement already satisfied: setuptools in /Users/apple/.pyenv/versions/3.8.6/envs/backintheussr/lib/python3.8/site-packages (from numba>=0.43.0->librosa) (53.0.0)\n",
      "Requirement already satisfied: appdirs in /Users/apple/.pyenv/versions/3.8.6/envs/backintheussr/lib/python3.8/site-packages (from pooch>=1.0->librosa) (1.4.4)\n",
      "Requirement already satisfied: packaging in /Users/apple/.pyenv/versions/3.8.6/envs/backintheussr/lib/python3.8/site-packages (from pooch>=1.0->librosa) (20.9)\n",
      "Requirement already satisfied: requests in /Users/apple/.pyenv/versions/3.8.6/envs/backintheussr/lib/python3.8/site-packages (from pooch>=1.0->librosa) (2.25.1)\n",
      "Requirement already satisfied: six>=1.3 in /Users/apple/.pyenv/versions/3.8.6/envs/backintheussr/lib/python3.8/site-packages (from resampy>=0.2.2->librosa) (1.15.0)\n",
      "Requirement already satisfied: threadpoolctl>=2.0.0 in /Users/apple/.pyenv/versions/3.8.6/envs/backintheussr/lib/python3.8/site-packages (from scikit-learn!=0.19.0,>=0.14.0->librosa) (2.1.0)\n",
      "Requirement already satisfied: cffi>=1.0 in /Users/apple/.pyenv/versions/3.8.6/envs/backintheussr/lib/python3.8/site-packages (from soundfile>=0.9.0->librosa) (1.14.5)\n",
      "Requirement already satisfied: pycparser in /Users/apple/.pyenv/versions/3.8.6/envs/backintheussr/lib/python3.8/site-packages (from cffi>=1.0->soundfile>=0.9.0->librosa) (2.20)\n",
      "Requirement already satisfied: pyparsing>=2.0.2 in /Users/apple/.pyenv/versions/3.8.6/envs/backintheussr/lib/python3.8/site-packages (from packaging->pooch>=1.0->librosa) (2.4.7)\n",
      "Requirement already satisfied: urllib3<1.27,>=1.21.1 in /Users/apple/.pyenv/versions/3.8.6/envs/backintheussr/lib/python3.8/site-packages (from requests->pooch>=1.0->librosa) (1.26.3)\n",
      "Requirement already satisfied: idna<3,>=2.5 in /Users/apple/.pyenv/versions/3.8.6/envs/backintheussr/lib/python3.8/site-packages (from requests->pooch>=1.0->librosa) (2.10)\n",
      "Requirement already satisfied: chardet<5,>=3.0.2 in /Users/apple/.pyenv/versions/3.8.6/envs/backintheussr/lib/python3.8/site-packages (from requests->pooch>=1.0->librosa) (4.0.0)\n",
      "Requirement already satisfied: certifi>=2017.4.17 in /Users/apple/.pyenv/versions/3.8.6/envs/backintheussr/lib/python3.8/site-packages (from requests->pooch>=1.0->librosa) (2020.12.5)\n"
     ]
    }
   ],
   "source": [
    "!pip install librosa"
   ]
  },
  {
   "cell_type": "code",
   "execution_count": 3,
   "id": "threatened-michael",
   "metadata": {},
   "outputs": [],
   "source": [
    "import os\n",
    "import librosa\n",
    "# import librosa.display\n",
    "import IPython\n",
    "# import IPython.display as ipd\n",
    "import numpy as np\n",
    "# import matplotlib.pyplot as plt\n",
    "import os, glob, pickle"
   ]
  },
  {
   "cell_type": "markdown",
   "id": "judicial-loading",
   "metadata": {},
   "source": [
    "# Load audio file"
   ]
  },
  {
   "cell_type": "code",
   "execution_count": 4,
   "id": "vital-story",
   "metadata": {},
   "outputs": [],
   "source": [
    "file1 = '/Users/apple/code/Celine-Guan/Test-audio/_0efYOjQYRc_0.wav'"
   ]
  },
  {
   "cell_type": "code",
   "execution_count": 5,
   "id": "corporate-factor",
   "metadata": {},
   "outputs": [],
   "source": [
    "file2 = '/Users/apple/code/Celine-Guan/Test-audio/_0efYOjQYRc_1.wav'"
   ]
  },
  {
   "cell_type": "code",
   "execution_count": 11,
   "id": "southwest-revision",
   "metadata": {},
   "outputs": [],
   "source": [
    "# ipd.Audio(file1)"
   ]
  },
  {
   "cell_type": "code",
   "execution_count": 12,
   "id": "interesting-peoples",
   "metadata": {},
   "outputs": [],
   "source": [
    "# ipd.Audio(file2)"
   ]
  },
  {
   "cell_type": "code",
   "execution_count": 13,
   "id": "substantial-cholesterol",
   "metadata": {},
   "outputs": [],
   "source": [
    "scl1, sr1 = librosa.load(file1)"
   ]
  },
  {
   "cell_type": "code",
   "execution_count": 14,
   "id": "exterior-clause",
   "metadata": {},
   "outputs": [],
   "source": [
    "scl2, sr2 = librosa.load(file2)"
   ]
  },
  {
   "cell_type": "markdown",
   "id": "sealed-ireland",
   "metadata": {},
   "source": [
    "# Plot Spectrogram"
   ]
  },
  {
   "cell_type": "code",
   "execution_count": 15,
   "id": "forbidden-department",
   "metadata": {},
   "outputs": [],
   "source": [
    "frame_size = 2048\n",
    "hop_size = 512"
   ]
  },
  {
   "cell_type": "code",
   "execution_count": 16,
   "id": "black-blanket",
   "metadata": {},
   "outputs": [],
   "source": [
    "scale = librosa.stft(scl1,n_fft=frame_size,hop_length = hop_size)"
   ]
  },
  {
   "cell_type": "code",
   "execution_count": 17,
   "id": "fifteen-worth",
   "metadata": {},
   "outputs": [],
   "source": [
    "Y_scale = np.abs(scale) **2"
   ]
  },
  {
   "cell_type": "code",
   "execution_count": 18,
   "id": "raised-privacy",
   "metadata": {},
   "outputs": [],
   "source": [
    "def plot_spectrogram(Y, sr, hop_length, y_axis=\"linear\"):\n",
    "    plt.figure(figsize=(25, 10))\n",
    "    librosa.display.specshow(Y, \n",
    "                             sr=sr, \n",
    "                             hop_length=hop_length, \n",
    "                             x_axis=\"time\", \n",
    "                             y_axis=y_axis)\n",
    "    plt.colorbar(format=\"%+2.f\")"
   ]
  },
  {
   "cell_type": "code",
   "execution_count": 19,
   "id": "written-lesbian",
   "metadata": {
    "scrolled": true
   },
   "outputs": [],
   "source": [
    "# Y_log_scale = librosa.power_to_db(Y_scale)\n",
    "# plot_spectrogram(Y_log_scale, sr1, hop_size, y_axis=\"log\");"
   ]
  },
  {
   "cell_type": "markdown",
   "id": "regional-jefferson",
   "metadata": {},
   "source": [
    "# Extract acoustic features"
   ]
  },
  {
   "cell_type": "code",
   "execution_count": 20,
   "id": "informal-boundary",
   "metadata": {},
   "outputs": [],
   "source": [
    "mfcc1 = librosa.feature.mfcc(y=scl1, sr=sr1, n_mfcc=40)"
   ]
  },
  {
   "cell_type": "code",
   "execution_count": 21,
   "id": "american-phoenix",
   "metadata": {},
   "outputs": [
    {
     "data": {
      "text/plain": [
       "(40, 347)"
      ]
     },
     "execution_count": 21,
     "metadata": {},
     "output_type": "execute_result"
    }
   ],
   "source": [
    "mfcc1.shape"
   ]
  },
  {
   "cell_type": "code",
   "execution_count": 22,
   "id": "institutional-charge",
   "metadata": {},
   "outputs": [],
   "source": [
    "stft=np.abs(librosa.stft(scl1))\n",
    "chroma1 = librosa.feature.chroma_stft(S=stft, sr=sr1)"
   ]
  },
  {
   "cell_type": "code",
   "execution_count": 23,
   "id": "treated-concrete",
   "metadata": {},
   "outputs": [
    {
     "data": {
      "text/plain": [
       "(12, 347)"
      ]
     },
     "execution_count": 23,
     "metadata": {},
     "output_type": "execute_result"
    }
   ],
   "source": [
    "chroma1.shape"
   ]
  },
  {
   "cell_type": "code",
   "execution_count": 24,
   "id": "center-month",
   "metadata": {},
   "outputs": [],
   "source": [
    "mel1 = librosa.feature.melspectrogram(scl1, sr=sr1)"
   ]
  },
  {
   "cell_type": "code",
   "execution_count": 25,
   "id": "mysterious-valentine",
   "metadata": {},
   "outputs": [
    {
     "data": {
      "text/plain": [
       "(128, 347)"
      ]
     },
     "execution_count": 25,
     "metadata": {},
     "output_type": "execute_result"
    }
   ],
   "source": [
    "mel1.shape"
   ]
  },
  {
   "cell_type": "code",
   "execution_count": 26,
   "id": "harmful-acrylic",
   "metadata": {},
   "outputs": [],
   "source": [
    "cent1 = librosa.feature.spectral_centroid(y=scl1, sr=sr1)"
   ]
  },
  {
   "cell_type": "code",
   "execution_count": 27,
   "id": "speaking-technician",
   "metadata": {},
   "outputs": [
    {
     "data": {
      "text/plain": [
       "(1, 347)"
      ]
     },
     "execution_count": 27,
     "metadata": {},
     "output_type": "execute_result"
    }
   ],
   "source": [
    "cent1.shape"
   ]
  },
  {
   "cell_type": "code",
   "execution_count": 28,
   "id": "loaded-senior",
   "metadata": {},
   "outputs": [],
   "source": [
    "#DataFlair - Extract features (mfcc, chroma, mel) from a sound file\n",
    "def extract_feature(file_name, mfcc, chroma, mel, centroid, tonnetz):\n",
    "    y, sr = librosa.load(file_name)\n",
    "    if chroma:\n",
    "        stft=np.abs(librosa.stft(y))\n",
    "        result=np.array([])\n",
    "    if mfcc:\n",
    "        mfccs=np.mean(librosa.feature.mfcc(y=y, sr=sr, n_mfcc=40).T, axis=0)\n",
    "        result=np.hstack((result, mfccs))\n",
    "    if chroma:\n",
    "        chroma=np.mean(librosa.feature.chroma_stft(S=stft, sr=sr).T,axis=0)\n",
    "        result=np.hstack((result, chroma))\n",
    "    if mel:\n",
    "        mel=np.mean(librosa.feature.melspectrogram(y, sr=sr).T,axis=0)\n",
    "        result=np.hstack((result, mel))\n",
    "    if centroid: \n",
    "        cent=np.mean(librosa.feature.spectral_centroid(y=y, sr=sr).T, axis=0)\n",
    "        result=np.hstack((result,cent))\n",
    "    if tonnetz:\n",
    "        ton = np.mean(librosa.feature.tonnetz(y=y, sr=sr).T, axis=0)\n",
    "        result=np.hstack((result,ton))\n",
    "    return result"
   ]
  },
  {
   "cell_type": "code",
   "execution_count": 29,
   "id": "altered-geology",
   "metadata": {},
   "outputs": [],
   "source": [
    "def load_data(test_size=0.2):\n",
    "    X=[]\n",
    "#     y=[]\n",
    "    names=[]\n",
    "    for file in glob.glob(\"/Users/apple/code/Celine-Guan/Test-audio/*.wav\"):\n",
    "        file_name=os.path.basename(file)\n",
    "        name = file_name.split(\".\")\n",
    "        names.append(name[0])\n",
    "#         emotion=emotions[file_name.split(\"-\")[2]]\n",
    "#         if emotion not in observed_emotions:\n",
    "#             continue\n",
    "        feature=extract_feature(file, mfcc=True, chroma=True, mel=True,centroid=True, tonnetz=True)\n",
    "        X.append(feature)\n",
    "#         y.append(emotion)\n",
    "    return X, names"
   ]
  },
  {
   "cell_type": "code",
   "execution_count": 10,
   "id": "quick-ballot",
   "metadata": {},
   "outputs": [
    {
     "name": "stderr",
     "output_type": "stream",
     "text": [
      "/Users/apple/.pyenv/versions/3.8.6/envs/backintheussr/lib/python3.8/site-packages/librosa/core/spectrum.py:222: UserWarning: n_fft=1024 is too small for input signal of length=768\n",
      "  warnings.warn(\n",
      "/Users/apple/.pyenv/versions/3.8.6/envs/backintheussr/lib/python3.8/site-packages/librosa/core/spectrum.py:222: UserWarning: n_fft=1024 is too small for input signal of length=968\n",
      "  warnings.warn(\n",
      "/Users/apple/.pyenv/versions/3.8.6/envs/backintheussr/lib/python3.8/site-packages/librosa/core/spectrum.py:222: UserWarning: n_fft=1024 is too small for input signal of length=576\n",
      "  warnings.warn(\n",
      "/Users/apple/.pyenv/versions/3.8.6/envs/backintheussr/lib/python3.8/site-packages/librosa/core/spectrum.py:222: UserWarning: n_fft=1024 is too small for input signal of length=696\n",
      "  warnings.warn(\n",
      "/Users/apple/.pyenv/versions/3.8.6/envs/backintheussr/lib/python3.8/site-packages/librosa/core/spectrum.py:222: UserWarning: n_fft=1024 is too small for input signal of length=920\n",
      "  warnings.warn(\n",
      "/Users/apple/.pyenv/versions/3.8.6/envs/backintheussr/lib/python3.8/site-packages/librosa/core/spectrum.py:222: UserWarning: n_fft=1024 is too small for input signal of length=680\n",
      "  warnings.warn(\n"
     ]
    }
   ],
   "source": [
    "features = load_data()"
   ]
  },
  {
   "cell_type": "code",
   "execution_count": null,
   "id": "falling-bryan",
   "metadata": {},
   "outputs": [],
   "source": [
    "import pandas as pd"
   ]
  },
  {
   "cell_type": "code",
   "execution_count": null,
   "id": "traditional-pension",
   "metadata": {},
   "outputs": [],
   "source": [
    "features = pd.DataFrame(features)"
   ]
  },
  {
   "cell_type": "code",
   "execution_count": null,
   "id": "applicable-pitch",
   "metadata": {},
   "outputs": [],
   "source": [
    "features"
   ]
  },
  {
   "cell_type": "code",
   "execution_count": null,
   "id": "fleet-outside",
   "metadata": {},
   "outputs": [],
   "source": [
    "#DataFlair - Load the data and extract features for each sound file\n",
    "# def load_data(test_size=0.2):\n",
    "#     x,y=[],[]\n",
    "#     for file in glob.glob(\"D:\\\\DataFlair\\\\ravdess data\\\\Actor_*\\\\*.wav\"):\n",
    "#         file_name=os.path.basename(file)\n",
    "#         emotion=emotions[file_name.split(\"-\")[2]]\n",
    "#         if emotion not in observed_emotions:\n",
    "#             continue\n",
    "#         feature=extract_feature(file, mfcc=True, chroma=True, mel=True)\n",
    "#         x.append(feature)\n",
    "#         y.append(emotion)\n",
    "#     return train_test_split(np.array(x), y, test_size=test_size, random_state=9)"
   ]
  },
  {
   "cell_type": "markdown",
   "id": "excited-neighborhood",
   "metadata": {},
   "source": [
    "# Sound duration"
   ]
  },
  {
   "cell_type": "code",
   "execution_count": null,
   "id": "centered-garlic",
   "metadata": {},
   "outputs": [],
   "source": [
    "# inputdir= \"/Users/apple/code/Celine-Guan/Test-audio/\"\n",
    "\n",
    "# duration = []\n",
    "# for wav in os.listdir(inputdir):\n",
    "#     y, sr = librosa.load(f'../raw_data/testing/{wav}')\n",
    "#     duration.append(librosa.get_duration(y,sr))   \n",
    "\n",
    "# sns.histplot(duration)"
   ]
  },
  {
   "cell_type": "code",
   "execution_count": null,
   "id": "integrated-correction",
   "metadata": {},
   "outputs": [],
   "source": []
  }
 ],
 "metadata": {
  "kernelspec": {
   "display_name": "Python 3",
   "language": "python",
   "name": "python3"
  },
  "language_info": {
   "codemirror_mode": {
    "name": "ipython",
    "version": 3
   },
   "file_extension": ".py",
   "mimetype": "text/x-python",
   "name": "python",
   "nbconvert_exporter": "python",
   "pygments_lexer": "ipython3",
   "version": "3.8.6"
  },
  "toc": {
   "base_numbering": 1,
   "nav_menu": {},
   "number_sections": true,
   "sideBar": true,
   "skip_h1_title": false,
   "title_cell": "Table of Contents",
   "title_sidebar": "Contents",
   "toc_cell": false,
   "toc_position": {
    "height": "calc(100% - 180px)",
    "left": "10px",
    "top": "150px",
    "width": "165px"
   },
   "toc_section_display": true,
   "toc_window_display": true
  }
 },
 "nbformat": 4,
 "nbformat_minor": 5
}
