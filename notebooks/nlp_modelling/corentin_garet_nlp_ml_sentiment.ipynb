{
 "cells": [
  {
   "cell_type": "code",
   "execution_count": 1,
   "id": "electric-circular",
   "metadata": {},
   "outputs": [],
   "source": [
    "import numpy as np\n",
    "import pandas as pd"
   ]
  },
  {
   "cell_type": "markdown",
   "id": "humanitarian-ladder",
   "metadata": {},
   "source": [
    "# Data loading and cleaning"
   ]
  },
  {
   "cell_type": "code",
   "execution_count": 2,
   "id": "assured-aggregate",
   "metadata": {},
   "outputs": [],
   "source": [
    "# Loading data from raw_data\n",
    "X_train = pd.read_csv('../../raw_data/clean_sentiment_data/X_train_.csv')\n",
    "y_train = pd.read_csv('../../raw_data/clean_sentiment_data/y_train_.csv')\n",
    "X_test = pd.read_csv('../../raw_data/clean_sentiment_data/X_test')\n",
    "y_test = pd.read_csv('../../raw_data/clean_sentiment_data/y_test.csv')"
   ]
  },
  {
   "cell_type": "code",
   "execution_count": 3,
   "id": "future-frederick",
   "metadata": {},
   "outputs": [
    {
     "data": {
      "text/html": [
       "<div>\n",
       "<style scoped>\n",
       "    .dataframe tbody tr th:only-of-type {\n",
       "        vertical-align: middle;\n",
       "    }\n",
       "\n",
       "    .dataframe tbody tr th {\n",
       "        vertical-align: top;\n",
       "    }\n",
       "\n",
       "    .dataframe thead th {\n",
       "        text-align: right;\n",
       "    }\n",
       "</style>\n",
       "<table border=\"1\" class=\"dataframe\">\n",
       "  <thead>\n",
       "    <tr style=\"text-align: right;\">\n",
       "      <th></th>\n",
       "      <th>Answer.sentiment</th>\n",
       "      <th>Segment_ID</th>\n",
       "    </tr>\n",
       "  </thead>\n",
       "  <tbody>\n",
       "    <tr>\n",
       "      <th>0</th>\n",
       "      <td>0.333333</td>\n",
       "      <td>245322_6</td>\n",
       "    </tr>\n",
       "    <tr>\n",
       "      <th>1</th>\n",
       "      <td>-0.333333</td>\n",
       "      <td>88797_12</td>\n",
       "    </tr>\n",
       "    <tr>\n",
       "      <th>2</th>\n",
       "      <td>-2.666667</td>\n",
       "      <td>137827_6</td>\n",
       "    </tr>\n",
       "    <tr>\n",
       "      <th>3</th>\n",
       "      <td>-1.333333</td>\n",
       "      <td>3MFNIag0wNE_9</td>\n",
       "    </tr>\n",
       "    <tr>\n",
       "      <th>4</th>\n",
       "      <td>2.000000</td>\n",
       "      <td>3sUS8vXbRwg_14</td>\n",
       "    </tr>\n",
       "  </tbody>\n",
       "</table>\n",
       "</div>"
      ],
      "text/plain": [
       "   Answer.sentiment      Segment_ID\n",
       "0          0.333333        245322_6\n",
       "1         -0.333333        88797_12\n",
       "2         -2.666667        137827_6\n",
       "3         -1.333333   3MFNIag0wNE_9\n",
       "4          2.000000  3sUS8vXbRwg_14"
      ]
     },
     "execution_count": 3,
     "metadata": {},
     "output_type": "execute_result"
    }
   ],
   "source": [
    "y_train.head()"
   ]
  },
  {
   "cell_type": "code",
   "execution_count": 4,
   "id": "knowing-application",
   "metadata": {},
   "outputs": [],
   "source": [
    "# Transforming y in pd.Series\n",
    "y_train = y_train['Answer.sentiment']\n",
    "y_test = y_test['Answer.sentiment']"
   ]
  },
  {
   "cell_type": "markdown",
   "id": "friendly-cherry",
   "metadata": {},
   "source": [
    "# Binary classification"
   ]
  },
  {
   "cell_type": "markdown",
   "id": "smooth-eight",
   "metadata": {},
   "source": [
    "## Data cleaning"
   ]
  },
  {
   "cell_type": "code",
   "execution_count": 5,
   "id": "alike-inspiration",
   "metadata": {},
   "outputs": [],
   "source": [
    "y_train_bin = y_train.apply(lambda x: 0 if x <= 0 else 1)"
   ]
  },
  {
   "cell_type": "code",
   "execution_count": 6,
   "id": "convenient-humor",
   "metadata": {},
   "outputs": [
    {
     "data": {
      "text/html": [
       "<div>\n",
       "<style scoped>\n",
       "    .dataframe tbody tr th:only-of-type {\n",
       "        vertical-align: middle;\n",
       "    }\n",
       "\n",
       "    .dataframe tbody tr th {\n",
       "        vertical-align: top;\n",
       "    }\n",
       "\n",
       "    .dataframe thead th {\n",
       "        text-align: right;\n",
       "    }\n",
       "</style>\n",
       "<table border=\"1\" class=\"dataframe\">\n",
       "  <thead>\n",
       "    <tr style=\"text-align: right;\">\n",
       "      <th></th>\n",
       "      <th>Phrase</th>\n",
       "    </tr>\n",
       "  </thead>\n",
       "  <tbody>\n",
       "    <tr>\n",
       "      <th>0</th>\n",
       "      <td>But (uhh) so yeah</td>\n",
       "    </tr>\n",
       "    <tr>\n",
       "      <th>1</th>\n",
       "      <td>The movie ruins it for itself</td>\n",
       "    </tr>\n",
       "    <tr>\n",
       "      <th>2</th>\n",
       "      <td>(umm) The acting's subpar, the screen the scr...</td>\n",
       "    </tr>\n",
       "    <tr>\n",
       "      <th>3</th>\n",
       "      <td>And now, because of that, Machinima got intimi...</td>\n",
       "    </tr>\n",
       "    <tr>\n",
       "      <th>4</th>\n",
       "      <td>I thought something would have to descend on m...</td>\n",
       "    </tr>\n",
       "    <tr>\n",
       "      <th>...</th>\n",
       "      <td>...</td>\n",
       "    </tr>\n",
       "    <tr>\n",
       "      <th>10837</th>\n",
       "      <td>When we're talking about a verb, a verb can ha...</td>\n",
       "    </tr>\n",
       "    <tr>\n",
       "      <th>10838</th>\n",
       "      <td>If you are continuing at OSU, I hope you have ...</td>\n",
       "    </tr>\n",
       "    <tr>\n",
       "      <th>10839</th>\n",
       "      <td>I come in and I say \"Okay, hi everybody I'm go...</td>\n",
       "    </tr>\n",
       "    <tr>\n",
       "      <th>10840</th>\n",
       "      <td>This time, in the birthplace of modern innovat...</td>\n",
       "    </tr>\n",
       "    <tr>\n",
       "      <th>10841</th>\n",
       "      <td>I think Steve Martin's done other better things</td>\n",
       "    </tr>\n",
       "  </tbody>\n",
       "</table>\n",
       "<p>10842 rows × 1 columns</p>\n",
       "</div>"
      ],
      "text/plain": [
       "                                                  Phrase\n",
       "0                                      But (uhh) so yeah\n",
       "1                          The movie ruins it for itself\n",
       "2       (umm) The acting's subpar, the screen the scr...\n",
       "3      And now, because of that, Machinima got intimi...\n",
       "4      I thought something would have to descend on m...\n",
       "...                                                  ...\n",
       "10837  When we're talking about a verb, a verb can ha...\n",
       "10838  If you are continuing at OSU, I hope you have ...\n",
       "10839  I come in and I say \"Okay, hi everybody I'm go...\n",
       "10840  This time, in the birthplace of modern innovat...\n",
       "10841    I think Steve Martin's done other better things\n",
       "\n",
       "[10842 rows x 1 columns]"
      ]
     },
     "execution_count": 6,
     "metadata": {},
     "output_type": "execute_result"
    }
   ],
   "source": [
    "X_train.drop(columns=['Segment_ID', 'clip', 'ID'])"
   ]
  },
  {
   "cell_type": "markdown",
   "id": "outer-tablet",
   "metadata": {},
   "source": [
    "## Basic preprocessing"
   ]
  },
  {
   "cell_type": "markdown",
   "id": "primary-clearing",
   "metadata": {},
   "source": [
    "### Lowercase"
   ]
  },
  {
   "cell_type": "code",
   "execution_count": 7,
   "id": "sharp-stevens",
   "metadata": {},
   "outputs": [],
   "source": [
    "def lower(x):\n",
    "    return x.lower()"
   ]
  },
  {
   "cell_type": "code",
   "execution_count": 8,
   "id": "great-boost",
   "metadata": {},
   "outputs": [],
   "source": [
    "X_train['clean_text'] = X_train['Phrase'].apply(lower)"
   ]
  },
  {
   "cell_type": "markdown",
   "id": "bored-specific",
   "metadata": {},
   "source": [
    "### Remove punctuation"
   ]
  },
  {
   "cell_type": "code",
   "execution_count": 9,
   "id": "proud-senate",
   "metadata": {},
   "outputs": [],
   "source": [
    "import string\n",
    "def punct(x):\n",
    "    for text in string.punctuation:\n",
    "        x = x.replace(text, '')\n",
    "    return x"
   ]
  },
  {
   "cell_type": "code",
   "execution_count": 10,
   "id": "operational-perception",
   "metadata": {},
   "outputs": [],
   "source": [
    "X_train['clean_text'] = X_train['clean_text'].apply(punct)"
   ]
  },
  {
   "cell_type": "markdown",
   "id": "mathematical-pharmacy",
   "metadata": {},
   "source": [
    "### Remove numbers"
   ]
  },
  {
   "cell_type": "code",
   "execution_count": 11,
   "id": "stretch-haven",
   "metadata": {},
   "outputs": [],
   "source": [
    "def del_num(x):\n",
    "    return ''.join([letter for letter in x if not letter.isdigit()])"
   ]
  },
  {
   "cell_type": "code",
   "execution_count": 12,
   "id": "wrong-nebraska",
   "metadata": {},
   "outputs": [],
   "source": [
    "X_train['clean_text'] = X_train['clean_text'].apply(del_num)"
   ]
  },
  {
   "cell_type": "markdown",
   "id": "unlikely-superintendent",
   "metadata": {},
   "source": [
    "## First model with bag of words CountVectorizer & MultinomialNB"
   ]
  },
  {
   "cell_type": "code",
   "execution_count": 13,
   "id": "cathedral-colleague",
   "metadata": {},
   "outputs": [],
   "source": [
    "# Create a validation set on X_train\n",
    "from sklearn.model_selection import train_test_split\n",
    "\n",
    "X_t, X_val, y_t, y_val = train_test_split(X_train, y_train_bin, test_size=0.2)"
   ]
  },
  {
   "cell_type": "code",
   "execution_count": 14,
   "id": "intense-school",
   "metadata": {},
   "outputs": [],
   "source": [
    "from sklearn.feature_extraction.text import CountVectorizer\n",
    "\n",
    "vectorizer = CountVectorizer()\n",
    "vectorizer.fit(X_t['clean_text'])\n",
    "X_t_vect1 = vectorizer.transform(X_t['clean_text'])"
   ]
  },
  {
   "cell_type": "code",
   "execution_count": 15,
   "id": "theoretical-father",
   "metadata": {},
   "outputs": [
    {
     "data": {
      "text/plain": [
       "MultinomialNB()"
      ]
     },
     "execution_count": 15,
     "metadata": {},
     "output_type": "execute_result"
    }
   ],
   "source": [
    "from sklearn.model_selection import cross_validate\n",
    "from sklearn.naive_bayes import MultinomialNB\n",
    "\n",
    "nb_model = MultinomialNB()\n",
    "\n",
    "nb_model.fit(X_t_vect1, y_t)"
   ]
  },
  {
   "cell_type": "code",
   "execution_count": 16,
   "id": "quiet-record",
   "metadata": {},
   "outputs": [],
   "source": [
    "# Vectorizer on X_val\n",
    "X_val_vect1 = vectorizer.transform(X_val['clean_text'])"
   ]
  },
  {
   "cell_type": "code",
   "execution_count": 17,
   "id": "cubic-victim",
   "metadata": {},
   "outputs": [
    {
     "data": {
      "text/plain": [
       "0.71"
      ]
     },
     "execution_count": 17,
     "metadata": {},
     "output_type": "execute_result"
    }
   ],
   "source": [
    "# Compute accuracy on validation set\n",
    "round(nb_model.score(X_val_vect1, y_val),2)"
   ]
  },
  {
   "cell_type": "code",
   "execution_count": 18,
   "id": "junior-illinois",
   "metadata": {},
   "outputs": [],
   "source": [
    "y_pred1 = nb_model.predict(X_val_vect1)"
   ]
  },
  {
   "cell_type": "code",
   "execution_count": 19,
   "id": "needed-friendship",
   "metadata": {},
   "outputs": [],
   "source": [
    "from sklearn.metrics import confusion_matrix\n",
    "\n",
    "matrix1 = confusion_matrix(y_val, y_pred1)"
   ]
  },
  {
   "cell_type": "code",
   "execution_count": 20,
   "id": "rotary-jaguar",
   "metadata": {},
   "outputs": [
    {
     "data": {
      "text/plain": [
       "<AxesSubplot:>"
      ]
     },
     "execution_count": 20,
     "metadata": {},
     "output_type": "execute_result"
    },
    {
     "data": {
      "image/png": "[encoded data removed]",
      "text/plain": [
       "<Figure size 432x288 with 2 Axes>"
      ]
     },
     "metadata": {
      "needs_background": "light"
     },
     "output_type": "display_data"
    }
   ],
   "source": [
    "import seaborn as sns\n",
    "sns.heatmap(matrix1, annot=True)"
   ]
  },
  {
   "cell_type": "markdown",
   "id": "intensive-structure",
   "metadata": {},
   "source": [
    "## Exploration of predicts from model 1"
   ]
  },
  {
   "cell_type": "code",
   "execution_count": 21,
   "id": "existing-likelihood",
   "metadata": {},
   "outputs": [],
   "source": [
    "y_val_pred = nb_model.predict(X_val_vect1)"
   ]
  },
  {
   "cell_type": "code",
   "execution_count": 22,
   "id": "lucky-inquiry",
   "metadata": {},
   "outputs": [],
   "source": [
    "results = X_val.copy()"
   ]
  },
  {
   "cell_type": "code",
   "execution_count": 23,
   "id": "whole-saver",
   "metadata": {},
   "outputs": [],
   "source": [
    "results['y_val'] = y_val"
   ]
  },
  {
   "cell_type": "code",
   "execution_count": 24,
   "id": "developed-celebration",
   "metadata": {},
   "outputs": [],
   "source": [
    "results['y_pred'] = y_val_pred"
   ]
  },
  {
   "cell_type": "code",
   "execution_count": 25,
   "id": "accepting-waterproof",
   "metadata": {},
   "outputs": [],
   "source": [
    "results = results.drop(columns=['clip', 'ID', 'Phrase'])"
   ]
  },
  {
   "cell_type": "code",
   "execution_count": 26,
   "id": "unknown-olive",
   "metadata": {},
   "outputs": [],
   "source": [
    "results['results'] = 1 - abs(results['y_val'] - results['y_pred'])"
   ]
  },
  {
   "cell_type": "code",
   "execution_count": 27,
   "id": "composed-jason",
   "metadata": {},
   "outputs": [
    {
     "data": {
      "text/plain": [
       "(2169, 5)"
      ]
     },
     "execution_count": 27,
     "metadata": {},
     "output_type": "execute_result"
    }
   ],
   "source": [
    "results.shape"
   ]
  },
  {
   "cell_type": "code",
   "execution_count": 28,
   "id": "angry-gateway",
   "metadata": {},
   "outputs": [],
   "source": [
    "tete_faux = results[results['results'] == 0 ]"
   ]
  },
  {
   "cell_type": "code",
   "execution_count": 29,
   "id": "soviet-peoples",
   "metadata": {},
   "outputs": [],
   "source": [
    "tete_faux.to_csv('False_nlp_ml_m1.csv', index=False)"
   ]
  },
  {
   "cell_type": "markdown",
   "id": "unlikely-animal",
   "metadata": {},
   "source": [
    "## Tf-Id vectorizer"
   ]
  },
  {
   "cell_type": "code",
   "execution_count": 30,
   "id": "chronic-bedroom",
   "metadata": {},
   "outputs": [],
   "source": [
    "# Creation of a pipeline a grid search to know which parameters are better \n",
    "\n",
    "from sklearn.pipeline import Pipeline\n",
    "from sklearn.feature_extraction.text import TfidfVectorizer\n",
    "from sklearn.model_selection import GridSearchCV\n",
    "\n",
    "pipe = Pipeline([\n",
    "    ('vect', TfidfVectorizer()),\n",
    "    ('model', MultinomialNB ())\n",
    "])\n",
    "\n",
    "grid_params = {'vect__max_df': [0.7, 0.8, 0.9],\n",
    "              'vect__max_features': [30, 40, 50, 60],\n",
    "              'vect__ngram_range': [(1,1), (2,2)],\n",
    "              'vect__min_df': [0.8, 0.9, 1]}\n",
    "\n",
    "search = GridSearchCV(pipe, grid_params, n_jobs=-1, verbose=1, scoring='accuracy',cv=5)"
   ]
  },
  {
   "cell_type": "code",
   "execution_count": 31,
   "id": "lesser-exhaust",
   "metadata": {},
   "outputs": [
    {
     "name": "stdout",
     "output_type": "stream",
     "text": [
      "Fitting 5 folds for each of 72 candidates, totalling 360 fits\n"
     ]
    },
    {
     "name": "stderr",
     "output_type": "stream",
     "text": [
      "/home/corentin/.pyenv/versions/3.8.6/envs/backinthessr/lib/python3.8/site-packages/sklearn/model_selection/_search.py:918: UserWarning: One or more of the test scores are non-finite: [       nan        nan        nan        nan 0.65317718 0.59472054\n",
      "        nan        nan        nan        nan 0.6546774  0.60186891\n",
      "        nan        nan        nan        nan 0.66424512 0.60567281\n",
      "        nan        nan        nan        nan 0.66793554 0.60797922\n",
      "        nan        nan        nan        nan 0.65317718 0.59472054\n",
      "        nan        nan        nan        nan 0.6546774  0.60186891\n",
      "        nan        nan        nan        nan 0.66424512 0.60567281\n",
      "        nan        nan        nan        nan 0.66793554 0.60797922\n",
      "        nan        nan        nan        nan 0.65317718 0.59472054\n",
      "        nan        nan        nan        nan 0.6546774  0.60186891\n",
      "        nan        nan        nan        nan 0.66424512 0.60567281\n",
      "        nan        nan        nan        nan 0.66793554 0.60797922]\n",
      "  warnings.warn(\n"
     ]
    },
    {
     "data": {
      "text/plain": [
       "GridSearchCV(cv=5,\n",
       "             estimator=Pipeline(steps=[('vect', TfidfVectorizer()),\n",
       "                                       ('model', MultinomialNB())]),\n",
       "             n_jobs=-1,\n",
       "             param_grid={'vect__max_df': [0.7, 0.8, 0.9],\n",
       "                         'vect__max_features': [30, 40, 50, 60],\n",
       "                         'vect__min_df': [0.8, 0.9, 1],\n",
       "                         'vect__ngram_range': [(1, 1), (2, 2)]},\n",
       "             scoring='accuracy', verbose=1)"
      ]
     },
     "execution_count": 31,
     "metadata": {},
     "output_type": "execute_result"
    }
   ],
   "source": [
    "search.fit(X_t['clean_text'], y_t)"
   ]
  },
  {
   "cell_type": "code",
   "execution_count": 32,
   "id": "elegant-universe",
   "metadata": {},
   "outputs": [
    {
     "data": {
      "text/plain": [
       "{'vect__max_df': 0.7,\n",
       " 'vect__max_features': 60,\n",
       " 'vect__min_df': 1,\n",
       " 'vect__ngram_range': (1, 1)}"
      ]
     },
     "execution_count": 32,
     "metadata": {},
     "output_type": "execute_result"
    }
   ],
   "source": [
    "search.best_params_"
   ]
  },
  {
   "cell_type": "code",
   "execution_count": 33,
   "id": "proved-great",
   "metadata": {},
   "outputs": [],
   "source": [
    "pipe_good = Pipeline([\n",
    "    ('vect', TfidfVectorizer(max_df = 0.7, max_features = 50, ngram_range = (1,1))),\n",
    "    ('model', MultinomialNB())\n",
    "])"
   ]
  },
  {
   "cell_type": "code",
   "execution_count": 34,
   "id": "japanese-wellington",
   "metadata": {},
   "outputs": [
    {
     "data": {
      "text/plain": [
       "Pipeline(steps=[('vect', TfidfVectorizer(max_df=0.7, max_features=50)),\n",
       "                ('model', MultinomialNB())])"
      ]
     },
     "execution_count": 34,
     "metadata": {},
     "output_type": "execute_result"
    }
   ],
   "source": [
    "pipe_good.fit(X_t['clean_text'], y_t)"
   ]
  },
  {
   "cell_type": "code",
   "execution_count": 35,
   "id": "undefined-museum",
   "metadata": {},
   "outputs": [
    {
     "data": {
      "text/plain": [
       "0.66"
      ]
     },
     "execution_count": 35,
     "metadata": {},
     "output_type": "execute_result"
    }
   ],
   "source": [
    "round(pipe_good.score(X_val['clean_text'], y_val),2)"
   ]
  },
  {
   "cell_type": "code",
   "execution_count": 36,
   "id": "bound-preparation",
   "metadata": {},
   "outputs": [],
   "source": [
    "import seaborn as sns"
   ]
  },
  {
   "cell_type": "code",
   "execution_count": 37,
   "id": "indirect-webster",
   "metadata": {},
   "outputs": [
    {
     "data": {
      "text/plain": [
       "<AxesSubplot:>"
      ]
     },
     "execution_count": 37,
     "metadata": {},
     "output_type": "execute_result"
    },
    {
     "data": {
      "image/png": "[encoded data removed]",
      "text/plain": [
       "<Figure size 432x288 with 2 Axes>"
      ]
     },
     "metadata": {
      "needs_background": "light"
     },
     "output_type": "display_data"
    }
   ],
   "source": [
    "y_pred2 = pipe_good.predict(X_val['clean_text'])\n",
    "matrix2 = confusion_matrix(y_val, y_pred2)\n",
    "sns.heatmap(matrix2, annot=True)"
   ]
  },
  {
   "cell_type": "markdown",
   "id": "wooden-pottery",
   "metadata": {},
   "source": [
    "## Test previous models with more preprocessing: stopwords + lemmising"
   ]
  },
  {
   "cell_type": "markdown",
   "id": "about-richards",
   "metadata": {},
   "source": [
    "### Remove stopwords"
   ]
  },
  {
   "cell_type": "code",
   "execution_count": 38,
   "id": "stretch-channels",
   "metadata": {},
   "outputs": [],
   "source": [
    "from nltk.corpus import stopwords\n",
    "from nltk.tokenize import word_tokenize\n",
    "\n",
    "stop_words = set(stopwords.words('english'))\n",
    "\n",
    "def rem_stop(x):\n",
    "    word_tokens = word_tokenize(x)\n",
    "    return ' '.join([word for word in word_tokens if word not in stop_words])\n",
    "X_train['clean_text2'] = X_train['clean_text'].apply(rem_stop)"
   ]
  },
  {
   "cell_type": "code",
   "execution_count": 39,
   "id": "wooden-texture",
   "metadata": {},
   "outputs": [
    {
     "data": {
      "text/html": [
       "<div>\n",
       "<style scoped>\n",
       "    .dataframe tbody tr th:only-of-type {\n",
       "        vertical-align: middle;\n",
       "    }\n",
       "\n",
       "    .dataframe tbody tr th {\n",
       "        vertical-align: top;\n",
       "    }\n",
       "\n",
       "    .dataframe thead th {\n",
       "        text-align: right;\n",
       "    }\n",
       "</style>\n",
       "<table border=\"1\" class=\"dataframe\">\n",
       "  <thead>\n",
       "    <tr style=\"text-align: right;\">\n",
       "      <th></th>\n",
       "      <th>Segment_ID</th>\n",
       "      <th>Phrase</th>\n",
       "      <th>clip</th>\n",
       "      <th>ID</th>\n",
       "      <th>clean_text</th>\n",
       "      <th>clean_text2</th>\n",
       "    </tr>\n",
       "  </thead>\n",
       "  <tbody>\n",
       "    <tr>\n",
       "      <th>0</th>\n",
       "      <td>245322_6</td>\n",
       "      <td>But (uhh) so yeah</td>\n",
       "      <td>6</td>\n",
       "      <td>245322</td>\n",
       "      <td>but uhh so yeah</td>\n",
       "      <td>uhh yeah</td>\n",
       "    </tr>\n",
       "    <tr>\n",
       "      <th>1</th>\n",
       "      <td>88797_12</td>\n",
       "      <td>The movie ruins it for itself</td>\n",
       "      <td>12</td>\n",
       "      <td>88797</td>\n",
       "      <td>the movie ruins it for itself</td>\n",
       "      <td>movie ruins</td>\n",
       "    </tr>\n",
       "    <tr>\n",
       "      <th>2</th>\n",
       "      <td>137827_6</td>\n",
       "      <td>(umm) The acting's subpar, the screen the scr...</td>\n",
       "      <td>6</td>\n",
       "      <td>137827</td>\n",
       "      <td>umm the actings subpar the screen the screenp...</td>\n",
       "      <td>umm actings subpar screen screenplay stutter d...</td>\n",
       "    </tr>\n",
       "    <tr>\n",
       "      <th>3</th>\n",
       "      <td>3MFNIag0wNE_9</td>\n",
       "      <td>And now, because of that, Machinima got intimi...</td>\n",
       "      <td>9</td>\n",
       "      <td>3MFNIag0wNE</td>\n",
       "      <td>and now because of that machinima got intimida...</td>\n",
       "      <td>machinima got intimidated decided shut show en...</td>\n",
       "    </tr>\n",
       "    <tr>\n",
       "      <th>4</th>\n",
       "      <td>3sUS8vXbRwg_14</td>\n",
       "      <td>I thought something would have to descend on m...</td>\n",
       "      <td>14</td>\n",
       "      <td>3sUS8vXbRwg</td>\n",
       "      <td>i thought something would have to descend on m...</td>\n",
       "      <td>thought something would descend would level pu...</td>\n",
       "    </tr>\n",
       "    <tr>\n",
       "      <th>5</th>\n",
       "      <td>fz-MzQcOBwQ_12</td>\n",
       "      <td>I don't say this lightly but this is probably...</td>\n",
       "      <td>12</td>\n",
       "      <td>fz-MzQcOBwQ</td>\n",
       "      <td>i dont say this lightly but this is probably ...</td>\n",
       "      <td>dont say lightly probably one best books ever ...</td>\n",
       "    </tr>\n",
       "    <tr>\n",
       "      <th>6</th>\n",
       "      <td>106941_2</td>\n",
       "      <td>Surely, surely (stutter) wasn't hostile</td>\n",
       "      <td>2</td>\n",
       "      <td>106941</td>\n",
       "      <td>surely surely stutter wasnt hostile</td>\n",
       "      <td>surely surely stutter wasnt hostile</td>\n",
       "    </tr>\n",
       "    <tr>\n",
       "      <th>7</th>\n",
       "      <td>Kpe5fISxRTg_6</td>\n",
       "      <td>Basically you're going to want to increase flu...</td>\n",
       "      <td>6</td>\n",
       "      <td>Kpe5fISxRTg</td>\n",
       "      <td>basically youre going to want to increase flui...</td>\n",
       "      <td>basically youre going want increase fluids res...</td>\n",
       "    </tr>\n",
       "    <tr>\n",
       "      <th>8</th>\n",
       "      <td>67uKYi7mslE_14</td>\n",
       "      <td>That topic has come up before so that’s somet...</td>\n",
       "      <td>14</td>\n",
       "      <td>67uKYi7mslE</td>\n",
       "      <td>that topic has come up before so that’s somet...</td>\n",
       "      <td>topic come ’ something ’ looking maybe somethi...</td>\n",
       "    </tr>\n",
       "    <tr>\n",
       "      <th>9</th>\n",
       "      <td>180923_11</td>\n",
       "      <td>I found this film to be one of the worst Disn...</td>\n",
       "      <td>11</td>\n",
       "      <td>180923</td>\n",
       "      <td>i found this film to be one of the worst disn...</td>\n",
       "      <td>found film one worst disney movies</td>\n",
       "    </tr>\n",
       "  </tbody>\n",
       "</table>\n",
       "</div>"
      ],
      "text/plain": [
       "       Segment_ID                                             Phrase  clip  \\\n",
       "0        245322_6                                  But (uhh) so yeah     6   \n",
       "1        88797_12                      The movie ruins it for itself    12   \n",
       "2        137827_6   (umm) The acting's subpar, the screen the scr...     6   \n",
       "3   3MFNIag0wNE_9  And now, because of that, Machinima got intimi...     9   \n",
       "4  3sUS8vXbRwg_14  I thought something would have to descend on m...    14   \n",
       "5  fz-MzQcOBwQ_12   I don't say this lightly but this is probably...    12   \n",
       "6        106941_2            Surely, surely (stutter) wasn't hostile     2   \n",
       "7   Kpe5fISxRTg_6  Basically you're going to want to increase flu...     6   \n",
       "8  67uKYi7mslE_14   That topic has come up before so that’s somet...    14   \n",
       "9       180923_11   I found this film to be one of the worst Disn...    11   \n",
       "\n",
       "            ID                                         clean_text  \\\n",
       "0       245322                                    but uhh so yeah   \n",
       "1        88797                      the movie ruins it for itself   \n",
       "2       137827   umm the actings subpar the screen the screenp...   \n",
       "3  3MFNIag0wNE  and now because of that machinima got intimida...   \n",
       "4  3sUS8vXbRwg  i thought something would have to descend on m...   \n",
       "5  fz-MzQcOBwQ   i dont say this lightly but this is probably ...   \n",
       "6       106941                surely surely stutter wasnt hostile   \n",
       "7  Kpe5fISxRTg  basically youre going to want to increase flui...   \n",
       "8  67uKYi7mslE   that topic has come up before so that’s somet...   \n",
       "9       180923   i found this film to be one of the worst disn...   \n",
       "\n",
       "                                         clean_text2  \n",
       "0                                           uhh yeah  \n",
       "1                                        movie ruins  \n",
       "2  umm actings subpar screen screenplay stutter d...  \n",
       "3  machinima got intimidated decided shut show en...  \n",
       "4  thought something would descend would level pu...  \n",
       "5  dont say lightly probably one best books ever ...  \n",
       "6                surely surely stutter wasnt hostile  \n",
       "7  basically youre going want increase fluids res...  \n",
       "8  topic come ’ something ’ looking maybe somethi...  \n",
       "9                 found film one worst disney movies  "
      ]
     },
     "execution_count": 39,
     "metadata": {},
     "output_type": "execute_result"
    }
   ],
   "source": [
    "X_train.head(10)"
   ]
  },
  {
   "cell_type": "markdown",
   "id": "separated-powder",
   "metadata": {},
   "source": [
    "### Lemmatizing"
   ]
  },
  {
   "cell_type": "code",
   "execution_count": 40,
   "id": "pursuant-petroleum",
   "metadata": {},
   "outputs": [],
   "source": [
    "from nltk.stem import WordNetLemmatizer\n",
    "\n",
    "lemmatizer = WordNetLemmatizer()\n",
    "\n",
    "def lemmatize(x):\n",
    "    a = x.split(' ')\n",
    "    lemmatized = [lemmatizer.lemmatize(word) for word in a]\n",
    "    return ' '.join(lemmatized)"
   ]
  },
  {
   "cell_type": "code",
   "execution_count": 41,
   "id": "accepting-governor",
   "metadata": {},
   "outputs": [],
   "source": [
    "X_train['clean_text2'] = X_train['clean_text2'].apply(lemmatize)"
   ]
  },
  {
   "cell_type": "code",
   "execution_count": 42,
   "id": "green-negotiation",
   "metadata": {},
   "outputs": [
    {
     "data": {
      "text/html": [
       "<div>\n",
       "<style scoped>\n",
       "    .dataframe tbody tr th:only-of-type {\n",
       "        vertical-align: middle;\n",
       "    }\n",
       "\n",
       "    .dataframe tbody tr th {\n",
       "        vertical-align: top;\n",
       "    }\n",
       "\n",
       "    .dataframe thead th {\n",
       "        text-align: right;\n",
       "    }\n",
       "</style>\n",
       "<table border=\"1\" class=\"dataframe\">\n",
       "  <thead>\n",
       "    <tr style=\"text-align: right;\">\n",
       "      <th></th>\n",
       "      <th>Segment_ID</th>\n",
       "      <th>Phrase</th>\n",
       "      <th>clip</th>\n",
       "      <th>ID</th>\n",
       "      <th>clean_text</th>\n",
       "      <th>clean_text2</th>\n",
       "    </tr>\n",
       "  </thead>\n",
       "  <tbody>\n",
       "    <tr>\n",
       "      <th>0</th>\n",
       "      <td>245322_6</td>\n",
       "      <td>But (uhh) so yeah</td>\n",
       "      <td>6</td>\n",
       "      <td>245322</td>\n",
       "      <td>but uhh so yeah</td>\n",
       "      <td>uhh yeah</td>\n",
       "    </tr>\n",
       "    <tr>\n",
       "      <th>1</th>\n",
       "      <td>88797_12</td>\n",
       "      <td>The movie ruins it for itself</td>\n",
       "      <td>12</td>\n",
       "      <td>88797</td>\n",
       "      <td>the movie ruins it for itself</td>\n",
       "      <td>movie ruin</td>\n",
       "    </tr>\n",
       "    <tr>\n",
       "      <th>2</th>\n",
       "      <td>137827_6</td>\n",
       "      <td>(umm) The acting's subpar, the screen the scr...</td>\n",
       "      <td>6</td>\n",
       "      <td>137827</td>\n",
       "      <td>umm the actings subpar the screen the screenp...</td>\n",
       "      <td>umm acting subpar screen screenplay stutter di...</td>\n",
       "    </tr>\n",
       "    <tr>\n",
       "      <th>3</th>\n",
       "      <td>3MFNIag0wNE_9</td>\n",
       "      <td>And now, because of that, Machinima got intimi...</td>\n",
       "      <td>9</td>\n",
       "      <td>3MFNIag0wNE</td>\n",
       "      <td>and now because of that machinima got intimida...</td>\n",
       "      <td>machinima got intimidated decided shut show en...</td>\n",
       "    </tr>\n",
       "    <tr>\n",
       "      <th>4</th>\n",
       "      <td>3sUS8vXbRwg_14</td>\n",
       "      <td>I thought something would have to descend on m...</td>\n",
       "      <td>14</td>\n",
       "      <td>3sUS8vXbRwg</td>\n",
       "      <td>i thought something would have to descend on m...</td>\n",
       "      <td>thought something would descend would level pu...</td>\n",
       "    </tr>\n",
       "    <tr>\n",
       "      <th>5</th>\n",
       "      <td>fz-MzQcOBwQ_12</td>\n",
       "      <td>I don't say this lightly but this is probably...</td>\n",
       "      <td>12</td>\n",
       "      <td>fz-MzQcOBwQ</td>\n",
       "      <td>i dont say this lightly but this is probably ...</td>\n",
       "      <td>dont say lightly probably one best book ever read</td>\n",
       "    </tr>\n",
       "    <tr>\n",
       "      <th>6</th>\n",
       "      <td>106941_2</td>\n",
       "      <td>Surely, surely (stutter) wasn't hostile</td>\n",
       "      <td>2</td>\n",
       "      <td>106941</td>\n",
       "      <td>surely surely stutter wasnt hostile</td>\n",
       "      <td>surely surely stutter wasnt hostile</td>\n",
       "    </tr>\n",
       "    <tr>\n",
       "      <th>7</th>\n",
       "      <td>Kpe5fISxRTg_6</td>\n",
       "      <td>Basically you're going to want to increase flu...</td>\n",
       "      <td>6</td>\n",
       "      <td>Kpe5fISxRTg</td>\n",
       "      <td>basically youre going to want to increase flui...</td>\n",
       "      <td>basically youre going want increase fluid rest...</td>\n",
       "    </tr>\n",
       "    <tr>\n",
       "      <th>8</th>\n",
       "      <td>67uKYi7mslE_14</td>\n",
       "      <td>That topic has come up before so that’s somet...</td>\n",
       "      <td>14</td>\n",
       "      <td>67uKYi7mslE</td>\n",
       "      <td>that topic has come up before so that’s somet...</td>\n",
       "      <td>topic come ’ something ’ looking maybe somethi...</td>\n",
       "    </tr>\n",
       "    <tr>\n",
       "      <th>9</th>\n",
       "      <td>180923_11</td>\n",
       "      <td>I found this film to be one of the worst Disn...</td>\n",
       "      <td>11</td>\n",
       "      <td>180923</td>\n",
       "      <td>i found this film to be one of the worst disn...</td>\n",
       "      <td>found film one worst disney movie</td>\n",
       "    </tr>\n",
       "  </tbody>\n",
       "</table>\n",
       "</div>"
      ],
      "text/plain": [
       "       Segment_ID                                             Phrase  clip  \\\n",
       "0        245322_6                                  But (uhh) so yeah     6   \n",
       "1        88797_12                      The movie ruins it for itself    12   \n",
       "2        137827_6   (umm) The acting's subpar, the screen the scr...     6   \n",
       "3   3MFNIag0wNE_9  And now, because of that, Machinima got intimi...     9   \n",
       "4  3sUS8vXbRwg_14  I thought something would have to descend on m...    14   \n",
       "5  fz-MzQcOBwQ_12   I don't say this lightly but this is probably...    12   \n",
       "6        106941_2            Surely, surely (stutter) wasn't hostile     2   \n",
       "7   Kpe5fISxRTg_6  Basically you're going to want to increase flu...     6   \n",
       "8  67uKYi7mslE_14   That topic has come up before so that’s somet...    14   \n",
       "9       180923_11   I found this film to be one of the worst Disn...    11   \n",
       "\n",
       "            ID                                         clean_text  \\\n",
       "0       245322                                    but uhh so yeah   \n",
       "1        88797                      the movie ruins it for itself   \n",
       "2       137827   umm the actings subpar the screen the screenp...   \n",
       "3  3MFNIag0wNE  and now because of that machinima got intimida...   \n",
       "4  3sUS8vXbRwg  i thought something would have to descend on m...   \n",
       "5  fz-MzQcOBwQ   i dont say this lightly but this is probably ...   \n",
       "6       106941                surely surely stutter wasnt hostile   \n",
       "7  Kpe5fISxRTg  basically youre going to want to increase flui...   \n",
       "8  67uKYi7mslE   that topic has come up before so that’s somet...   \n",
       "9       180923   i found this film to be one of the worst disn...   \n",
       "\n",
       "                                         clean_text2  \n",
       "0                                           uhh yeah  \n",
       "1                                         movie ruin  \n",
       "2  umm acting subpar screen screenplay stutter di...  \n",
       "3  machinima got intimidated decided shut show en...  \n",
       "4  thought something would descend would level pu...  \n",
       "5  dont say lightly probably one best book ever read  \n",
       "6                surely surely stutter wasnt hostile  \n",
       "7  basically youre going want increase fluid rest...  \n",
       "8  topic come ’ something ’ looking maybe somethi...  \n",
       "9                  found film one worst disney movie  "
      ]
     },
     "execution_count": 42,
     "metadata": {},
     "output_type": "execute_result"
    }
   ],
   "source": [
    "X_train.head(10)"
   ]
  },
  {
   "cell_type": "markdown",
   "id": "intensive-skirt",
   "metadata": {},
   "source": [
    "### Testing model on it"
   ]
  },
  {
   "cell_type": "code",
   "execution_count": 43,
   "id": "static-mercury",
   "metadata": {},
   "outputs": [],
   "source": [
    "# Create a validation set on X_train\n",
    "from sklearn.model_selection import train_test_split\n",
    "\n",
    "X_t, X_val, y_t, y_val = train_test_split(X_train, y_train_bin, test_size=0.2)"
   ]
  },
  {
   "cell_type": "code",
   "execution_count": 44,
   "id": "played-constitutional",
   "metadata": {},
   "outputs": [],
   "source": [
    "vectorizer = CountVectorizer()\n",
    "vectorizer.fit(X_t['clean_text2'])\n",
    "X_t_vect2 = vectorizer.transform(X_t['clean_text2'])"
   ]
  },
  {
   "cell_type": "code",
   "execution_count": 45,
   "id": "material-perth",
   "metadata": {},
   "outputs": [
    {
     "data": {
      "text/plain": [
       "MultinomialNB()"
      ]
     },
     "execution_count": 45,
     "metadata": {},
     "output_type": "execute_result"
    }
   ],
   "source": [
    "nb_model2 = MultinomialNB()\n",
    "\n",
    "nb_model2.fit(X_t_vect2, y_t)"
   ]
  },
  {
   "cell_type": "code",
   "execution_count": 46,
   "id": "incorporate-directive",
   "metadata": {},
   "outputs": [],
   "source": [
    "# Vectorizer on X_val\n",
    "X_val_vect2 = vectorizer.transform(X_val['clean_text2'])"
   ]
  },
  {
   "cell_type": "code",
   "execution_count": 47,
   "id": "conscious-damage",
   "metadata": {},
   "outputs": [
    {
     "data": {
      "text/plain": [
       "0.71"
      ]
     },
     "execution_count": 47,
     "metadata": {},
     "output_type": "execute_result"
    }
   ],
   "source": [
    "# Compute accuracy on validation set\n",
    "round(nb_model2.score(X_val_vect2, y_val),2)"
   ]
  },
  {
   "cell_type": "code",
   "execution_count": 48,
   "id": "altered-meeting",
   "metadata": {},
   "outputs": [],
   "source": [
    "y_pred2 = nb_model2.predict(X_val_vect2)"
   ]
  },
  {
   "cell_type": "code",
   "execution_count": 49,
   "id": "random-robinson",
   "metadata": {},
   "outputs": [],
   "source": [
    "matrix3 = confusion_matrix(y_val, y_pred2)"
   ]
  },
  {
   "cell_type": "code",
   "execution_count": 50,
   "id": "charming-exhibit",
   "metadata": {},
   "outputs": [
    {
     "data": {
      "text/plain": [
       "<AxesSubplot:>"
      ]
     },
     "execution_count": 50,
     "metadata": {},
     "output_type": "execute_result"
    },
    {
     "data": {
      "image/png": "[encoded data removed]",
      "text/plain": [
       "<Figure size 432x288 with 2 Axes>"
      ]
     },
     "metadata": {
      "needs_background": "light"
     },
     "output_type": "display_data"
    }
   ],
   "source": [
    "import seaborn as sns\n",
    "sns.heatmap(matrix3, annot=True)"
   ]
  },
  {
   "cell_type": "markdown",
   "id": "expected-fossil",
   "metadata": {},
   "source": [
    "# 3-dim classification -0.5, 0.5"
   ]
  },
  {
   "cell_type": "markdown",
   "id": "exempt-demographic",
   "metadata": {},
   "source": [
    "## Data cleaning"
   ]
  },
  {
   "cell_type": "code",
   "execution_count": 51,
   "id": "soviet-immunology",
   "metadata": {},
   "outputs": [],
   "source": [
    "# Let's create 3 classes: -1 if neg, 0 if neutral, 1 if positive. We settle netral btw -0.5 & 0.5\n",
    "\n",
    "def first_split(x):\n",
    "    if x < -0.5:\n",
    "        return -1\n",
    "    if x < 0.5:\n",
    "        return 0\n",
    "    else:\n",
    "        return 1"
   ]
  },
  {
   "cell_type": "code",
   "execution_count": 52,
   "id": "municipal-nomination",
   "metadata": {},
   "outputs": [],
   "source": [
    "y_train_class3 = y_train.apply(first_split)"
   ]
  },
  {
   "cell_type": "code",
   "execution_count": 53,
   "id": "dutch-pacific",
   "metadata": {},
   "outputs": [
    {
     "data": {
      "image/png": "[encoded data removed]",
      "text/plain": [
       "<Figure size 432x288 with 1 Axes>"
      ]
     },
     "metadata": {
      "needs_background": "light"
     },
     "output_type": "display_data"
    }
   ],
   "source": [
    "# Classes appear to be relatively balanced with this split\n",
    "sns.histplot(y_train_class3);"
   ]
  },
  {
   "cell_type": "markdown",
   "id": "designed-captain",
   "metadata": {},
   "source": [
    "## First model"
   ]
  },
  {
   "cell_type": "code",
   "execution_count": 54,
   "id": "afraid-latin",
   "metadata": {},
   "outputs": [
    {
     "data": {
      "text/html": [
       "<div>\n",
       "<style scoped>\n",
       "    .dataframe tbody tr th:only-of-type {\n",
       "        vertical-align: middle;\n",
       "    }\n",
       "\n",
       "    .dataframe tbody tr th {\n",
       "        vertical-align: top;\n",
       "    }\n",
       "\n",
       "    .dataframe thead th {\n",
       "        text-align: right;\n",
       "    }\n",
       "</style>\n",
       "<table border=\"1\" class=\"dataframe\">\n",
       "  <thead>\n",
       "    <tr style=\"text-align: right;\">\n",
       "      <th></th>\n",
       "      <th>Segment_ID</th>\n",
       "      <th>Phrase</th>\n",
       "      <th>clip</th>\n",
       "      <th>ID</th>\n",
       "      <th>clean_text</th>\n",
       "      <th>clean_text2</th>\n",
       "    </tr>\n",
       "  </thead>\n",
       "  <tbody>\n",
       "    <tr>\n",
       "      <th>0</th>\n",
       "      <td>245322_6</td>\n",
       "      <td>But (uhh) so yeah</td>\n",
       "      <td>6</td>\n",
       "      <td>245322</td>\n",
       "      <td>but uhh so yeah</td>\n",
       "      <td>uhh yeah</td>\n",
       "    </tr>\n",
       "  </tbody>\n",
       "</table>\n",
       "</div>"
      ],
      "text/plain": [
       "  Segment_ID              Phrase  clip      ID        clean_text clean_text2\n",
       "0   245322_6   But (uhh) so yeah     6  245322   but uhh so yeah    uhh yeah"
      ]
     },
     "execution_count": 54,
     "metadata": {},
     "output_type": "execute_result"
    }
   ],
   "source": [
    "X_train.head(1)"
   ]
  },
  {
   "cell_type": "code",
   "execution_count": 55,
   "id": "executive-butler",
   "metadata": {},
   "outputs": [
    {
     "data": {
      "text/plain": [
       "0    0\n",
       "Name: Answer.sentiment, dtype: int64"
      ]
     },
     "execution_count": 55,
     "metadata": {},
     "output_type": "execute_result"
    }
   ],
   "source": [
    "y_train_class3.head(1)"
   ]
  },
  {
   "cell_type": "code",
   "execution_count": 56,
   "id": "featured-transaction",
   "metadata": {},
   "outputs": [],
   "source": [
    "# Create a validation set on X_train\n",
    "from sklearn.model_selection import train_test_split\n",
    "\n",
    "X_t, X_val, y_t, y_val = train_test_split(X_train, y_train_class3, test_size=0.2)"
   ]
  },
  {
   "cell_type": "code",
   "execution_count": 57,
   "id": "designed-adelaide",
   "metadata": {},
   "outputs": [
    {
     "data": {
      "text/plain": [
       " 0    850\n",
       " 1    702\n",
       "-1    617\n",
       "Name: Answer.sentiment, dtype: int64"
      ]
     },
     "execution_count": 57,
     "metadata": {},
     "output_type": "execute_result"
    }
   ],
   "source": [
    "y_val.value_counts()"
   ]
  },
  {
   "cell_type": "code",
   "execution_count": 58,
   "id": "reserved-usage",
   "metadata": {},
   "outputs": [],
   "source": [
    "vectorizer = CountVectorizer()\n",
    "vectorizer.fit(X_t['clean_text'])\n",
    "X_t_vect3 = vectorizer.transform(X_t['clean_text'])"
   ]
  },
  {
   "cell_type": "code",
   "execution_count": 59,
   "id": "offshore-conservation",
   "metadata": {},
   "outputs": [
    {
     "data": {
      "text/plain": [
       "MultinomialNB()"
      ]
     },
     "execution_count": 59,
     "metadata": {},
     "output_type": "execute_result"
    }
   ],
   "source": [
    "nb_model3 = MultinomialNB()\n",
    "nb_model3.fit(X_t_vect3, y_t)"
   ]
  },
  {
   "cell_type": "code",
   "execution_count": 60,
   "id": "accepted-world",
   "metadata": {},
   "outputs": [],
   "source": [
    "X_val_vect3 = vectorizer.transform(X_val['clean_text'])"
   ]
  },
  {
   "cell_type": "code",
   "execution_count": 61,
   "id": "irish-canvas",
   "metadata": {},
   "outputs": [
    {
     "data": {
      "text/plain": [
       "0.59"
      ]
     },
     "execution_count": 61,
     "metadata": {},
     "output_type": "execute_result"
    }
   ],
   "source": [
    "round(nb_model3.score(X_val_vect3, y_val),2)"
   ]
  },
  {
   "cell_type": "code",
   "execution_count": 62,
   "id": "material-hacker",
   "metadata": {},
   "outputs": [],
   "source": [
    "y_pred3 = nb_model3.predict(X_val_vect3)"
   ]
  },
  {
   "cell_type": "code",
   "execution_count": 63,
   "id": "pacific-specific",
   "metadata": {},
   "outputs": [],
   "source": [
    "labels = [-1, 0, 1]"
   ]
  },
  {
   "cell_type": "code",
   "execution_count": 64,
   "id": "actual-bankruptcy",
   "metadata": {},
   "outputs": [
    {
     "name": "stderr",
     "output_type": "stream",
     "text": [
      "/home/corentin/.pyenv/versions/3.8.6/envs/backinthessr/lib/python3.8/site-packages/sklearn/utils/validation.py:70: FutureWarning: Pass labels=[-1, 0, 1] as keyword args. From version 1.0 (renaming of 0.25) passing these as positional arguments will result in an error\n",
      "  warnings.warn(f\"Pass {args_msg} as keyword args. From version \"\n"
     ]
    }
   ],
   "source": [
    "matrix3 = confusion_matrix(y_val, y_pred3, labels)"
   ]
  },
  {
   "cell_type": "code",
   "execution_count": 65,
   "id": "owned-singles",
   "metadata": {},
   "outputs": [
    {
     "data": {
      "image/png": "[encoded data removed]",
      "text/plain": [
       "<Figure size 432x288 with 2 Axes>"
      ]
     },
     "metadata": {
      "needs_background": "light"
     },
     "output_type": "display_data"
    }
   ],
   "source": [
    "sns.heatmap(matrix3, annot=True);"
   ]
  },
  {
   "cell_type": "code",
   "execution_count": 66,
   "id": "bridal-subdivision",
   "metadata": {},
   "outputs": [
    {
     "data": {
      "text/plain": [
       "array([1, 0, 1, ..., 1, 0, 1])"
      ]
     },
     "execution_count": 66,
     "metadata": {},
     "output_type": "execute_result"
    }
   ],
   "source": [
    "y_pred3"
   ]
  },
  {
   "cell_type": "markdown",
   "id": "roman-burst",
   "metadata": {},
   "source": [
    "## CountVectorizer grid search"
   ]
  },
  {
   "cell_type": "code",
   "execution_count": 67,
   "id": "qualified-wonder",
   "metadata": {},
   "outputs": [],
   "source": [
    "# Create a validation set on X_train\n",
    "from sklearn.model_selection import train_test_split\n",
    "\n",
    "X_t, X_val, y_t, y_val = train_test_split(X_train, y_train_class3, test_size=0.2)"
   ]
  },
  {
   "cell_type": "code",
   "execution_count": 68,
   "id": "unusual-theory",
   "metadata": {},
   "outputs": [],
   "source": [
    "from sklearn.pipeline import Pipeline\n",
    "from sklearn.model_selection import GridSearchCV\n",
    "\n",
    "pipe = Pipeline([\n",
    "    ('vect', CountVectorizer()),\n",
    "    ('model', MultinomialNB ())\n",
    "])\n",
    "\n",
    "grid_params = {'vect__max_df': [0.4, 0.5],\n",
    "              'vect__max_features': [9000, 10000, 11000]}\n",
    "\n",
    "search = GridSearchCV(pipe, grid_params, n_jobs=-1, verbose=1, scoring='accuracy',cv=5)"
   ]
  },
  {
   "cell_type": "code",
   "execution_count": 69,
   "id": "moved-conviction",
   "metadata": {},
   "outputs": [
    {
     "name": "stdout",
     "output_type": "stream",
     "text": [
      "Fitting 5 folds for each of 6 candidates, totalling 30 fits\n"
     ]
    },
    {
     "data": {
      "text/plain": [
       "GridSearchCV(cv=5,\n",
       "             estimator=Pipeline(steps=[('vect', CountVectorizer()),\n",
       "                                       ('model', MultinomialNB())]),\n",
       "             n_jobs=-1,\n",
       "             param_grid={'vect__max_df': [0.4, 0.5],\n",
       "                         'vect__max_features': [9000, 10000, 11000]},\n",
       "             scoring='accuracy', verbose=1)"
      ]
     },
     "execution_count": 69,
     "metadata": {},
     "output_type": "execute_result"
    }
   ],
   "source": [
    "search.fit(X_t['clean_text'], y_t)"
   ]
  },
  {
   "cell_type": "code",
   "execution_count": 70,
   "id": "novel-plant",
   "metadata": {},
   "outputs": [
    {
     "data": {
      "text/plain": [
       "{'vect__max_df': 0.5, 'vect__max_features': 10000}"
      ]
     },
     "execution_count": 70,
     "metadata": {},
     "output_type": "execute_result"
    }
   ],
   "source": [
    "search.best_params_"
   ]
  },
  {
   "cell_type": "code",
   "execution_count": 71,
   "id": "married-breakfast",
   "metadata": {},
   "outputs": [],
   "source": [
    "pipe_good = Pipeline([\n",
    "    ('vect', TfidfVectorizer(max_df = 0.5, max_features = 10000, min_df= 1)),\n",
    "    ('model', MultinomialNB())\n",
    "])"
   ]
  },
  {
   "cell_type": "code",
   "execution_count": 72,
   "id": "right-wrong",
   "metadata": {},
   "outputs": [
    {
     "data": {
      "text/plain": [
       "Pipeline(steps=[('vect', TfidfVectorizer(max_df=0.5, max_features=10000)),\n",
       "                ('model', MultinomialNB())])"
      ]
     },
     "execution_count": 72,
     "metadata": {},
     "output_type": "execute_result"
    }
   ],
   "source": [
    "pipe_good.fit(X_t['clean_text'], y_t)"
   ]
  },
  {
   "cell_type": "code",
   "execution_count": 73,
   "id": "printable-intention",
   "metadata": {},
   "outputs": [
    {
     "data": {
      "text/plain": [
       "0.6"
      ]
     },
     "execution_count": 73,
     "metadata": {},
     "output_type": "execute_result"
    }
   ],
   "source": [
    "round(pipe_good.score(X_val['clean_text'], y_val),2)"
   ]
  },
  {
   "cell_type": "code",
   "execution_count": null,
   "id": "simple-portsmouth",
   "metadata": {},
   "outputs": [],
   "source": []
  },
  {
   "cell_type": "markdown",
   "id": "intellectual-cologne",
   "metadata": {},
   "source": [
    "## With more processing"
   ]
  },
  {
   "cell_type": "code",
   "execution_count": 74,
   "id": "nuclear-vegetation",
   "metadata": {},
   "outputs": [],
   "source": [
    "# Create a validation set on X_train\n",
    "from sklearn.model_selection import train_test_split\n",
    "\n",
    "X_t, X_val, y_t, y_val = train_test_split(X_train, y_train_class3, test_size=0.2)"
   ]
  },
  {
   "cell_type": "code",
   "execution_count": 75,
   "id": "operating-quarter",
   "metadata": {},
   "outputs": [],
   "source": [
    "vectorizer = CountVectorizer()\n",
    "vectorizer.fit(X_t['clean_text2'])\n",
    "X_t_vect2 = vectorizer.transform(X_t['clean_text2'])"
   ]
  },
  {
   "cell_type": "code",
   "execution_count": 76,
   "id": "balanced-shoot",
   "metadata": {},
   "outputs": [
    {
     "data": {
      "text/plain": [
       "MultinomialNB()"
      ]
     },
     "execution_count": 76,
     "metadata": {},
     "output_type": "execute_result"
    }
   ],
   "source": [
    "nb_model4 = MultinomialNB()\n",
    "\n",
    "nb_model4.fit(X_t_vect2, y_t)"
   ]
  },
  {
   "cell_type": "code",
   "execution_count": 77,
   "id": "boring-pointer",
   "metadata": {},
   "outputs": [],
   "source": [
    "X_val_vect4 = vectorizer.transform(X_val['clean_text2'])"
   ]
  },
  {
   "cell_type": "code",
   "execution_count": 78,
   "id": "impaired-disney",
   "metadata": {},
   "outputs": [
    {
     "data": {
      "text/plain": [
       "0.58"
      ]
     },
     "execution_count": 78,
     "metadata": {},
     "output_type": "execute_result"
    }
   ],
   "source": [
    "round(nb_model4.score(X_val_vect4, y_val),2)"
   ]
  },
  {
   "cell_type": "code",
   "execution_count": 79,
   "id": "precise-making",
   "metadata": {},
   "outputs": [],
   "source": [
    "y_pred4 = nb_model4.predict(X_val_vect4)"
   ]
  },
  {
   "cell_type": "code",
   "execution_count": 80,
   "id": "heavy-siemens",
   "metadata": {},
   "outputs": [],
   "source": [
    "matrix4 = confusion_matrix(y_val, y_pred4)"
   ]
  },
  {
   "cell_type": "code",
   "execution_count": 81,
   "id": "super-temple",
   "metadata": {},
   "outputs": [
    {
     "data": {
      "image/png": "[encoded data removed]",
      "text/plain": [
       "<Figure size 432x288 with 2 Axes>"
      ]
     },
     "metadata": {
      "needs_background": "light"
     },
     "output_type": "display_data"
    }
   ],
   "source": [
    "sns.heatmap(matrix4, annot=True);"
   ]
  },
  {
   "cell_type": "code",
   "execution_count": 82,
   "id": "recognized-contributor",
   "metadata": {},
   "outputs": [],
   "source": [
    "import nltk"
   ]
  },
  {
   "cell_type": "code",
   "execution_count": 83,
   "id": "discrete-whole",
   "metadata": {},
   "outputs": [
    {
     "ename": "ModuleNotFoundError",
     "evalue": "No module named 'textblob'",
     "output_type": "error",
     "traceback": [
      "\u001b[0;31m---------------------------------------------------------------------------\u001b[0m",
      "\u001b[0;31mModuleNotFoundError\u001b[0m                       Traceback (most recent call last)",
      "\u001b[0;32m<ipython-input-83-6ffe043556d0>\u001b[0m in \u001b[0;36m<module>\u001b[0;34m\u001b[0m\n\u001b[0;32m----> 1\u001b[0;31m \u001b[0;32mfrom\u001b[0m \u001b[0mtextblob\u001b[0m \u001b[0;32mimport\u001b[0m \u001b[0mTextBlob\u001b[0m\u001b[0;34m\u001b[0m\u001b[0;34m\u001b[0m\u001b[0m\n\u001b[0m\u001b[1;32m      2\u001b[0m \u001b[0;32mfrom\u001b[0m \u001b[0mtextblob\u001b[0m\u001b[0;34m.\u001b[0m\u001b[0msentiments\u001b[0m \u001b[0;32mimport\u001b[0m \u001b[0mNaiveBayesAnalyzer\u001b[0m\u001b[0;34m\u001b[0m\u001b[0;34m\u001b[0m\u001b[0m\n",
      "\u001b[0;31mModuleNotFoundError\u001b[0m: No module named 'textblob'"
     ]
    }
   ],
   "source": [
    "from textblob import TextBlob\n",
    "from textblob.sentiments import NaiveBayesAnalyzer"
   ]
  },
  {
   "cell_type": "code",
   "execution_count": null,
   "id": "available-hydrogen",
   "metadata": {},
   "outputs": [],
   "source": [
    "nltk.download('movie_reviews')"
   ]
  },
  {
   "cell_type": "code",
   "execution_count": null,
   "id": "friendly-account",
   "metadata": {},
   "outputs": [],
   "source": [
    "wiki = TextBlob(\"I am in love\", analyzer=NaiveBayesAnalyzer())"
   ]
  },
  {
   "cell_type": "code",
   "execution_count": null,
   "id": "right-scanner",
   "metadata": {},
   "outputs": [],
   "source": [
    "wiki.sentiment.p_pos"
   ]
  },
  {
   "cell_type": "code",
   "execution_count": null,
   "id": "unable-infrastructure",
   "metadata": {},
   "outputs": [],
   "source": [
    "def text_blob(x):\n",
    "    return TextBlob(x, analyzer=NaiveBayesAnalyzer()).sentiment.p_pos"
   ]
  },
  {
   "cell_type": "code",
   "execution_count": null,
   "id": "lonely-transfer",
   "metadata": {},
   "outputs": [],
   "source": [
    "X_train.head()"
   ]
  },
  {
   "cell_type": "code",
   "execution_count": null,
   "id": "amber-pearl",
   "metadata": {},
   "outputs": [],
   "source": [
    "X_train_sample= X_train.sample()"
   ]
  },
  {
   "cell_type": "code",
   "execution_count": null,
   "id": "stuffed-socket",
   "metadata": {},
   "outputs": [],
   "source": [
    "def fun_textblob(x):\n",
    "    return 1 if x > 0.5 else 0"
   ]
  },
  {
   "cell_type": "code",
   "execution_count": null,
   "id": "continental-persian",
   "metadata": {},
   "outputs": [],
   "source": [
    "blob_pred = X_train['textblob'].apply(fun_textblob)"
   ]
  },
  {
   "cell_type": "markdown",
   "id": "injured-convert",
   "metadata": {},
   "source": [
    "# 3-dim -1 1"
   ]
  },
  {
   "cell_type": "markdown",
   "id": "hairy-shape",
   "metadata": {},
   "source": [
    "## Data cleaning"
   ]
  },
  {
   "cell_type": "code",
   "execution_count": null,
   "id": "executed-eligibility",
   "metadata": {},
   "outputs": [],
   "source": [
    "# Let's create 3 classes: -1 if neg, 0 if neutral, 1 if positive. We settle netral btw -1 & 1\n",
    "\n",
    "def first_split(x):\n",
    "    if x < -1:\n",
    "        return -1\n",
    "    if x < 1:\n",
    "        return 0\n",
    "    else:\n",
    "        return 1"
   ]
  },
  {
   "cell_type": "code",
   "execution_count": null,
   "id": "modified-winning",
   "metadata": {},
   "outputs": [],
   "source": [
    "y_train_class3_bis = y_train.apply(first_split)"
   ]
  },
  {
   "cell_type": "code",
   "execution_count": null,
   "id": "applied-writing",
   "metadata": {},
   "outputs": [],
   "source": [
    "X_train = X_train.drop(columns=['y'])"
   ]
  },
  {
   "cell_type": "code",
   "execution_count": null,
   "id": "inclusive-adventure",
   "metadata": {},
   "outputs": [],
   "source": [
    "X_train = X_train.drop(columns=['textblob'])"
   ]
  },
  {
   "cell_type": "code",
   "execution_count": null,
   "id": "inappropriate-therapy",
   "metadata": {},
   "outputs": [],
   "source": [
    "df = X_train.copy()\n",
    "df['y'] = y_train_class3_bis"
   ]
  },
  {
   "cell_type": "code",
   "execution_count": null,
   "id": "transparent-adaptation",
   "metadata": {},
   "outputs": [],
   "source": [
    "# Classes appear to be relatively balanced with this split\n",
    "sns.histplot(df['y']);"
   ]
  },
  {
   "cell_type": "code",
   "execution_count": null,
   "id": "british-intelligence",
   "metadata": {},
   "outputs": [],
   "source": [
    "df_majority = df[df['y'] == 0]\n",
    "df_minority = df[df['y'] != 0]"
   ]
  },
  {
   "cell_type": "code",
   "execution_count": null,
   "id": "expired-memorial",
   "metadata": {},
   "outputs": [],
   "source": [
    "from sklearn.utils import resample\n",
    "\n",
    "df_majority_downsampled = resample(df_majority, \n",
    "                                 replace=False,    # sample without replacement\n",
    "                                 n_samples=2500) # reproducible results"
   ]
  },
  {
   "cell_type": "code",
   "execution_count": null,
   "id": "liable-option",
   "metadata": {},
   "outputs": [],
   "source": [
    "df_majority_downsampled.shape"
   ]
  },
  {
   "cell_type": "code",
   "execution_count": null,
   "id": "hollow-chocolate",
   "metadata": {},
   "outputs": [],
   "source": [
    "df_minority.shape"
   ]
  },
  {
   "cell_type": "code",
   "execution_count": null,
   "id": "unlike-wrapping",
   "metadata": {},
   "outputs": [],
   "source": [
    "df_downsampled = pd.concat([df_majority_downsampled, df_minority])"
   ]
  },
  {
   "cell_type": "code",
   "execution_count": null,
   "id": "favorite-service",
   "metadata": {},
   "outputs": [],
   "source": [
    "df_downsampled.shape"
   ]
  },
  {
   "cell_type": "code",
   "execution_count": null,
   "id": "mysterious-diamond",
   "metadata": {},
   "outputs": [],
   "source": [
    "X_bal = df_downsampled.drop(columns=['y'])\n",
    "y_bal = df_downsampled['y']"
   ]
  },
  {
   "cell_type": "code",
   "execution_count": null,
   "id": "amazing-german",
   "metadata": {},
   "outputs": [],
   "source": [
    "X_t_bal, X_val_bal, y_t_bal, y_val_bal = train_test_split(X_bal, y_bal, test_size=.2)"
   ]
  },
  {
   "cell_type": "code",
   "execution_count": null,
   "id": "descending-grenada",
   "metadata": {},
   "outputs": [],
   "source": [
    "y_t_bal.value_counts()"
   ]
  },
  {
   "cell_type": "code",
   "execution_count": null,
   "id": "distinct-method",
   "metadata": {},
   "outputs": [],
   "source": [
    "vectorizer = CountVectorizer()\n",
    "vectorizer.fit(X_t_bal['clean_text'])\n",
    "X_t_vect5 = vectorizer.transform(X_t_bal['clean_text'])"
   ]
  },
  {
   "cell_type": "code",
   "execution_count": null,
   "id": "beginning-seafood",
   "metadata": {},
   "outputs": [],
   "source": [
    "nb_model5 = MultinomialNB()\n",
    "nb_model5.fit(X_t_vect5, y_t_bal)"
   ]
  },
  {
   "cell_type": "code",
   "execution_count": null,
   "id": "outside-plenty",
   "metadata": {},
   "outputs": [],
   "source": [
    "X_val_vect5 = vectorizer.transform(X_val_bal['clean_text'])"
   ]
  },
  {
   "cell_type": "code",
   "execution_count": null,
   "id": "wired-purple",
   "metadata": {},
   "outputs": [],
   "source": [
    "round(nb_model5.score(X_val_vect5, y_val_bal),2)"
   ]
  },
  {
   "cell_type": "code",
   "execution_count": null,
   "id": "strange-treat",
   "metadata": {},
   "outputs": [],
   "source": [
    "y_pred5 = nb_model5.predict(X_val_vect5)"
   ]
  },
  {
   "cell_type": "code",
   "execution_count": null,
   "id": "optical-turtle",
   "metadata": {},
   "outputs": [],
   "source": [
    "matrix5 = confusion_matrix(y_val_bal, y_pred5)"
   ]
  },
  {
   "cell_type": "code",
   "execution_count": null,
   "id": "announced-knock",
   "metadata": {},
   "outputs": [],
   "source": [
    "sns.heatmap(matrix5, annot=True);"
   ]
  },
  {
   "cell_type": "code",
   "execution_count": null,
   "id": "democratic-wilderness",
   "metadata": {},
   "outputs": [],
   "source": [
    "df_downsampled.shape, y_pred5.shape"
   ]
  },
  {
   "cell_type": "code",
   "execution_count": null,
   "id": "laughing-shoot",
   "metadata": {},
   "outputs": [],
   "source": [
    "X_val_bal.shape"
   ]
  },
  {
   "cell_type": "code",
   "execution_count": null,
   "id": "soviet-meaning",
   "metadata": {},
   "outputs": [],
   "source": [
    "X_val_bal.head(3)"
   ]
  },
  {
   "cell_type": "code",
   "execution_count": null,
   "id": "great-swing",
   "metadata": {},
   "outputs": [],
   "source": [
    "results2 = X_val_bal.copy()\n",
    "results2['y'] = y_val_bal"
   ]
  },
  {
   "cell_type": "code",
   "execution_count": null,
   "id": "vietnamese-membrane",
   "metadata": {},
   "outputs": [],
   "source": [
    "results2['y_pred'] = y_pred5"
   ]
  },
  {
   "cell_type": "code",
   "execution_count": null,
   "id": "danish-output",
   "metadata": {},
   "outputs": [],
   "source": [
    "results2.head()"
   ]
  },
  {
   "cell_type": "code",
   "execution_count": null,
   "id": "insured-argentina",
   "metadata": {},
   "outputs": [],
   "source": [
    "results2[\"confusion\"] = abs(results2[\"y\"] - results2[\"y_pred\"])"
   ]
  },
  {
   "cell_type": "code",
   "execution_count": null,
   "id": "widespread-gauge",
   "metadata": {},
   "outputs": [],
   "source": [
    "results2.head()"
   ]
  },
  {
   "cell_type": "code",
   "execution_count": null,
   "id": "practical-child",
   "metadata": {},
   "outputs": [],
   "source": [
    "results_wrong = results2[results2['confusion'] == 1]"
   ]
  },
  {
   "cell_type": "code",
   "execution_count": null,
   "id": "auburn-empire",
   "metadata": {},
   "outputs": [],
   "source": [
    "results_wrong.shape"
   ]
  },
  {
   "cell_type": "code",
   "execution_count": null,
   "id": "running-conversion",
   "metadata": {},
   "outputs": [],
   "source": [
    "sample_wrong = results_wrong.sample(n=20)"
   ]
  },
  {
   "cell_type": "code",
   "execution_count": null,
   "id": "corporate-milan",
   "metadata": {},
   "outputs": [],
   "source": [
    "from textblob import TextBlob\n",
    "from textblob.sentiments import NaiveBayesAnalyzer\n",
    "\n",
    "blob = TextBlob(\"I love this library\", analyzer=NaiveBayesAnalyzer())\n",
    "blob.sentiment.p_pos"
   ]
  },
  {
   "cell_type": "code",
   "execution_count": null,
   "id": "standing-democrat",
   "metadata": {},
   "outputs": [],
   "source": [
    "def blob(x):\n",
    "    blob = TextBlob(x, analyzer=NaiveBayesAnalyzer())\n",
    "    if blob.sentiment.p_pos < 0.4:\n",
    "        return -1\n",
    "    elif blob.sentiment.p_pos < 0.6:\n",
    "        return 0\n",
    "    else:\n",
    "        return 1"
   ]
  },
  {
   "cell_type": "code",
   "execution_count": null,
   "id": "lucky-greece",
   "metadata": {},
   "outputs": [],
   "source": [
    "sample_wrong['blob'] = sample_wrong['Phrase'].apply(blob)"
   ]
  },
  {
   "cell_type": "code",
   "execution_count": null,
   "id": "pointed-gather",
   "metadata": {},
   "outputs": [],
   "source": [
    "sample_wrong.head(10)"
   ]
  },
  {
   "cell_type": "markdown",
   "id": "posted-boost",
   "metadata": {},
   "source": [
    "# Regression grid search"
   ]
  },
  {
   "cell_type": "code",
   "execution_count": null,
   "id": "accompanied-slave",
   "metadata": {},
   "outputs": [],
   "source": [
    "from sklearn.linear_model import Ridge, Lasso\n",
    "from sklearn.pipeline import Pipeline\n",
    "from sklearn.model_selection import GridSearchCV\n",
    "\n",
    "pipeline_reg = Pipeline([\n",
    "    ('vect', CountVectorizer()),\n",
    "    ('model', Ridge())\n",
    "])"
   ]
  },
  {
   "cell_type": "code",
   "execution_count": null,
   "id": "necessary-mobility",
   "metadata": {
    "scrolled": true
   },
   "outputs": [],
   "source": [
    "pipeline_reg.get_params()"
   ]
  },
  {
   "cell_type": "code",
   "execution_count": null,
   "id": "tropical-vegetable",
   "metadata": {},
   "outputs": [],
   "source": [
    "grid_params = {'vect__max_df': [0.4, 0.5, 0.6],\n",
    "              'vect__max_features': [9000, 10000, 11000],\n",
    "              'vect__ngram_range': [(1, 1), (1,2), (1,3)]}"
   ]
  },
  {
   "cell_type": "code",
   "execution_count": null,
   "id": "judicial-kelly",
   "metadata": {},
   "outputs": [],
   "source": [
    "search = GridSearchCV(pipeline_reg, grid_params, n_jobs=-1, verbose=1, scoring='r2',cv=5)"
   ]
  },
  {
   "cell_type": "code",
   "execution_count": null,
   "id": "directed-forum",
   "metadata": {},
   "outputs": [],
   "source": [
    "from sklearn.model_selection import train_test_split\n",
    "\n",
    "X_t, X_val, y_t, y_val = train_test_split(X_train, y_train, test_size=.2)"
   ]
  },
  {
   "cell_type": "code",
   "execution_count": null,
   "id": "incident-portal",
   "metadata": {},
   "outputs": [],
   "source": [
    "search.fit(X_t['clean_text'], y_t)"
   ]
  },
  {
   "cell_type": "code",
   "execution_count": null,
   "id": "sexual-treasurer",
   "metadata": {},
   "outputs": [],
   "source": [
    "search.best_params_"
   ]
  },
  {
   "cell_type": "code",
   "execution_count": null,
   "id": "smart-robert",
   "metadata": {},
   "outputs": [],
   "source": [
    "pipe_reg_good = Pipeline([\n",
    "    ('vect', CountVectorizer(max_df=0.5, max_features=10000, ngram_range=(1, 1))),\n",
    "    ('model', Ridge(alpha=1))\n",
    "])"
   ]
  },
  {
   "cell_type": "code",
   "execution_count": null,
   "id": "headed-subscriber",
   "metadata": {},
   "outputs": [],
   "source": [
    "pipe_reg_good.fit(X_train['clean_text'], y_train)"
   ]
  },
  {
   "cell_type": "code",
   "execution_count": null,
   "id": "attractive-english",
   "metadata": {},
   "outputs": [],
   "source": [
    "y_pred_reg = pipe_reg_good.predict(X_test['clean_text'])"
   ]
  },
  {
   "cell_type": "code",
   "execution_count": null,
   "id": "detailed-finder",
   "metadata": {},
   "outputs": [],
   "source": [
    "from sklearn.metrics import mean_absolute_error\n",
    "mae_reg = mean_absolute_error(y_test,  y_pred_reg)"
   ]
  },
  {
   "cell_type": "code",
   "execution_count": null,
   "id": "intelligent-daniel",
   "metadata": {},
   "outputs": [],
   "source": [
    "print(f'MAE Regression = {round(mae_reg, 2)}')"
   ]
  },
  {
   "cell_type": "code",
   "execution_count": null,
   "id": "mathematical-stretch",
   "metadata": {},
   "outputs": [],
   "source": []
  }
 ],
 "metadata": {
  "kernelspec": {
   "display_name": "Python 3",
   "language": "python",
   "name": "python3"
  },
  "language_info": {
   "codemirror_mode": {
    "name": "ipython",
    "version": 3
   },
   "file_extension": ".py",
   "mimetype": "text/x-python",
   "name": "python",
   "nbconvert_exporter": "python",
   "pygments_lexer": "ipython3",
   "version": "3.8.6"
  },
  "toc": {
   "base_numbering": 1,
   "nav_menu": {},
   "number_sections": true,
   "sideBar": true,
   "skip_h1_title": false,
   "title_cell": "Table of Contents",
   "title_sidebar": "Contents",
   "toc_cell": false,
   "toc_position": {},
   "toc_section_display": true,
   "toc_window_display": false
  }
 },
 "nbformat": 4,
 "nbformat_minor": 5
}
