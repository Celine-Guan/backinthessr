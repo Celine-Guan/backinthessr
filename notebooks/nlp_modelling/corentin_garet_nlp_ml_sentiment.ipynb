{
 "cells": [
  {
   "cell_type": "code",
   "execution_count": 160,
   "id": "electric-circular",
   "metadata": {},
   "outputs": [],
   "source": [
    "import numpy as np\n",
    "import pandas as pd"
   ]
  },
  {
   "cell_type": "markdown",
   "id": "humanitarian-ladder",
   "metadata": {
    "heading_collapsed": true
   },
   "source": [
    "# Data loading and cleaning"
   ]
  },
  {
   "cell_type": "code",
   "execution_count": 161,
   "id": "assured-aggregate",
   "metadata": {
    "hidden": true
   },
   "outputs": [],
   "source": [
    "# Loading data from raw_data\n",
    "X_train = pd.read_csv('../../raw_data/clean_sentiment_data/X_train.csv')\n",
    "y_train = pd.read_csv('../../raw_data/clean_sentiment_data/y_train.csv')\n",
    "# X_test = pd.read_csv('../../raw_data/clean_sentiment_data/X_test.csv')\n",
    "# y_test = pd.read_csv('../../raw_data/clean_sentiment_data/y_test.csv')"
   ]
  },
  {
   "cell_type": "code",
   "execution_count": 162,
   "id": "knowing-application",
   "metadata": {
    "hidden": true
   },
   "outputs": [],
   "source": [
    "# Transforming y in pd.Series\n",
    "y_train = y_train['Answer.sentiment']"
   ]
  },
  {
   "cell_type": "markdown",
   "id": "friendly-cherry",
   "metadata": {},
   "source": [
    "# Binary classification"
   ]
  },
  {
   "cell_type": "markdown",
   "id": "smooth-eight",
   "metadata": {
    "heading_collapsed": true
   },
   "source": [
    "## Data cleaning"
   ]
  },
  {
   "cell_type": "code",
   "execution_count": 163,
   "id": "alike-inspiration",
   "metadata": {
    "hidden": true
   },
   "outputs": [],
   "source": [
    "y_train_bin = y_train.apply(lambda x: 0 if x <= 0 else 1)"
   ]
  },
  {
   "cell_type": "code",
   "execution_count": 164,
   "id": "convenient-humor",
   "metadata": {
    "hidden": true
   },
   "outputs": [
    {
     "data": {
      "text/html": [
       "<div>\n",
       "<style scoped>\n",
       "    .dataframe tbody tr th:only-of-type {\n",
       "        vertical-align: middle;\n",
       "    }\n",
       "\n",
       "    .dataframe tbody tr th {\n",
       "        vertical-align: top;\n",
       "    }\n",
       "\n",
       "    .dataframe thead th {\n",
       "        text-align: right;\n",
       "    }\n",
       "</style>\n",
       "<table border=\"1\" class=\"dataframe\">\n",
       "  <thead>\n",
       "    <tr style=\"text-align: right;\">\n",
       "      <th></th>\n",
       "      <th>Phrase</th>\n",
       "    </tr>\n",
       "  </thead>\n",
       "  <tbody>\n",
       "    <tr>\n",
       "      <th>0</th>\n",
       "      <td>But (uhh) so yeah</td>\n",
       "    </tr>\n",
       "    <tr>\n",
       "      <th>1</th>\n",
       "      <td>The movie ruins it for itself</td>\n",
       "    </tr>\n",
       "    <tr>\n",
       "      <th>2</th>\n",
       "      <td>(umm) The acting's subpar, the screen the scr...</td>\n",
       "    </tr>\n",
       "    <tr>\n",
       "      <th>3</th>\n",
       "      <td>And now, because of that, Machinima got intimi...</td>\n",
       "    </tr>\n",
       "    <tr>\n",
       "      <th>4</th>\n",
       "      <td>I thought something would have to descend on m...</td>\n",
       "    </tr>\n",
       "    <tr>\n",
       "      <th>...</th>\n",
       "      <td>...</td>\n",
       "    </tr>\n",
       "    <tr>\n",
       "      <th>10837</th>\n",
       "      <td>When we're talking about a verb, a verb can ha...</td>\n",
       "    </tr>\n",
       "    <tr>\n",
       "      <th>10838</th>\n",
       "      <td>If you are continuing at OSU, I hope you have ...</td>\n",
       "    </tr>\n",
       "    <tr>\n",
       "      <th>10839</th>\n",
       "      <td>I come in and I say \"Okay, hi everybody I'm go...</td>\n",
       "    </tr>\n",
       "    <tr>\n",
       "      <th>10840</th>\n",
       "      <td>This time, in the birthplace of modern innovat...</td>\n",
       "    </tr>\n",
       "    <tr>\n",
       "      <th>10841</th>\n",
       "      <td>I think Steve Martin's done other better things</td>\n",
       "    </tr>\n",
       "  </tbody>\n",
       "</table>\n",
       "<p>10842 rows × 1 columns</p>\n",
       "</div>"
      ],
      "text/plain": [
       "                                                  Phrase\n",
       "0                                      But (uhh) so yeah\n",
       "1                          The movie ruins it for itself\n",
       "2       (umm) The acting's subpar, the screen the scr...\n",
       "3      And now, because of that, Machinima got intimi...\n",
       "4      I thought something would have to descend on m...\n",
       "...                                                  ...\n",
       "10837  When we're talking about a verb, a verb can ha...\n",
       "10838  If you are continuing at OSU, I hope you have ...\n",
       "10839  I come in and I say \"Okay, hi everybody I'm go...\n",
       "10840  This time, in the birthplace of modern innovat...\n",
       "10841    I think Steve Martin's done other better things\n",
       "\n",
       "[10842 rows x 1 columns]"
      ]
     },
     "execution_count": 164,
     "metadata": {},
     "output_type": "execute_result"
    }
   ],
   "source": [
    "X_train.drop(columns=['Segment_ID', 'clip', 'ID'])"
   ]
  },
  {
   "cell_type": "markdown",
   "id": "outer-tablet",
   "metadata": {
    "heading_collapsed": true
   },
   "source": [
    "## Basic preprocessing"
   ]
  },
  {
   "cell_type": "markdown",
   "id": "primary-clearing",
   "metadata": {
    "hidden": true
   },
   "source": [
    "### Lowercase"
   ]
  },
  {
   "cell_type": "code",
   "execution_count": 165,
   "id": "sharp-stevens",
   "metadata": {
    "hidden": true
   },
   "outputs": [],
   "source": [
    "def lower(x):\n",
    "    return x.lower()"
   ]
  },
  {
   "cell_type": "code",
   "execution_count": 166,
   "id": "great-boost",
   "metadata": {
    "hidden": true
   },
   "outputs": [],
   "source": [
    "X_train['clean_text'] = X_train['Phrase'].apply(lower)"
   ]
  },
  {
   "cell_type": "markdown",
   "id": "bored-specific",
   "metadata": {
    "hidden": true
   },
   "source": [
    "### Remove punctuation"
   ]
  },
  {
   "cell_type": "code",
   "execution_count": 167,
   "id": "proud-senate",
   "metadata": {
    "hidden": true
   },
   "outputs": [],
   "source": [
    "import string\n",
    "def punct(x):\n",
    "    for text in string.punctuation:\n",
    "        x = x.replace(text, '')\n",
    "    return x"
   ]
  },
  {
   "cell_type": "code",
   "execution_count": 168,
   "id": "operational-perception",
   "metadata": {
    "hidden": true
   },
   "outputs": [],
   "source": [
    "X_train['clean_text'] = X_train['clean_text'].apply(punct)"
   ]
  },
  {
   "cell_type": "markdown",
   "id": "mathematical-pharmacy",
   "metadata": {
    "heading_collapsed": true,
    "hidden": true
   },
   "source": [
    "### Remove numbers"
   ]
  },
  {
   "cell_type": "code",
   "execution_count": 169,
   "id": "stretch-haven",
   "metadata": {
    "hidden": true
   },
   "outputs": [],
   "source": [
    "def del_num(x):\n",
    "    return ''.join([letter for letter in x if not letter.isdigit()])"
   ]
  },
  {
   "cell_type": "code",
   "execution_count": 170,
   "id": "wrong-nebraska",
   "metadata": {
    "hidden": true
   },
   "outputs": [],
   "source": [
    "X_train['clean_text'] = X_train['clean_text'].apply(del_num)"
   ]
  },
  {
   "cell_type": "markdown",
   "id": "unlikely-superintendent",
   "metadata": {
    "heading_collapsed": true
   },
   "source": [
    "## First model with bag of words CountVectorizer & MultinomialNB"
   ]
  },
  {
   "cell_type": "code",
   "execution_count": 211,
   "id": "cathedral-colleague",
   "metadata": {
    "hidden": true
   },
   "outputs": [],
   "source": [
    "# Create a validation set on X_train\n",
    "from sklearn.model_selection import train_test_split\n",
    "\n",
    "X_t, X_val, y_t, y_val = train_test_split(X_train, y_train_bin, test_size=0.2)"
   ]
  },
  {
   "cell_type": "code",
   "execution_count": 212,
   "id": "intense-school",
   "metadata": {
    "hidden": true
   },
   "outputs": [],
   "source": [
    "from sklearn.feature_extraction.text import CountVectorizer\n",
    "\n",
    "vectorizer = CountVectorizer()\n",
    "vectorizer.fit(X_t['clean_text'])\n",
    "X_t_vect1 = vectorizer.transform(X_t['clean_text'])"
   ]
  },
  {
   "cell_type": "code",
   "execution_count": 213,
   "id": "theoretical-father",
   "metadata": {
    "hidden": true
   },
   "outputs": [
    {
     "data": {
      "text/plain": [
       "MultinomialNB(alpha=1.0, class_prior=None, fit_prior=True)"
      ]
     },
     "execution_count": 213,
     "metadata": {},
     "output_type": "execute_result"
    }
   ],
   "source": [
    "from sklearn.model_selection import cross_validate\n",
    "from sklearn.naive_bayes import MultinomialNB\n",
    "\n",
    "nb_model = MultinomialNB()\n",
    "\n",
    "nb_model.fit(X_t_vect1, y_t)"
   ]
  },
  {
   "cell_type": "code",
   "execution_count": 214,
   "id": "quiet-record",
   "metadata": {
    "hidden": true
   },
   "outputs": [],
   "source": [
    "# Vectorizer on X_val\n",
    "X_val_vect1 = vectorizer.transform(X_val['clean_text'])"
   ]
  },
  {
   "cell_type": "code",
   "execution_count": 215,
   "id": "cubic-victim",
   "metadata": {
    "hidden": true
   },
   "outputs": [
    {
     "data": {
      "text/plain": [
       "0.7"
      ]
     },
     "execution_count": 215,
     "metadata": {},
     "output_type": "execute_result"
    }
   ],
   "source": [
    "# Compute accuracy on validation set\n",
    "round(nb_model.score(X_val_vect1, y_val),2)"
   ]
  },
  {
   "cell_type": "code",
   "execution_count": 216,
   "id": "junior-illinois",
   "metadata": {
    "hidden": true
   },
   "outputs": [],
   "source": [
    "y_pred1 = nb_model.predict(X_val_vect1)"
   ]
  },
  {
   "cell_type": "code",
   "execution_count": 217,
   "id": "needed-friendship",
   "metadata": {
    "hidden": true
   },
   "outputs": [],
   "source": [
    "from sklearn.metrics import confusion_matrix\n",
    "\n",
    "matrix1 = confusion_matrix(y_val, y_pred1)"
   ]
  },
  {
   "cell_type": "code",
   "execution_count": 218,
   "id": "rotary-jaguar",
   "metadata": {
    "hidden": true
   },
   "outputs": [
    {
     "data": {
      "text/plain": [
       "<AxesSubplot:>"
      ]
     },
     "execution_count": 218,
     "metadata": {},
     "output_type": "execute_result"
    },
    {
     "data": {
      "image/png": "[encoded data removed]",
      "text/plain": [
       "<Figure size 432x288 with 2 Axes>"
      ]
     },
     "metadata": {
      "needs_background": "light"
     },
     "output_type": "display_data"
    }
   ],
   "source": [
    "import seaborn as sns\n",
    "sns.heatmap(matrix1, annot=True)"
   ]
  },
  {
   "cell_type": "markdown",
   "id": "intensive-structure",
   "metadata": {},
   "source": [
    "## Exploration of predicts from model 1"
   ]
  },
  {
   "cell_type": "code",
   "execution_count": 179,
   "id": "existing-likelihood",
   "metadata": {},
   "outputs": [],
   "source": [
    "y_val_pred = nb_model.predict(X_val_vect1)"
   ]
  },
  {
   "cell_type": "code",
   "execution_count": 180,
   "id": "lucky-inquiry",
   "metadata": {},
   "outputs": [],
   "source": [
    "results = X_val.copy()"
   ]
  },
  {
   "cell_type": "code",
   "execution_count": 181,
   "id": "whole-saver",
   "metadata": {},
   "outputs": [],
   "source": [
    "results['y_val'] = y_val"
   ]
  },
  {
   "cell_type": "code",
   "execution_count": 182,
   "id": "developed-celebration",
   "metadata": {},
   "outputs": [],
   "source": [
    "results['y_pred'] = y_val_pred"
   ]
  },
  {
   "cell_type": "code",
   "execution_count": 183,
   "id": "accepting-waterproof",
   "metadata": {},
   "outputs": [],
   "source": [
    "results = results.drop(columns=['clip', 'ID', 'Phrase'])"
   ]
  },
  {
   "cell_type": "code",
   "execution_count": 184,
   "id": "unknown-olive",
   "metadata": {},
   "outputs": [],
   "source": [
    "results['results'] = 1 - abs(results['y_val'] - results['y_pred'])"
   ]
  },
  {
   "cell_type": "code",
   "execution_count": 185,
   "id": "composed-jason",
   "metadata": {},
   "outputs": [
    {
     "data": {
      "text/plain": [
       "(2169, 5)"
      ]
     },
     "execution_count": 185,
     "metadata": {},
     "output_type": "execute_result"
    }
   ],
   "source": [
    "results.shape"
   ]
  },
  {
   "cell_type": "code",
   "execution_count": 186,
   "id": "angry-gateway",
   "metadata": {},
   "outputs": [],
   "source": [
    "tete_faux = results[results['results'] == 0 ]"
   ]
  },
  {
   "cell_type": "code",
   "execution_count": 187,
   "id": "soviet-peoples",
   "metadata": {},
   "outputs": [],
   "source": [
    "tete_faux.to_csv('False_nlp_ml_m1.csv', index=False)"
   ]
  },
  {
   "cell_type": "markdown",
   "id": "unlikely-animal",
   "metadata": {},
   "source": [
    "## Tf-Id vectorizer"
   ]
  },
  {
   "cell_type": "code",
   "execution_count": 125,
   "id": "chronic-bedroom",
   "metadata": {},
   "outputs": [],
   "source": [
    "# Creation of a pipeline a grid search to know which parameters are better \n",
    "\n",
    "from sklearn.pipeline import Pipeline\n",
    "from sklearn.feature_extraction.text import TfidfVectorizer\n",
    "from sklearn.model_selection import GridSearchCV\n",
    "\n",
    "pipe = Pipeline([\n",
    "    ('vect', TfidfVectorizer()),\n",
    "    ('model', MultinomialNB ())\n",
    "])\n",
    "\n",
    "grid_params = {'vect__max_df': [0.7, 0.8, 0.9],\n",
    "              'vect__max_features': [30, 40, 50, 60],\n",
    "              'vect__ngram_range': [(1,1), (2,2)],\n",
    "              'vect__min_df': [0.8, 0.9, 1]}\n",
    "\n",
    "search = GridSearchCV(pipe, grid_params, n_jobs=-1, verbose=1, scoring='accuracy',cv=5)"
   ]
  },
  {
   "cell_type": "code",
   "execution_count": 126,
   "id": "lesser-exhaust",
   "metadata": {},
   "outputs": [
    {
     "name": "stdout",
     "output_type": "stream",
     "text": [
      "Fitting 5 folds for each of 72 candidates, totalling 360 fits\n"
     ]
    },
    {
     "name": "stderr",
     "output_type": "stream",
     "text": [
      "[Parallel(n_jobs=-1)]: Using backend LokyBackend with 4 concurrent workers.\n",
      "[Parallel(n_jobs=-1)]: Done  42 tasks      | elapsed:    8.4s\n",
      "[Parallel(n_jobs=-1)]: Done 192 tasks      | elapsed:   30.4s\n",
      "[Parallel(n_jobs=-1)]: Done 360 out of 360 | elapsed:   54.9s finished\n"
     ]
    },
    {
     "data": {
      "text/plain": [
       "GridSearchCV(cv=5, error_score=nan,\n",
       "             estimator=Pipeline(memory=None,\n",
       "                                steps=[('vect',\n",
       "                                        TfidfVectorizer(analyzer='word',\n",
       "                                                        binary=False,\n",
       "                                                        decode_error='strict',\n",
       "                                                        dtype=<class 'numpy.float64'>,\n",
       "                                                        encoding='utf-8',\n",
       "                                                        input='content',\n",
       "                                                        lowercase=True,\n",
       "                                                        max_df=1.0,\n",
       "                                                        max_features=None,\n",
       "                                                        min_df=1,\n",
       "                                                        ngram_range=(1, 1),\n",
       "                                                        norm='l2',\n",
       "                                                        preprocessor=None,\n",
       "                                                        smooth_idf=True,\n",
       "                                                        stop_words=None,\n",
       "                                                        strip_acce...\n",
       "                                                        vocabulary=None)),\n",
       "                                       ('model',\n",
       "                                        MultinomialNB(alpha=1.0,\n",
       "                                                      class_prior=None,\n",
       "                                                      fit_prior=True))],\n",
       "                                verbose=False),\n",
       "             iid='deprecated', n_jobs=-1,\n",
       "             param_grid={'vect__max_df': [0.7, 0.8, 0.9],\n",
       "                         'vect__max_features': [30, 40, 50, 60],\n",
       "                         'vect__min_df': [0.8, 0.9, 1],\n",
       "                         'vect__ngram_range': [(1, 1), (2, 2)]},\n",
       "             pre_dispatch='2*n_jobs', refit=True, return_train_score=False,\n",
       "             scoring='accuracy', verbose=1)"
      ]
     },
     "execution_count": 126,
     "metadata": {},
     "output_type": "execute_result"
    }
   ],
   "source": [
    "search.fit(X_t['clean_text'], y_t)"
   ]
  },
  {
   "cell_type": "code",
   "execution_count": 127,
   "id": "elegant-universe",
   "metadata": {},
   "outputs": [
    {
     "data": {
      "text/plain": [
       "{'vect__max_df': 0.7,\n",
       " 'vect__max_features': 50,\n",
       " 'vect__min_df': 1,\n",
       " 'vect__ngram_range': (1, 1)}"
      ]
     },
     "execution_count": 127,
     "metadata": {},
     "output_type": "execute_result"
    }
   ],
   "source": [
    "search.best_params_"
   ]
  },
  {
   "cell_type": "code",
   "execution_count": 128,
   "id": "proved-great",
   "metadata": {},
   "outputs": [],
   "source": [
    "pipe_good = Pipeline([\n",
    "    ('vect', TfidfVectorizer(max_df = 0.7, max_features = 50, ngram_range = (1,1))),\n",
    "    ('model', MultinomialNB())\n",
    "])"
   ]
  },
  {
   "cell_type": "code",
   "execution_count": 129,
   "id": "japanese-wellington",
   "metadata": {},
   "outputs": [
    {
     "data": {
      "text/plain": [
       "Pipeline(memory=None,\n",
       "         steps=[('vect',\n",
       "                 TfidfVectorizer(analyzer='word', binary=False,\n",
       "                                 decode_error='strict',\n",
       "                                 dtype=<class 'numpy.float64'>,\n",
       "                                 encoding='utf-8', input='content',\n",
       "                                 lowercase=True, max_df=0.7, max_features=50,\n",
       "                                 min_df=1, ngram_range=(1, 1), norm='l2',\n",
       "                                 preprocessor=None, smooth_idf=True,\n",
       "                                 stop_words=None, strip_accents=None,\n",
       "                                 sublinear_tf=False,\n",
       "                                 token_pattern='(?u)\\\\b\\\\w\\\\w+\\\\b',\n",
       "                                 tokenizer=None, use_idf=True,\n",
       "                                 vocabulary=None)),\n",
       "                ('model',\n",
       "                 MultinomialNB(alpha=1.0, class_prior=None, fit_prior=True))],\n",
       "         verbose=False)"
      ]
     },
     "execution_count": 129,
     "metadata": {},
     "output_type": "execute_result"
    }
   ],
   "source": [
    "pipe_good.fit(X_t['clean_text'], y_t)"
   ]
  },
  {
   "cell_type": "code",
   "execution_count": 130,
   "id": "undefined-museum",
   "metadata": {},
   "outputs": [
    {
     "data": {
      "text/plain": [
       "0.65"
      ]
     },
     "execution_count": 130,
     "metadata": {},
     "output_type": "execute_result"
    }
   ],
   "source": [
    "round(pipe_good.score(X_val['clean_text'], y_val),2)"
   ]
  },
  {
   "cell_type": "code",
   "execution_count": 131,
   "id": "indirect-webster",
   "metadata": {},
   "outputs": [
    {
     "data": {
      "text/plain": [
       "<AxesSubplot:>"
      ]
     },
     "execution_count": 131,
     "metadata": {},
     "output_type": "execute_result"
    },
    {
     "data": {
      "image/png": "[encoded data removed]",
      "text/plain": [
       "<Figure size 432x288 with 2 Axes>"
      ]
     },
     "metadata": {
      "needs_background": "light"
     },
     "output_type": "display_data"
    }
   ],
   "source": [
    "y_pred2 = pipe_good.predict(X_val['clean_text'])\n",
    "matrix2 = confusion_matrix(y_val, y_pred2)\n",
    "sns.heatmap(matrix2, annot=True)"
   ]
  },
  {
   "cell_type": "markdown",
   "id": "wooden-pottery",
   "metadata": {
    "heading_collapsed": true
   },
   "source": [
    "## Test previous models with more preprocessing: stopwords + lemmising"
   ]
  },
  {
   "cell_type": "markdown",
   "id": "about-richards",
   "metadata": {
    "heading_collapsed": true,
    "hidden": true
   },
   "source": [
    "### Remove stopwords"
   ]
  },
  {
   "cell_type": "code",
   "execution_count": 188,
   "id": "stretch-channels",
   "metadata": {
    "hidden": true
   },
   "outputs": [],
   "source": [
    "from nltk.corpus import stopwords\n",
    "from nltk.tokenize import word_tokenize\n",
    "\n",
    "stop_words = set(stopwords.words('english'))\n",
    "\n",
    "def rem_stop(x):\n",
    "    word_tokens = word_tokenize(x)\n",
    "    return ' '.join([word for word in word_tokens if word not in stop_words])\n",
    "X_train['clean_text2'] = X_train['clean_text'].apply(rem_stop)"
   ]
  },
  {
   "cell_type": "code",
   "execution_count": 189,
   "id": "wooden-texture",
   "metadata": {
    "hidden": true
   },
   "outputs": [
    {
     "data": {
      "text/html": [
       "<div>\n",
       "<style scoped>\n",
       "    .dataframe tbody tr th:only-of-type {\n",
       "        vertical-align: middle;\n",
       "    }\n",
       "\n",
       "    .dataframe tbody tr th {\n",
       "        vertical-align: top;\n",
       "    }\n",
       "\n",
       "    .dataframe thead th {\n",
       "        text-align: right;\n",
       "    }\n",
       "</style>\n",
       "<table border=\"1\" class=\"dataframe\">\n",
       "  <thead>\n",
       "    <tr style=\"text-align: right;\">\n",
       "      <th></th>\n",
       "      <th>Segment_ID</th>\n",
       "      <th>Phrase</th>\n",
       "      <th>clip</th>\n",
       "      <th>ID</th>\n",
       "      <th>clean_text</th>\n",
       "      <th>clean_text2</th>\n",
       "    </tr>\n",
       "  </thead>\n",
       "  <tbody>\n",
       "    <tr>\n",
       "      <th>0</th>\n",
       "      <td>2453226</td>\n",
       "      <td>But (uhh) so yeah</td>\n",
       "      <td>6</td>\n",
       "      <td>245322</td>\n",
       "      <td>but uhh so yeah</td>\n",
       "      <td>uhh yeah</td>\n",
       "    </tr>\n",
       "    <tr>\n",
       "      <th>1</th>\n",
       "      <td>8879712</td>\n",
       "      <td>The movie ruins it for itself</td>\n",
       "      <td>12</td>\n",
       "      <td>88797</td>\n",
       "      <td>the movie ruins it for itself</td>\n",
       "      <td>movie ruins</td>\n",
       "    </tr>\n",
       "    <tr>\n",
       "      <th>2</th>\n",
       "      <td>1378276</td>\n",
       "      <td>(umm) The acting's subpar, the screen the scr...</td>\n",
       "      <td>6</td>\n",
       "      <td>137827</td>\n",
       "      <td>umm the actings subpar the screen the screenp...</td>\n",
       "      <td>umm actings subpar screen screenplay stutter d...</td>\n",
       "    </tr>\n",
       "    <tr>\n",
       "      <th>3</th>\n",
       "      <td>3MFNIag0wNE9</td>\n",
       "      <td>And now, because of that, Machinima got intimi...</td>\n",
       "      <td>9</td>\n",
       "      <td>3MFNIag0wNE</td>\n",
       "      <td>and now because of that machinima got intimida...</td>\n",
       "      <td>machinima got intimidated decided shut show en...</td>\n",
       "    </tr>\n",
       "    <tr>\n",
       "      <th>4</th>\n",
       "      <td>3sUS8vXbRwg14</td>\n",
       "      <td>I thought something would have to descend on m...</td>\n",
       "      <td>14</td>\n",
       "      <td>3sUS8vXbRwg</td>\n",
       "      <td>i thought something would have to descend on m...</td>\n",
       "      <td>thought something would descend would level pu...</td>\n",
       "    </tr>\n",
       "    <tr>\n",
       "      <th>5</th>\n",
       "      <td>fz-MzQcOBwQ12</td>\n",
       "      <td>I don't say this lightly but this is probably...</td>\n",
       "      <td>12</td>\n",
       "      <td>fz-MzQcOBwQ</td>\n",
       "      <td>i dont say this lightly but this is probably ...</td>\n",
       "      <td>dont say lightly probably one best books ever ...</td>\n",
       "    </tr>\n",
       "    <tr>\n",
       "      <th>6</th>\n",
       "      <td>1069412</td>\n",
       "      <td>Surely, surely (stutter) wasn't hostile</td>\n",
       "      <td>2</td>\n",
       "      <td>106941</td>\n",
       "      <td>surely surely stutter wasnt hostile</td>\n",
       "      <td>surely surely stutter wasnt hostile</td>\n",
       "    </tr>\n",
       "    <tr>\n",
       "      <th>7</th>\n",
       "      <td>Kpe5fISxRTg6</td>\n",
       "      <td>Basically you're going to want to increase flu...</td>\n",
       "      <td>6</td>\n",
       "      <td>Kpe5fISxRTg</td>\n",
       "      <td>basically youre going to want to increase flui...</td>\n",
       "      <td>basically youre going want increase fluids res...</td>\n",
       "    </tr>\n",
       "    <tr>\n",
       "      <th>8</th>\n",
       "      <td>67uKYi7mslE14</td>\n",
       "      <td>That topic has come up before so that’s somet...</td>\n",
       "      <td>14</td>\n",
       "      <td>67uKYi7mslE</td>\n",
       "      <td>that topic has come up before so that’s somet...</td>\n",
       "      <td>topic come ’ something ’ looking maybe somethi...</td>\n",
       "    </tr>\n",
       "    <tr>\n",
       "      <th>9</th>\n",
       "      <td>18092311</td>\n",
       "      <td>I found this film to be one of the worst Disn...</td>\n",
       "      <td>11</td>\n",
       "      <td>180923</td>\n",
       "      <td>i found this film to be one of the worst disn...</td>\n",
       "      <td>found film one worst disney movies</td>\n",
       "    </tr>\n",
       "  </tbody>\n",
       "</table>\n",
       "</div>"
      ],
      "text/plain": [
       "      Segment_ID                                             Phrase  clip  \\\n",
       "0        2453226                                  But (uhh) so yeah     6   \n",
       "1        8879712                      The movie ruins it for itself    12   \n",
       "2        1378276   (umm) The acting's subpar, the screen the scr...     6   \n",
       "3   3MFNIag0wNE9  And now, because of that, Machinima got intimi...     9   \n",
       "4  3sUS8vXbRwg14  I thought something would have to descend on m...    14   \n",
       "5  fz-MzQcOBwQ12   I don't say this lightly but this is probably...    12   \n",
       "6        1069412            Surely, surely (stutter) wasn't hostile     2   \n",
       "7   Kpe5fISxRTg6  Basically you're going to want to increase flu...     6   \n",
       "8  67uKYi7mslE14   That topic has come up before so that’s somet...    14   \n",
       "9       18092311   I found this film to be one of the worst Disn...    11   \n",
       "\n",
       "            ID                                         clean_text  \\\n",
       "0       245322                                    but uhh so yeah   \n",
       "1        88797                      the movie ruins it for itself   \n",
       "2       137827   umm the actings subpar the screen the screenp...   \n",
       "3  3MFNIag0wNE  and now because of that machinima got intimida...   \n",
       "4  3sUS8vXbRwg  i thought something would have to descend on m...   \n",
       "5  fz-MzQcOBwQ   i dont say this lightly but this is probably ...   \n",
       "6       106941                surely surely stutter wasnt hostile   \n",
       "7  Kpe5fISxRTg  basically youre going to want to increase flui...   \n",
       "8  67uKYi7mslE   that topic has come up before so that’s somet...   \n",
       "9       180923   i found this film to be one of the worst disn...   \n",
       "\n",
       "                                         clean_text2  \n",
       "0                                           uhh yeah  \n",
       "1                                        movie ruins  \n",
       "2  umm actings subpar screen screenplay stutter d...  \n",
       "3  machinima got intimidated decided shut show en...  \n",
       "4  thought something would descend would level pu...  \n",
       "5  dont say lightly probably one best books ever ...  \n",
       "6                surely surely stutter wasnt hostile  \n",
       "7  basically youre going want increase fluids res...  \n",
       "8  topic come ’ something ’ looking maybe somethi...  \n",
       "9                 found film one worst disney movies  "
      ]
     },
     "execution_count": 189,
     "metadata": {},
     "output_type": "execute_result"
    }
   ],
   "source": [
    "X_train.head(10)"
   ]
  },
  {
   "cell_type": "markdown",
   "id": "separated-powder",
   "metadata": {
    "heading_collapsed": true,
    "hidden": true
   },
   "source": [
    "### Lemmatizing"
   ]
  },
  {
   "cell_type": "code",
   "execution_count": 190,
   "id": "pursuant-petroleum",
   "metadata": {
    "hidden": true
   },
   "outputs": [],
   "source": [
    "from nltk.stem import WordNetLemmatizer\n",
    "\n",
    "lemmatizer = WordNetLemmatizer()\n",
    "\n",
    "def lemmatize(x):\n",
    "    a = x.split(' ')\n",
    "    lemmatized = [lemmatizer.lemmatize(word) for word in a]\n",
    "    return ' '.join(lemmatized)"
   ]
  },
  {
   "cell_type": "code",
   "execution_count": 191,
   "id": "accepting-governor",
   "metadata": {
    "hidden": true
   },
   "outputs": [],
   "source": [
    "X_train['clean_text2'] = X_train['clean_text2'].apply(lemmatize)"
   ]
  },
  {
   "cell_type": "code",
   "execution_count": 192,
   "id": "green-negotiation",
   "metadata": {
    "hidden": true
   },
   "outputs": [
    {
     "data": {
      "text/html": [
       "<div>\n",
       "<style scoped>\n",
       "    .dataframe tbody tr th:only-of-type {\n",
       "        vertical-align: middle;\n",
       "    }\n",
       "\n",
       "    .dataframe tbody tr th {\n",
       "        vertical-align: top;\n",
       "    }\n",
       "\n",
       "    .dataframe thead th {\n",
       "        text-align: right;\n",
       "    }\n",
       "</style>\n",
       "<table border=\"1\" class=\"dataframe\">\n",
       "  <thead>\n",
       "    <tr style=\"text-align: right;\">\n",
       "      <th></th>\n",
       "      <th>Segment_ID</th>\n",
       "      <th>Phrase</th>\n",
       "      <th>clip</th>\n",
       "      <th>ID</th>\n",
       "      <th>clean_text</th>\n",
       "      <th>clean_text2</th>\n",
       "    </tr>\n",
       "  </thead>\n",
       "  <tbody>\n",
       "    <tr>\n",
       "      <th>0</th>\n",
       "      <td>2453226</td>\n",
       "      <td>But (uhh) so yeah</td>\n",
       "      <td>6</td>\n",
       "      <td>245322</td>\n",
       "      <td>but uhh so yeah</td>\n",
       "      <td>uhh yeah</td>\n",
       "    </tr>\n",
       "    <tr>\n",
       "      <th>1</th>\n",
       "      <td>8879712</td>\n",
       "      <td>The movie ruins it for itself</td>\n",
       "      <td>12</td>\n",
       "      <td>88797</td>\n",
       "      <td>the movie ruins it for itself</td>\n",
       "      <td>movie ruin</td>\n",
       "    </tr>\n",
       "    <tr>\n",
       "      <th>2</th>\n",
       "      <td>1378276</td>\n",
       "      <td>(umm) The acting's subpar, the screen the scr...</td>\n",
       "      <td>6</td>\n",
       "      <td>137827</td>\n",
       "      <td>umm the actings subpar the screen the screenp...</td>\n",
       "      <td>umm acting subpar screen screenplay stutter di...</td>\n",
       "    </tr>\n",
       "    <tr>\n",
       "      <th>3</th>\n",
       "      <td>3MFNIag0wNE9</td>\n",
       "      <td>And now, because of that, Machinima got intimi...</td>\n",
       "      <td>9</td>\n",
       "      <td>3MFNIag0wNE</td>\n",
       "      <td>and now because of that machinima got intimida...</td>\n",
       "      <td>machinima got intimidated decided shut show en...</td>\n",
       "    </tr>\n",
       "    <tr>\n",
       "      <th>4</th>\n",
       "      <td>3sUS8vXbRwg14</td>\n",
       "      <td>I thought something would have to descend on m...</td>\n",
       "      <td>14</td>\n",
       "      <td>3sUS8vXbRwg</td>\n",
       "      <td>i thought something would have to descend on m...</td>\n",
       "      <td>thought something would descend would level pu...</td>\n",
       "    </tr>\n",
       "    <tr>\n",
       "      <th>5</th>\n",
       "      <td>fz-MzQcOBwQ12</td>\n",
       "      <td>I don't say this lightly but this is probably...</td>\n",
       "      <td>12</td>\n",
       "      <td>fz-MzQcOBwQ</td>\n",
       "      <td>i dont say this lightly but this is probably ...</td>\n",
       "      <td>dont say lightly probably one best book ever read</td>\n",
       "    </tr>\n",
       "    <tr>\n",
       "      <th>6</th>\n",
       "      <td>1069412</td>\n",
       "      <td>Surely, surely (stutter) wasn't hostile</td>\n",
       "      <td>2</td>\n",
       "      <td>106941</td>\n",
       "      <td>surely surely stutter wasnt hostile</td>\n",
       "      <td>surely surely stutter wasnt hostile</td>\n",
       "    </tr>\n",
       "    <tr>\n",
       "      <th>7</th>\n",
       "      <td>Kpe5fISxRTg6</td>\n",
       "      <td>Basically you're going to want to increase flu...</td>\n",
       "      <td>6</td>\n",
       "      <td>Kpe5fISxRTg</td>\n",
       "      <td>basically youre going to want to increase flui...</td>\n",
       "      <td>basically youre going want increase fluid rest...</td>\n",
       "    </tr>\n",
       "    <tr>\n",
       "      <th>8</th>\n",
       "      <td>67uKYi7mslE14</td>\n",
       "      <td>That topic has come up before so that’s somet...</td>\n",
       "      <td>14</td>\n",
       "      <td>67uKYi7mslE</td>\n",
       "      <td>that topic has come up before so that’s somet...</td>\n",
       "      <td>topic come ’ something ’ looking maybe somethi...</td>\n",
       "    </tr>\n",
       "    <tr>\n",
       "      <th>9</th>\n",
       "      <td>18092311</td>\n",
       "      <td>I found this film to be one of the worst Disn...</td>\n",
       "      <td>11</td>\n",
       "      <td>180923</td>\n",
       "      <td>i found this film to be one of the worst disn...</td>\n",
       "      <td>found film one worst disney movie</td>\n",
       "    </tr>\n",
       "  </tbody>\n",
       "</table>\n",
       "</div>"
      ],
      "text/plain": [
       "      Segment_ID                                             Phrase  clip  \\\n",
       "0        2453226                                  But (uhh) so yeah     6   \n",
       "1        8879712                      The movie ruins it for itself    12   \n",
       "2        1378276   (umm) The acting's subpar, the screen the scr...     6   \n",
       "3   3MFNIag0wNE9  And now, because of that, Machinima got intimi...     9   \n",
       "4  3sUS8vXbRwg14  I thought something would have to descend on m...    14   \n",
       "5  fz-MzQcOBwQ12   I don't say this lightly but this is probably...    12   \n",
       "6        1069412            Surely, surely (stutter) wasn't hostile     2   \n",
       "7   Kpe5fISxRTg6  Basically you're going to want to increase flu...     6   \n",
       "8  67uKYi7mslE14   That topic has come up before so that’s somet...    14   \n",
       "9       18092311   I found this film to be one of the worst Disn...    11   \n",
       "\n",
       "            ID                                         clean_text  \\\n",
       "0       245322                                    but uhh so yeah   \n",
       "1        88797                      the movie ruins it for itself   \n",
       "2       137827   umm the actings subpar the screen the screenp...   \n",
       "3  3MFNIag0wNE  and now because of that machinima got intimida...   \n",
       "4  3sUS8vXbRwg  i thought something would have to descend on m...   \n",
       "5  fz-MzQcOBwQ   i dont say this lightly but this is probably ...   \n",
       "6       106941                surely surely stutter wasnt hostile   \n",
       "7  Kpe5fISxRTg  basically youre going to want to increase flui...   \n",
       "8  67uKYi7mslE   that topic has come up before so that’s somet...   \n",
       "9       180923   i found this film to be one of the worst disn...   \n",
       "\n",
       "                                         clean_text2  \n",
       "0                                           uhh yeah  \n",
       "1                                         movie ruin  \n",
       "2  umm acting subpar screen screenplay stutter di...  \n",
       "3  machinima got intimidated decided shut show en...  \n",
       "4  thought something would descend would level pu...  \n",
       "5  dont say lightly probably one best book ever read  \n",
       "6                surely surely stutter wasnt hostile  \n",
       "7  basically youre going want increase fluid rest...  \n",
       "8  topic come ’ something ’ looking maybe somethi...  \n",
       "9                  found film one worst disney movie  "
      ]
     },
     "execution_count": 192,
     "metadata": {},
     "output_type": "execute_result"
    }
   ],
   "source": [
    "X_train.head(10)"
   ]
  },
  {
   "cell_type": "markdown",
   "id": "intensive-skirt",
   "metadata": {
    "heading_collapsed": true,
    "hidden": true
   },
   "source": [
    "### Testing model on it"
   ]
  },
  {
   "cell_type": "code",
   "execution_count": 278,
   "id": "static-mercury",
   "metadata": {
    "hidden": true
   },
   "outputs": [],
   "source": [
    "# Create a validation set on X_train\n",
    "from sklearn.model_selection import train_test_split\n",
    "\n",
    "X_t, X_val, y_t, y_val = train_test_split(X_train, y_train_bin, test_size=0.2)"
   ]
  },
  {
   "cell_type": "code",
   "execution_count": 279,
   "id": "played-constitutional",
   "metadata": {
    "hidden": true
   },
   "outputs": [],
   "source": [
    "vectorizer = CountVectorizer()\n",
    "vectorizer.fit(X_t['clean_text2'])\n",
    "X_t_vect2 = vectorizer.transform(X_t['clean_text2'])"
   ]
  },
  {
   "cell_type": "code",
   "execution_count": 280,
   "id": "material-perth",
   "metadata": {
    "hidden": true
   },
   "outputs": [
    {
     "data": {
      "text/plain": [
       "MultinomialNB(alpha=1.0, class_prior=None, fit_prior=True)"
      ]
     },
     "execution_count": 280,
     "metadata": {},
     "output_type": "execute_result"
    }
   ],
   "source": [
    "nb_model2 = MultinomialNB()\n",
    "\n",
    "nb_model2.fit(X_t_vect2, y_t)"
   ]
  },
  {
   "cell_type": "code",
   "execution_count": 281,
   "id": "incorporate-directive",
   "metadata": {
    "hidden": true
   },
   "outputs": [],
   "source": [
    "# Vectorizer on X_val\n",
    "X_val_vect2 = vectorizer.transform(X_val['clean_text2'])"
   ]
  },
  {
   "cell_type": "code",
   "execution_count": 282,
   "id": "conscious-damage",
   "metadata": {
    "hidden": true
   },
   "outputs": [
    {
     "data": {
      "text/plain": [
       "0.7"
      ]
     },
     "execution_count": 282,
     "metadata": {},
     "output_type": "execute_result"
    }
   ],
   "source": [
    "# Compute accuracy on validation set\n",
    "round(nb_model2.score(X_val_vect2, y_val),2)"
   ]
  },
  {
   "cell_type": "code",
   "execution_count": 283,
   "id": "altered-meeting",
   "metadata": {
    "hidden": true
   },
   "outputs": [],
   "source": [
    "y_pred2 = nb_model2.predict(X_val_vect2)"
   ]
  },
  {
   "cell_type": "code",
   "execution_count": 284,
   "id": "random-robinson",
   "metadata": {
    "hidden": true
   },
   "outputs": [],
   "source": [
    "matrix3 = confusion_matrix(y_val, y_pred2)"
   ]
  },
  {
   "cell_type": "code",
   "execution_count": 285,
   "id": "charming-exhibit",
   "metadata": {
    "hidden": true
   },
   "outputs": [
    {
     "data": {
      "text/plain": [
       "<AxesSubplot:>"
      ]
     },
     "execution_count": 285,
     "metadata": {},
     "output_type": "execute_result"
    },
    {
     "data": {
      "image/png": "[encoded data removed]",
      "text/plain": [
       "<Figure size 432x288 with 2 Axes>"
      ]
     },
     "metadata": {
      "needs_background": "light"
     },
     "output_type": "display_data"
    }
   ],
   "source": [
    "import seaborn as sns\n",
    "sns.heatmap(matrix3, annot=True)"
   ]
  },
  {
   "cell_type": "markdown",
   "id": "expected-fossil",
   "metadata": {},
   "source": [
    "# 3-dim classification -0.5, 0.5"
   ]
  },
  {
   "cell_type": "markdown",
   "id": "exempt-demographic",
   "metadata": {},
   "source": [
    "## Data cleaning"
   ]
  },
  {
   "cell_type": "code",
   "execution_count": 257,
   "id": "soviet-immunology",
   "metadata": {},
   "outputs": [],
   "source": [
    "# Let's create 3 classes: -1 if neg, 0 if neutral, 1 if positive. We settle netral btw -0.5 & 0.5\n",
    "\n",
    "def first_split(x):\n",
    "    if x < -0.5:\n",
    "        return -1\n",
    "    if x < 0.5:\n",
    "        return 0\n",
    "    else:\n",
    "        return 1"
   ]
  },
  {
   "cell_type": "code",
   "execution_count": 258,
   "id": "municipal-nomination",
   "metadata": {},
   "outputs": [],
   "source": [
    "y_train_class3 = y_train.apply(first_split)"
   ]
  },
  {
   "cell_type": "code",
   "execution_count": 259,
   "id": "dutch-pacific",
   "metadata": {},
   "outputs": [
    {
     "data": {
      "image/png": "[encoded data removed]",
      "text/plain": [
       "<Figure size 432x288 with 1 Axes>"
      ]
     },
     "metadata": {
      "needs_background": "light"
     },
     "output_type": "display_data"
    }
   ],
   "source": [
    "# Classes appear to be relatively balanced with this split\n",
    "sns.histplot(y_train_class3);"
   ]
  },
  {
   "cell_type": "markdown",
   "id": "designed-captain",
   "metadata": {},
   "source": [
    "## First model"
   ]
  },
  {
   "cell_type": "code",
   "execution_count": 260,
   "id": "afraid-latin",
   "metadata": {},
   "outputs": [
    {
     "data": {
      "text/html": [
       "<div>\n",
       "<style scoped>\n",
       "    .dataframe tbody tr th:only-of-type {\n",
       "        vertical-align: middle;\n",
       "    }\n",
       "\n",
       "    .dataframe tbody tr th {\n",
       "        vertical-align: top;\n",
       "    }\n",
       "\n",
       "    .dataframe thead th {\n",
       "        text-align: right;\n",
       "    }\n",
       "</style>\n",
       "<table border=\"1\" class=\"dataframe\">\n",
       "  <thead>\n",
       "    <tr style=\"text-align: right;\">\n",
       "      <th></th>\n",
       "      <th>Segment_ID</th>\n",
       "      <th>Phrase</th>\n",
       "      <th>clip</th>\n",
       "      <th>ID</th>\n",
       "      <th>clean_text</th>\n",
       "      <th>clean_text2</th>\n",
       "    </tr>\n",
       "  </thead>\n",
       "  <tbody>\n",
       "    <tr>\n",
       "      <th>0</th>\n",
       "      <td>2453226</td>\n",
       "      <td>But (uhh) so yeah</td>\n",
       "      <td>6</td>\n",
       "      <td>245322</td>\n",
       "      <td>but uhh so yeah</td>\n",
       "      <td>uhh yeah</td>\n",
       "    </tr>\n",
       "  </tbody>\n",
       "</table>\n",
       "</div>"
      ],
      "text/plain": [
       "  Segment_ID              Phrase  clip      ID        clean_text clean_text2\n",
       "0    2453226   But (uhh) so yeah     6  245322   but uhh so yeah    uhh yeah"
      ]
     },
     "execution_count": 260,
     "metadata": {},
     "output_type": "execute_result"
    }
   ],
   "source": [
    "X_train.head(1)"
   ]
  },
  {
   "cell_type": "code",
   "execution_count": 261,
   "id": "executive-butler",
   "metadata": {},
   "outputs": [
    {
     "data": {
      "text/plain": [
       "0    0\n",
       "Name: Answer.sentiment, dtype: int64"
      ]
     },
     "execution_count": 261,
     "metadata": {},
     "output_type": "execute_result"
    }
   ],
   "source": [
    "y_train_class3.head(1)"
   ]
  },
  {
   "cell_type": "code",
   "execution_count": 286,
   "id": "featured-transaction",
   "metadata": {},
   "outputs": [],
   "source": [
    "# Create a validation set on X_train\n",
    "from sklearn.model_selection import train_test_split\n",
    "\n",
    "X_t, X_val, y_t, y_val = train_test_split(X_train, y_train_class3, test_size=0.2)"
   ]
  },
  {
   "cell_type": "code",
   "execution_count": 263,
   "id": "designed-adelaide",
   "metadata": {},
   "outputs": [
    {
     "data": {
      "text/plain": [
       " 0    825\n",
       " 1    712\n",
       "-1    632\n",
       "Name: Answer.sentiment, dtype: int64"
      ]
     },
     "execution_count": 263,
     "metadata": {},
     "output_type": "execute_result"
    }
   ],
   "source": [
    "y_val.value_counts()"
   ]
  },
  {
   "cell_type": "code",
   "execution_count": 264,
   "id": "reserved-usage",
   "metadata": {},
   "outputs": [],
   "source": [
    "vectorizer = CountVectorizer()\n",
    "vectorizer.fit(X_t['clean_text'])\n",
    "X_t_vect3 = vectorizer.transform(X_t['clean_text'])"
   ]
  },
  {
   "cell_type": "code",
   "execution_count": 265,
   "id": "offshore-conservation",
   "metadata": {},
   "outputs": [
    {
     "data": {
      "text/plain": [
       "MultinomialNB(alpha=1.0, class_prior=None, fit_prior=True)"
      ]
     },
     "execution_count": 265,
     "metadata": {},
     "output_type": "execute_result"
    }
   ],
   "source": [
    "nb_model3 = MultinomialNB()\n",
    "nb_model3.fit(X_t_vect3, y_t)"
   ]
  },
  {
   "cell_type": "code",
   "execution_count": 266,
   "id": "accepted-world",
   "metadata": {},
   "outputs": [],
   "source": [
    "X_val_vect3 = vectorizer.transform(X_val['clean_text'])"
   ]
  },
  {
   "cell_type": "code",
   "execution_count": 267,
   "id": "irish-canvas",
   "metadata": {},
   "outputs": [
    {
     "data": {
      "text/plain": [
       "0.59"
      ]
     },
     "execution_count": 267,
     "metadata": {},
     "output_type": "execute_result"
    }
   ],
   "source": [
    "round(nb_model3.score(X_val_vect3, y_val),2)"
   ]
  },
  {
   "cell_type": "code",
   "execution_count": 268,
   "id": "material-hacker",
   "metadata": {},
   "outputs": [],
   "source": [
    "y_pred3 = nb_model3.predict(X_val_vect3)"
   ]
  },
  {
   "cell_type": "code",
   "execution_count": 271,
   "id": "pacific-specific",
   "metadata": {},
   "outputs": [],
   "source": [
    "labels = [-1, 0, 1]"
   ]
  },
  {
   "cell_type": "code",
   "execution_count": 272,
   "id": "actual-bankruptcy",
   "metadata": {},
   "outputs": [],
   "source": [
    "matrix3 = confusion_matrix(y_val, y_pred3, labels)"
   ]
  },
  {
   "cell_type": "code",
   "execution_count": 273,
   "id": "owned-singles",
   "metadata": {},
   "outputs": [
    {
     "data": {
      "image/png": "[encoded data removed]",
      "text/plain": [
       "<Figure size 432x288 with 2 Axes>"
      ]
     },
     "metadata": {
      "needs_background": "light"
     },
     "output_type": "display_data"
    }
   ],
   "source": [
    "sns.heatmap(matrix3, annot=True);"
   ]
  },
  {
   "cell_type": "code",
   "execution_count": 255,
   "id": "bridal-subdivision",
   "metadata": {},
   "outputs": [
    {
     "data": {
      "text/plain": [
       "array([0, 0, 0, ..., 1, 2, 0])"
      ]
     },
     "execution_count": 255,
     "metadata": {},
     "output_type": "execute_result"
    }
   ],
   "source": [
    "y_pred3"
   ]
  },
  {
   "cell_type": "markdown",
   "id": "roman-burst",
   "metadata": {
    "heading_collapsed": true
   },
   "source": [
    "## CountVectorizer grid search"
   ]
  },
  {
   "cell_type": "code",
   "execution_count": 328,
   "id": "qualified-wonder",
   "metadata": {
    "hidden": true
   },
   "outputs": [],
   "source": [
    "# Create a validation set on X_train\n",
    "from sklearn.model_selection import train_test_split\n",
    "\n",
    "X_t, X_val, y_t, y_val = train_test_split(X_train, y_train_class3, test_size=0.2)"
   ]
  },
  {
   "cell_type": "code",
   "execution_count": 379,
   "id": "unusual-theory",
   "metadata": {
    "hidden": true
   },
   "outputs": [],
   "source": [
    "from sklearn.pipeline import Pipeline\n",
    "from sklearn.model_selection import GridSearchCV\n",
    "\n",
    "pipe = Pipeline([\n",
    "    ('vect', CountVectorizer()),\n",
    "    ('model', MultinomialNB ())\n",
    "])\n",
    "\n",
    "grid_params = {'vect__max_df': [0.4, 0.5],\n",
    "              'vect__max_features': [9000, 10000, 11000]}\n",
    "\n",
    "search = GridSearchCV(pipe, grid_params, n_jobs=-1, verbose=1, scoring='accuracy',cv=5)"
   ]
  },
  {
   "cell_type": "code",
   "execution_count": 380,
   "id": "moved-conviction",
   "metadata": {
    "hidden": true
   },
   "outputs": [
    {
     "name": "stdout",
     "output_type": "stream",
     "text": [
      "Fitting 5 folds for each of 6 candidates, totalling 30 fits\n"
     ]
    },
    {
     "name": "stderr",
     "output_type": "stream",
     "text": [
      "[Parallel(n_jobs=-1)]: Using backend LokyBackend with 4 concurrent workers.\n",
      "[Parallel(n_jobs=-1)]: Done  30 out of  30 | elapsed:    3.5s finished\n"
     ]
    },
    {
     "data": {
      "text/plain": [
       "GridSearchCV(cv=5, error_score=nan,\n",
       "             estimator=Pipeline(memory=None,\n",
       "                                steps=[('vect',\n",
       "                                        CountVectorizer(analyzer='word',\n",
       "                                                        binary=False,\n",
       "                                                        decode_error='strict',\n",
       "                                                        dtype=<class 'numpy.int64'>,\n",
       "                                                        encoding='utf-8',\n",
       "                                                        input='content',\n",
       "                                                        lowercase=True,\n",
       "                                                        max_df=1.0,\n",
       "                                                        max_features=None,\n",
       "                                                        min_df=1,\n",
       "                                                        ngram_range=(1, 1),\n",
       "                                                        preprocessor=None,\n",
       "                                                        stop_words=None,\n",
       "                                                        strip_accents=None,\n",
       "                                                        token_pattern='(?u)\\\\b\\\\w\\\\w+\\\\b',\n",
       "                                                        tokenizer=None,\n",
       "                                                        vocabulary=None)),\n",
       "                                       ('model',\n",
       "                                        MultinomialNB(alpha=1.0,\n",
       "                                                      class_prior=None,\n",
       "                                                      fit_prior=True))],\n",
       "                                verbose=False),\n",
       "             iid='deprecated', n_jobs=-1,\n",
       "             param_grid={'vect__max_df': [0.4, 0.5],\n",
       "                         'vect__max_features': [9000, 10000, 11000]},\n",
       "             pre_dispatch='2*n_jobs', refit=True, return_train_score=False,\n",
       "             scoring='accuracy', verbose=1)"
      ]
     },
     "execution_count": 380,
     "metadata": {},
     "output_type": "execute_result"
    }
   ],
   "source": [
    "search.fit(X_t['clean_text'], y_t)"
   ]
  },
  {
   "cell_type": "code",
   "execution_count": 381,
   "id": "novel-plant",
   "metadata": {
    "hidden": true
   },
   "outputs": [
    {
     "data": {
      "text/plain": [
       "{'vect__max_df': 0.5, 'vect__max_features': 10000}"
      ]
     },
     "execution_count": 381,
     "metadata": {},
     "output_type": "execute_result"
    }
   ],
   "source": [
    "search.best_params_"
   ]
  },
  {
   "cell_type": "code",
   "execution_count": 382,
   "id": "married-breakfast",
   "metadata": {
    "hidden": true
   },
   "outputs": [],
   "source": [
    "pipe_good = Pipeline([\n",
    "    ('vect', TfidfVectorizer(max_df = 0.5, max_features = 10000, min_df= 1)),\n",
    "    ('model', MultinomialNB())\n",
    "])"
   ]
  },
  {
   "cell_type": "code",
   "execution_count": 383,
   "id": "right-wrong",
   "metadata": {
    "hidden": true
   },
   "outputs": [
    {
     "data": {
      "text/plain": [
       "Pipeline(memory=None,\n",
       "         steps=[('vect',\n",
       "                 TfidfVectorizer(analyzer='word', binary=False,\n",
       "                                 decode_error='strict',\n",
       "                                 dtype=<class 'numpy.float64'>,\n",
       "                                 encoding='utf-8', input='content',\n",
       "                                 lowercase=True, max_df=0.5, max_features=10000,\n",
       "                                 min_df=1, ngram_range=(1, 1), norm='l2',\n",
       "                                 preprocessor=None, smooth_idf=True,\n",
       "                                 stop_words=None, strip_accents=None,\n",
       "                                 sublinear_tf=False,\n",
       "                                 token_pattern='(?u)\\\\b\\\\w\\\\w+\\\\b',\n",
       "                                 tokenizer=None, use_idf=True,\n",
       "                                 vocabulary=None)),\n",
       "                ('model',\n",
       "                 MultinomialNB(alpha=1.0, class_prior=None, fit_prior=True))],\n",
       "         verbose=False)"
      ]
     },
     "execution_count": 383,
     "metadata": {},
     "output_type": "execute_result"
    }
   ],
   "source": [
    "pipe_good.fit(X_t['clean_text'], y_t)"
   ]
  },
  {
   "cell_type": "code",
   "execution_count": 384,
   "id": "printable-intention",
   "metadata": {
    "hidden": true
   },
   "outputs": [
    {
     "data": {
      "text/plain": [
       "0.61"
      ]
     },
     "execution_count": 384,
     "metadata": {},
     "output_type": "execute_result"
    }
   ],
   "source": [
    "round(pipe_good.score(X_val['clean_text'], y_val),2)"
   ]
  },
  {
   "cell_type": "code",
   "execution_count": null,
   "id": "simple-portsmouth",
   "metadata": {
    "hidden": true
   },
   "outputs": [],
   "source": []
  },
  {
   "cell_type": "markdown",
   "id": "intellectual-cologne",
   "metadata": {
    "heading_collapsed": true
   },
   "source": [
    "## With more processing"
   ]
  },
  {
   "cell_type": "code",
   "execution_count": 287,
   "id": "nuclear-vegetation",
   "metadata": {
    "hidden": true
   },
   "outputs": [],
   "source": [
    "# Create a validation set on X_train\n",
    "from sklearn.model_selection import train_test_split\n",
    "\n",
    "X_t, X_val, y_t, y_val = train_test_split(X_train, y_train_class3, test_size=0.2)"
   ]
  },
  {
   "cell_type": "code",
   "execution_count": 288,
   "id": "operating-quarter",
   "metadata": {
    "hidden": true
   },
   "outputs": [],
   "source": [
    "vectorizer = CountVectorizer()\n",
    "vectorizer.fit(X_t['clean_text2'])\n",
    "X_t_vect2 = vectorizer.transform(X_t['clean_text2'])"
   ]
  },
  {
   "cell_type": "code",
   "execution_count": 289,
   "id": "balanced-shoot",
   "metadata": {
    "hidden": true
   },
   "outputs": [
    {
     "data": {
      "text/plain": [
       "MultinomialNB(alpha=1.0, class_prior=None, fit_prior=True)"
      ]
     },
     "execution_count": 289,
     "metadata": {},
     "output_type": "execute_result"
    }
   ],
   "source": [
    "nb_model4 = MultinomialNB()\n",
    "\n",
    "nb_model4.fit(X_t_vect2, y_t)"
   ]
  },
  {
   "cell_type": "code",
   "execution_count": 290,
   "id": "boring-pointer",
   "metadata": {
    "hidden": true
   },
   "outputs": [],
   "source": [
    "X_val_vect4 = vectorizer.transform(X_val['clean_text2'])"
   ]
  },
  {
   "cell_type": "code",
   "execution_count": 292,
   "id": "impaired-disney",
   "metadata": {
    "hidden": true
   },
   "outputs": [
    {
     "data": {
      "text/plain": [
       "0.58"
      ]
     },
     "execution_count": 292,
     "metadata": {},
     "output_type": "execute_result"
    }
   ],
   "source": [
    "round(nb_model4.score(X_val_vect4, y_val),2)"
   ]
  },
  {
   "cell_type": "code",
   "execution_count": 293,
   "id": "precise-making",
   "metadata": {
    "hidden": true
   },
   "outputs": [],
   "source": [
    "y_pred4 = nb_model4.predict(X_val_vect4)"
   ]
  },
  {
   "cell_type": "code",
   "execution_count": 294,
   "id": "heavy-siemens",
   "metadata": {
    "hidden": true
   },
   "outputs": [],
   "source": [
    "matrix4 = confusion_matrix(y_val, y_pred4)"
   ]
  },
  {
   "cell_type": "code",
   "execution_count": 295,
   "id": "super-temple",
   "metadata": {
    "hidden": true
   },
   "outputs": [
    {
     "data": {
      "image/png": "[encoded data removed]",
      "text/plain": [
       "<Figure size 432x288 with 2 Axes>"
      ]
     },
     "metadata": {
      "needs_background": "light"
     },
     "output_type": "display_data"
    }
   ],
   "source": [
    "sns.heatmap(matrix4, annot=True);"
   ]
  },
  {
   "cell_type": "code",
   "execution_count": 307,
   "id": "recognized-contributor",
   "metadata": {
    "hidden": true
   },
   "outputs": [],
   "source": [
    "import nltk"
   ]
  },
  {
   "cell_type": "code",
   "execution_count": 303,
   "id": "discrete-whole",
   "metadata": {
    "hidden": true
   },
   "outputs": [],
   "source": [
    "from textblob import TextBlob\n",
    "from textblob.sentiments import NaiveBayesAnalyzer"
   ]
  },
  {
   "cell_type": "code",
   "execution_count": 311,
   "id": "available-hydrogen",
   "metadata": {
    "hidden": true
   },
   "outputs": [
    {
     "name": "stderr",
     "output_type": "stream",
     "text": [
      "[nltk_data] Downloading package movie_reviews to\n",
      "[nltk_data]     /home/corentin/nltk_data...\n",
      "[nltk_data]   Unzipping corpora/movie_reviews.zip.\n"
     ]
    },
    {
     "data": {
      "text/plain": [
       "True"
      ]
     },
     "execution_count": 311,
     "metadata": {},
     "output_type": "execute_result"
    }
   ],
   "source": [
    "nltk.download('movie_reviews')"
   ]
  },
  {
   "cell_type": "code",
   "execution_count": 324,
   "id": "friendly-account",
   "metadata": {
    "hidden": true
   },
   "outputs": [],
   "source": [
    "wiki = TextBlob(\"I am in love\", analyzer=NaiveBayesAnalyzer())"
   ]
  },
  {
   "cell_type": "code",
   "execution_count": 325,
   "id": "right-scanner",
   "metadata": {
    "hidden": true
   },
   "outputs": [
    {
     "data": {
      "text/plain": [
       "0.5441400304414004"
      ]
     },
     "execution_count": 325,
     "metadata": {},
     "output_type": "execute_result"
    }
   ],
   "source": [
    "wiki.sentiment.p_pos"
   ]
  },
  {
   "cell_type": "code",
   "execution_count": 319,
   "id": "unable-infrastructure",
   "metadata": {
    "hidden": true
   },
   "outputs": [],
   "source": [
    "def text_blob(x):\n",
    "    return TextBlob(x, analyzer=NaiveBayesAnalyzer()).sentiment.p_pos"
   ]
  },
  {
   "cell_type": "code",
   "execution_count": 322,
   "id": "lonely-transfer",
   "metadata": {
    "hidden": true
   },
   "outputs": [
    {
     "data": {
      "text/html": [
       "<div>\n",
       "<style scoped>\n",
       "    .dataframe tbody tr th:only-of-type {\n",
       "        vertical-align: middle;\n",
       "    }\n",
       "\n",
       "    .dataframe tbody tr th {\n",
       "        vertical-align: top;\n",
       "    }\n",
       "\n",
       "    .dataframe thead th {\n",
       "        text-align: right;\n",
       "    }\n",
       "</style>\n",
       "<table border=\"1\" class=\"dataframe\">\n",
       "  <thead>\n",
       "    <tr style=\"text-align: right;\">\n",
       "      <th></th>\n",
       "      <th>Segment_ID</th>\n",
       "      <th>Phrase</th>\n",
       "      <th>clip</th>\n",
       "      <th>ID</th>\n",
       "      <th>clean_text</th>\n",
       "      <th>clean_text2</th>\n",
       "      <th>textblob</th>\n",
       "    </tr>\n",
       "  </thead>\n",
       "  <tbody>\n",
       "    <tr>\n",
       "      <th>0</th>\n",
       "      <td>2453226</td>\n",
       "      <td>But (uhh) so yeah</td>\n",
       "      <td>6</td>\n",
       "      <td>245322</td>\n",
       "      <td>but uhh so yeah</td>\n",
       "      <td>uhh yeah</td>\n",
       "      <td></td>\n",
       "    </tr>\n",
       "    <tr>\n",
       "      <th>1</th>\n",
       "      <td>8879712</td>\n",
       "      <td>The movie ruins it for itself</td>\n",
       "      <td>12</td>\n",
       "      <td>88797</td>\n",
       "      <td>the movie ruins it for itself</td>\n",
       "      <td>movie ruin</td>\n",
       "      <td></td>\n",
       "    </tr>\n",
       "    <tr>\n",
       "      <th>2</th>\n",
       "      <td>1378276</td>\n",
       "      <td>(umm) The acting's subpar, the screen the scr...</td>\n",
       "      <td>6</td>\n",
       "      <td>137827</td>\n",
       "      <td>umm the actings subpar the screen the screenp...</td>\n",
       "      <td>umm acting subpar screen screenplay stutter di...</td>\n",
       "      <td></td>\n",
       "    </tr>\n",
       "    <tr>\n",
       "      <th>3</th>\n",
       "      <td>3MFNIag0wNE9</td>\n",
       "      <td>And now, because of that, Machinima got intimi...</td>\n",
       "      <td>9</td>\n",
       "      <td>3MFNIag0wNE</td>\n",
       "      <td>and now because of that machinima got intimida...</td>\n",
       "      <td>machinima got intimidated decided shut show en...</td>\n",
       "      <td></td>\n",
       "    </tr>\n",
       "    <tr>\n",
       "      <th>4</th>\n",
       "      <td>3sUS8vXbRwg14</td>\n",
       "      <td>I thought something would have to descend on m...</td>\n",
       "      <td>14</td>\n",
       "      <td>3sUS8vXbRwg</td>\n",
       "      <td>i thought something would have to descend on m...</td>\n",
       "      <td>thought something would descend would level pu...</td>\n",
       "      <td></td>\n",
       "    </tr>\n",
       "  </tbody>\n",
       "</table>\n",
       "</div>"
      ],
      "text/plain": [
       "      Segment_ID                                             Phrase  clip  \\\n",
       "0        2453226                                  But (uhh) so yeah     6   \n",
       "1        8879712                      The movie ruins it for itself    12   \n",
       "2        1378276   (umm) The acting's subpar, the screen the scr...     6   \n",
       "3   3MFNIag0wNE9  And now, because of that, Machinima got intimi...     9   \n",
       "4  3sUS8vXbRwg14  I thought something would have to descend on m...    14   \n",
       "\n",
       "            ID                                         clean_text  \\\n",
       "0       245322                                    but uhh so yeah   \n",
       "1        88797                      the movie ruins it for itself   \n",
       "2       137827   umm the actings subpar the screen the screenp...   \n",
       "3  3MFNIag0wNE  and now because of that machinima got intimida...   \n",
       "4  3sUS8vXbRwg  i thought something would have to descend on m...   \n",
       "\n",
       "                                         clean_text2 textblob  \n",
       "0                                           uhh yeah           \n",
       "1                                         movie ruin           \n",
       "2  umm acting subpar screen screenplay stutter di...           \n",
       "3  machinima got intimidated decided shut show en...           \n",
       "4  thought something would descend would level pu...           "
      ]
     },
     "execution_count": 322,
     "metadata": {},
     "output_type": "execute_result"
    }
   ],
   "source": [
    "X_train.head()"
   ]
  },
  {
   "cell_type": "code",
   "execution_count": null,
   "id": "amber-pearl",
   "metadata": {
    "hidden": true
   },
   "outputs": [],
   "source": [
    "X_train_sample= X_train.sample()"
   ]
  },
  {
   "cell_type": "code",
   "execution_count": null,
   "id": "stuffed-socket",
   "metadata": {
    "hidden": true
   },
   "outputs": [],
   "source": [
    "def fun_textblob(x):\n",
    "    return 1 if x > 0.5 else 0"
   ]
  },
  {
   "cell_type": "code",
   "execution_count": null,
   "id": "continental-persian",
   "metadata": {
    "hidden": true
   },
   "outputs": [],
   "source": [
    "blob_pred = X_train['textblob'].apply(fun_textblob)"
   ]
  },
  {
   "cell_type": "markdown",
   "id": "injured-convert",
   "metadata": {},
   "source": [
    "# 3-dim -1 1"
   ]
  },
  {
   "cell_type": "markdown",
   "id": "hairy-shape",
   "metadata": {},
   "source": [
    "## Data cleaning"
   ]
  },
  {
   "cell_type": "code",
   "execution_count": 385,
   "id": "executed-eligibility",
   "metadata": {},
   "outputs": [],
   "source": [
    "# Let's create 3 classes: -1 if neg, 0 if neutral, 1 if positive. We settle netral btw -1 & 1\n",
    "\n",
    "def first_split(x):\n",
    "    if x < -1:\n",
    "        return -1\n",
    "    if x < 1:\n",
    "        return 0\n",
    "    else:\n",
    "        return 1"
   ]
  },
  {
   "cell_type": "code",
   "execution_count": 386,
   "id": "modified-winning",
   "metadata": {},
   "outputs": [],
   "source": [
    "y_train_class3_bis = y_train.apply(first_split)"
   ]
  },
  {
   "cell_type": "code",
   "execution_count": 403,
   "id": "applied-writing",
   "metadata": {},
   "outputs": [],
   "source": [
    "X_train = X_train.drop(columns=['y'])"
   ]
  },
  {
   "cell_type": "code",
   "execution_count": 405,
   "id": "inclusive-adventure",
   "metadata": {},
   "outputs": [],
   "source": [
    "X_train = X_train.drop(columns=['textblob'])"
   ]
  },
  {
   "cell_type": "code",
   "execution_count": 406,
   "id": "inappropriate-therapy",
   "metadata": {},
   "outputs": [],
   "source": [
    "df = X_train.copy()\n",
    "df['y'] = y_train_class3_bis"
   ]
  },
  {
   "cell_type": "code",
   "execution_count": 407,
   "id": "transparent-adaptation",
   "metadata": {},
   "outputs": [
    {
     "data": {
      "image/png": "[encoded data removed]",
      "text/plain": [
       "<Figure size 432x288 with 1 Axes>"
      ]
     },
     "metadata": {
      "needs_background": "light"
     },
     "output_type": "display_data"
    }
   ],
   "source": [
    "# Classes appear to be relatively balanced with this split\n",
    "sns.histplot(df['y']);"
   ]
  },
  {
   "cell_type": "code",
   "execution_count": 409,
   "id": "british-intelligence",
   "metadata": {},
   "outputs": [],
   "source": [
    "df_majority = df[df['y'] == 0]\n",
    "df_minority = df[df['y'] != 0]"
   ]
  },
  {
   "cell_type": "code",
   "execution_count": 410,
   "id": "expired-memorial",
   "metadata": {},
   "outputs": [],
   "source": [
    "from sklearn.utils import resample\n",
    "\n",
    "df_majority_downsampled = resample(df_majority, \n",
    "                                 replace=False,    # sample without replacement\n",
    "                                 n_samples=2500) # reproducible results"
   ]
  },
  {
   "cell_type": "code",
   "execution_count": 411,
   "id": "liable-option",
   "metadata": {},
   "outputs": [
    {
     "data": {
      "text/plain": [
       "(2500, 7)"
      ]
     },
     "execution_count": 411,
     "metadata": {},
     "output_type": "execute_result"
    }
   ],
   "source": [
    "df_majority_downsampled.shape"
   ]
  },
  {
   "cell_type": "code",
   "execution_count": 412,
   "id": "hollow-chocolate",
   "metadata": {},
   "outputs": [
    {
     "data": {
      "text/plain": [
       "(4447, 7)"
      ]
     },
     "execution_count": 412,
     "metadata": {},
     "output_type": "execute_result"
    }
   ],
   "source": [
    "df_minority.shape"
   ]
  },
  {
   "cell_type": "code",
   "execution_count": 413,
   "id": "unlike-wrapping",
   "metadata": {},
   "outputs": [],
   "source": [
    "df_downsampled = pd.concat([df_majority_downsampled, df_minority])"
   ]
  },
  {
   "cell_type": "code",
   "execution_count": 414,
   "id": "favorite-service",
   "metadata": {},
   "outputs": [
    {
     "data": {
      "text/plain": [
       "(6947, 7)"
      ]
     },
     "execution_count": 414,
     "metadata": {},
     "output_type": "execute_result"
    }
   ],
   "source": [
    "df_downsampled.shape"
   ]
  },
  {
   "cell_type": "code",
   "execution_count": 415,
   "id": "mysterious-diamond",
   "metadata": {},
   "outputs": [],
   "source": [
    "X_bal = df_downsampled.drop(columns=['y'])\n",
    "y_bal = df_downsampled['y']"
   ]
  },
  {
   "cell_type": "code",
   "execution_count": 416,
   "id": "amazing-german",
   "metadata": {},
   "outputs": [],
   "source": [
    "X_t_bal, X_val_bal, y_t_bal, y_val_bal = train_test_split(X_bal, y_bal, test_size=.2)"
   ]
  },
  {
   "cell_type": "code",
   "execution_count": 420,
   "id": "descending-grenada",
   "metadata": {},
   "outputs": [
    {
     "data": {
      "text/plain": [
       " 0    1993\n",
       " 1    1902\n",
       "-1    1662\n",
       "Name: y, dtype: int64"
      ]
     },
     "execution_count": 420,
     "metadata": {},
     "output_type": "execute_result"
    }
   ],
   "source": [
    "y_t_bal.value_counts()"
   ]
  },
  {
   "cell_type": "code",
   "execution_count": 421,
   "id": "distinct-method",
   "metadata": {},
   "outputs": [],
   "source": [
    "vectorizer = CountVectorizer()\n",
    "vectorizer.fit(X_t_bal['clean_text'])\n",
    "X_t_vect5 = vectorizer.transform(X_t_bal['clean_text'])"
   ]
  },
  {
   "cell_type": "code",
   "execution_count": 422,
   "id": "beginning-seafood",
   "metadata": {},
   "outputs": [
    {
     "data": {
      "text/plain": [
       "MultinomialNB(alpha=1.0, class_prior=None, fit_prior=True)"
      ]
     },
     "execution_count": 422,
     "metadata": {},
     "output_type": "execute_result"
    }
   ],
   "source": [
    "nb_model5 = MultinomialNB()\n",
    "nb_model5.fit(X_t_vect5, y_t_bal)"
   ]
  },
  {
   "cell_type": "code",
   "execution_count": 423,
   "id": "outside-plenty",
   "metadata": {},
   "outputs": [],
   "source": [
    "X_val_vect5 = vectorizer.transform(X_val_bal['clean_text'])"
   ]
  },
  {
   "cell_type": "code",
   "execution_count": 424,
   "id": "wired-purple",
   "metadata": {},
   "outputs": [
    {
     "data": {
      "text/plain": [
       "0.61"
      ]
     },
     "execution_count": 424,
     "metadata": {},
     "output_type": "execute_result"
    }
   ],
   "source": [
    "round(nb_model5.score(X_val_vect5, y_val_bal),2)"
   ]
  },
  {
   "cell_type": "code",
   "execution_count": 426,
   "id": "strange-treat",
   "metadata": {},
   "outputs": [],
   "source": [
    "y_pred5 = nb_model5.predict(X_val_vect5)"
   ]
  },
  {
   "cell_type": "code",
   "execution_count": 427,
   "id": "optical-turtle",
   "metadata": {},
   "outputs": [],
   "source": [
    "matrix5 = confusion_matrix(y_val_bal, y_pred5)"
   ]
  },
  {
   "cell_type": "code",
   "execution_count": 428,
   "id": "announced-knock",
   "metadata": {},
   "outputs": [
    {
     "data": {
      "image/png": "[encoded data removed]",
      "text/plain": [
       "<Figure size 432x288 with 2 Axes>"
      ]
     },
     "metadata": {
      "needs_background": "light"
     },
     "output_type": "display_data"
    }
   ],
   "source": [
    "sns.heatmap(matrix5, annot=True);"
   ]
  },
  {
   "cell_type": "code",
   "execution_count": 429,
   "id": "democratic-wilderness",
   "metadata": {},
   "outputs": [
    {
     "data": {
      "text/plain": [
       "((6947, 7), (1390,))"
      ]
     },
     "execution_count": 429,
     "metadata": {},
     "output_type": "execute_result"
    }
   ],
   "source": [
    "df_downsampled.shape, y_pred5.shape"
   ]
  },
  {
   "cell_type": "code",
   "execution_count": 430,
   "id": "laughing-shoot",
   "metadata": {},
   "outputs": [
    {
     "data": {
      "text/plain": [
       "(1390, 6)"
      ]
     },
     "execution_count": 430,
     "metadata": {},
     "output_type": "execute_result"
    }
   ],
   "source": [
    "X_val_bal.shape"
   ]
  },
  {
   "cell_type": "code",
   "execution_count": 431,
   "id": "soviet-meaning",
   "metadata": {},
   "outputs": [
    {
     "data": {
      "text/html": [
       "<div>\n",
       "<style scoped>\n",
       "    .dataframe tbody tr th:only-of-type {\n",
       "        vertical-align: middle;\n",
       "    }\n",
       "\n",
       "    .dataframe tbody tr th {\n",
       "        vertical-align: top;\n",
       "    }\n",
       "\n",
       "    .dataframe thead th {\n",
       "        text-align: right;\n",
       "    }\n",
       "</style>\n",
       "<table border=\"1\" class=\"dataframe\">\n",
       "  <thead>\n",
       "    <tr style=\"text-align: right;\">\n",
       "      <th></th>\n",
       "      <th>Segment_ID</th>\n",
       "      <th>Phrase</th>\n",
       "      <th>clip</th>\n",
       "      <th>ID</th>\n",
       "      <th>clean_text</th>\n",
       "      <th>clean_text2</th>\n",
       "    </tr>\n",
       "  </thead>\n",
       "  <tbody>\n",
       "    <tr>\n",
       "      <th>1776</th>\n",
       "      <td>734494</td>\n",
       "      <td>Independence Day and Godzilla this movie is not</td>\n",
       "      <td>4</td>\n",
       "      <td>73449</td>\n",
       "      <td>independence day and godzilla this movie is not</td>\n",
       "      <td>independence day godzilla movie</td>\n",
       "    </tr>\n",
       "    <tr>\n",
       "      <th>7675</th>\n",
       "      <td>27062825</td>\n",
       "      <td>So even though it, the music dragged you down...</td>\n",
       "      <td>25</td>\n",
       "      <td>270628</td>\n",
       "      <td>so even though it the music dragged you down ...</td>\n",
       "      <td>even though music dragged sad part movie bring...</td>\n",
       "    </tr>\n",
       "    <tr>\n",
       "      <th>10091</th>\n",
       "      <td>24418019</td>\n",
       "      <td>And they did pretty good special effects with...</td>\n",
       "      <td>19</td>\n",
       "      <td>244180</td>\n",
       "      <td>and they did pretty good special effects with...</td>\n",
       "      <td>pretty good special effect demon thing like</td>\n",
       "    </tr>\n",
       "  </tbody>\n",
       "</table>\n",
       "</div>"
      ],
      "text/plain": [
       "      Segment_ID                                             Phrase  clip  \\\n",
       "1776      734494    Independence Day and Godzilla this movie is not     4   \n",
       "7675    27062825   So even though it, the music dragged you down...    25   \n",
       "10091   24418019   And they did pretty good special effects with...    19   \n",
       "\n",
       "           ID                                         clean_text  \\\n",
       "1776    73449    independence day and godzilla this movie is not   \n",
       "7675   270628   so even though it the music dragged you down ...   \n",
       "10091  244180   and they did pretty good special effects with...   \n",
       "\n",
       "                                             clean_text2  \n",
       "1776                     independence day godzilla movie  \n",
       "7675   even though music dragged sad part movie bring...  \n",
       "10091        pretty good special effect demon thing like  "
      ]
     },
     "execution_count": 431,
     "metadata": {},
     "output_type": "execute_result"
    }
   ],
   "source": [
    "X_val_bal.head(3)"
   ]
  },
  {
   "cell_type": "code",
   "execution_count": 434,
   "id": "great-swing",
   "metadata": {},
   "outputs": [],
   "source": [
    "results2 = X_val_bal.copy()\n",
    "results2['y'] = y_val_bal"
   ]
  },
  {
   "cell_type": "code",
   "execution_count": 435,
   "id": "vietnamese-membrane",
   "metadata": {},
   "outputs": [],
   "source": [
    "results2['y_pred'] = y_pred5"
   ]
  },
  {
   "cell_type": "code",
   "execution_count": 436,
   "id": "danish-output",
   "metadata": {},
   "outputs": [
    {
     "data": {
      "text/html": [
       "<div>\n",
       "<style scoped>\n",
       "    .dataframe tbody tr th:only-of-type {\n",
       "        vertical-align: middle;\n",
       "    }\n",
       "\n",
       "    .dataframe tbody tr th {\n",
       "        vertical-align: top;\n",
       "    }\n",
       "\n",
       "    .dataframe thead th {\n",
       "        text-align: right;\n",
       "    }\n",
       "</style>\n",
       "<table border=\"1\" class=\"dataframe\">\n",
       "  <thead>\n",
       "    <tr style=\"text-align: right;\">\n",
       "      <th></th>\n",
       "      <th>Segment_ID</th>\n",
       "      <th>Phrase</th>\n",
       "      <th>clip</th>\n",
       "      <th>ID</th>\n",
       "      <th>clean_text</th>\n",
       "      <th>clean_text2</th>\n",
       "      <th>y</th>\n",
       "      <th>y_pred</th>\n",
       "    </tr>\n",
       "  </thead>\n",
       "  <tbody>\n",
       "    <tr>\n",
       "      <th>1776</th>\n",
       "      <td>734494</td>\n",
       "      <td>Independence Day and Godzilla this movie is not</td>\n",
       "      <td>4</td>\n",
       "      <td>73449</td>\n",
       "      <td>independence day and godzilla this movie is not</td>\n",
       "      <td>independence day godzilla movie</td>\n",
       "      <td>-1</td>\n",
       "      <td>-1</td>\n",
       "    </tr>\n",
       "    <tr>\n",
       "      <th>7675</th>\n",
       "      <td>27062825</td>\n",
       "      <td>So even though it, the music dragged you down...</td>\n",
       "      <td>25</td>\n",
       "      <td>270628</td>\n",
       "      <td>so even though it the music dragged you down ...</td>\n",
       "      <td>even though music dragged sad part movie bring...</td>\n",
       "      <td>-1</td>\n",
       "      <td>-1</td>\n",
       "    </tr>\n",
       "    <tr>\n",
       "      <th>10091</th>\n",
       "      <td>24418019</td>\n",
       "      <td>And they did pretty good special effects with...</td>\n",
       "      <td>19</td>\n",
       "      <td>244180</td>\n",
       "      <td>and they did pretty good special effects with...</td>\n",
       "      <td>pretty good special effect demon thing like</td>\n",
       "      <td>1</td>\n",
       "      <td>-1</td>\n",
       "    </tr>\n",
       "    <tr>\n",
       "      <th>8047</th>\n",
       "      <td>G38DwNDQ8Cc7</td>\n",
       "      <td>Imagine that you mulled this over, and time af...</td>\n",
       "      <td>7</td>\n",
       "      <td>G38DwNDQ8Cc</td>\n",
       "      <td>imagine that you mulled this over and time aft...</td>\n",
       "      <td>imagine mulled time time said nothing filled c...</td>\n",
       "      <td>0</td>\n",
       "      <td>0</td>\n",
       "    </tr>\n",
       "    <tr>\n",
       "      <th>10177</th>\n",
       "      <td>360987</td>\n",
       "      <td>The graphics are bad and everything, the acting</td>\n",
       "      <td>7</td>\n",
       "      <td>36098</td>\n",
       "      <td>the graphics are bad and everything the acting</td>\n",
       "      <td>graphic bad everything acting</td>\n",
       "      <td>-1</td>\n",
       "      <td>-1</td>\n",
       "    </tr>\n",
       "  </tbody>\n",
       "</table>\n",
       "</div>"
      ],
      "text/plain": [
       "         Segment_ID                                             Phrase  clip  \\\n",
       "1776         734494    Independence Day and Godzilla this movie is not     4   \n",
       "7675       27062825   So even though it, the music dragged you down...    25   \n",
       "10091      24418019   And they did pretty good special effects with...    19   \n",
       "8047   G38DwNDQ8Cc7  Imagine that you mulled this over, and time af...     7   \n",
       "10177        360987    The graphics are bad and everything, the acting     7   \n",
       "\n",
       "                ID                                         clean_text  \\\n",
       "1776         73449    independence day and godzilla this movie is not   \n",
       "7675        270628   so even though it the music dragged you down ...   \n",
       "10091       244180   and they did pretty good special effects with...   \n",
       "8047   G38DwNDQ8Cc  imagine that you mulled this over and time aft...   \n",
       "10177        36098     the graphics are bad and everything the acting   \n",
       "\n",
       "                                             clean_text2  y  y_pred  \n",
       "1776                     independence day godzilla movie -1      -1  \n",
       "7675   even though music dragged sad part movie bring... -1      -1  \n",
       "10091        pretty good special effect demon thing like  1      -1  \n",
       "8047   imagine mulled time time said nothing filled c...  0       0  \n",
       "10177                      graphic bad everything acting -1      -1  "
      ]
     },
     "execution_count": 436,
     "metadata": {},
     "output_type": "execute_result"
    }
   ],
   "source": [
    "results2.head()"
   ]
  },
  {
   "cell_type": "code",
   "execution_count": 445,
   "id": "insured-argentina",
   "metadata": {},
   "outputs": [],
   "source": [
    "results2[\"confusion\"] = abs(results2[\"y\"] - results2[\"y_pred\"])"
   ]
  },
  {
   "cell_type": "code",
   "execution_count": 446,
   "id": "widespread-gauge",
   "metadata": {},
   "outputs": [
    {
     "data": {
      "text/html": [
       "<div>\n",
       "<style scoped>\n",
       "    .dataframe tbody tr th:only-of-type {\n",
       "        vertical-align: middle;\n",
       "    }\n",
       "\n",
       "    .dataframe tbody tr th {\n",
       "        vertical-align: top;\n",
       "    }\n",
       "\n",
       "    .dataframe thead th {\n",
       "        text-align: right;\n",
       "    }\n",
       "</style>\n",
       "<table border=\"1\" class=\"dataframe\">\n",
       "  <thead>\n",
       "    <tr style=\"text-align: right;\">\n",
       "      <th></th>\n",
       "      <th>Segment_ID</th>\n",
       "      <th>Phrase</th>\n",
       "      <th>clip</th>\n",
       "      <th>ID</th>\n",
       "      <th>clean_text</th>\n",
       "      <th>clean_text2</th>\n",
       "      <th>y</th>\n",
       "      <th>y_pred</th>\n",
       "      <th>confusion</th>\n",
       "    </tr>\n",
       "  </thead>\n",
       "  <tbody>\n",
       "    <tr>\n",
       "      <th>1776</th>\n",
       "      <td>734494</td>\n",
       "      <td>Independence Day and Godzilla this movie is not</td>\n",
       "      <td>4</td>\n",
       "      <td>73449</td>\n",
       "      <td>independence day and godzilla this movie is not</td>\n",
       "      <td>independence day godzilla movie</td>\n",
       "      <td>-1</td>\n",
       "      <td>-1</td>\n",
       "      <td>0</td>\n",
       "    </tr>\n",
       "    <tr>\n",
       "      <th>7675</th>\n",
       "      <td>27062825</td>\n",
       "      <td>So even though it, the music dragged you down...</td>\n",
       "      <td>25</td>\n",
       "      <td>270628</td>\n",
       "      <td>so even though it the music dragged you down ...</td>\n",
       "      <td>even though music dragged sad part movie bring...</td>\n",
       "      <td>-1</td>\n",
       "      <td>-1</td>\n",
       "      <td>0</td>\n",
       "    </tr>\n",
       "    <tr>\n",
       "      <th>10091</th>\n",
       "      <td>24418019</td>\n",
       "      <td>And they did pretty good special effects with...</td>\n",
       "      <td>19</td>\n",
       "      <td>244180</td>\n",
       "      <td>and they did pretty good special effects with...</td>\n",
       "      <td>pretty good special effect demon thing like</td>\n",
       "      <td>1</td>\n",
       "      <td>-1</td>\n",
       "      <td>2</td>\n",
       "    </tr>\n",
       "    <tr>\n",
       "      <th>8047</th>\n",
       "      <td>G38DwNDQ8Cc7</td>\n",
       "      <td>Imagine that you mulled this over, and time af...</td>\n",
       "      <td>7</td>\n",
       "      <td>G38DwNDQ8Cc</td>\n",
       "      <td>imagine that you mulled this over and time aft...</td>\n",
       "      <td>imagine mulled time time said nothing filled c...</td>\n",
       "      <td>0</td>\n",
       "      <td>0</td>\n",
       "      <td>0</td>\n",
       "    </tr>\n",
       "    <tr>\n",
       "      <th>10177</th>\n",
       "      <td>360987</td>\n",
       "      <td>The graphics are bad and everything, the acting</td>\n",
       "      <td>7</td>\n",
       "      <td>36098</td>\n",
       "      <td>the graphics are bad and everything the acting</td>\n",
       "      <td>graphic bad everything acting</td>\n",
       "      <td>-1</td>\n",
       "      <td>-1</td>\n",
       "      <td>0</td>\n",
       "    </tr>\n",
       "  </tbody>\n",
       "</table>\n",
       "</div>"
      ],
      "text/plain": [
       "         Segment_ID                                             Phrase  clip  \\\n",
       "1776         734494    Independence Day and Godzilla this movie is not     4   \n",
       "7675       27062825   So even though it, the music dragged you down...    25   \n",
       "10091      24418019   And they did pretty good special effects with...    19   \n",
       "8047   G38DwNDQ8Cc7  Imagine that you mulled this over, and time af...     7   \n",
       "10177        360987    The graphics are bad and everything, the acting     7   \n",
       "\n",
       "                ID                                         clean_text  \\\n",
       "1776         73449    independence day and godzilla this movie is not   \n",
       "7675        270628   so even though it the music dragged you down ...   \n",
       "10091       244180   and they did pretty good special effects with...   \n",
       "8047   G38DwNDQ8Cc  imagine that you mulled this over and time aft...   \n",
       "10177        36098     the graphics are bad and everything the acting   \n",
       "\n",
       "                                             clean_text2  y  y_pred  confusion  \n",
       "1776                     independence day godzilla movie -1      -1          0  \n",
       "7675   even though music dragged sad part movie bring... -1      -1          0  \n",
       "10091        pretty good special effect demon thing like  1      -1          2  \n",
       "8047   imagine mulled time time said nothing filled c...  0       0          0  \n",
       "10177                      graphic bad everything acting -1      -1          0  "
      ]
     },
     "execution_count": 446,
     "metadata": {},
     "output_type": "execute_result"
    }
   ],
   "source": [
    "results2.head()"
   ]
  },
  {
   "cell_type": "code",
   "execution_count": 449,
   "id": "practical-child",
   "metadata": {},
   "outputs": [],
   "source": [
    "results_wrong = results2[results2['confusion'] == 1]"
   ]
  },
  {
   "cell_type": "code",
   "execution_count": 450,
   "id": "auburn-empire",
   "metadata": {},
   "outputs": [
    {
     "data": {
      "text/plain": [
       "(428, 9)"
      ]
     },
     "execution_count": 450,
     "metadata": {},
     "output_type": "execute_result"
    }
   ],
   "source": [
    "results_wrong.shape"
   ]
  },
  {
   "cell_type": "code",
   "execution_count": 454,
   "id": "running-conversion",
   "metadata": {},
   "outputs": [],
   "source": [
    "sample_wrong = results_wrong.sample(n=20)"
   ]
  },
  {
   "cell_type": "code",
   "execution_count": 453,
   "id": "corporate-milan",
   "metadata": {},
   "outputs": [
    {
     "data": {
      "text/plain": [
       "0.7996209910191279"
      ]
     },
     "execution_count": 453,
     "metadata": {},
     "output_type": "execute_result"
    }
   ],
   "source": [
    "from textblob import TextBlob\n",
    "from textblob.sentiments import NaiveBayesAnalyzer\n",
    "\n",
    "blob = TextBlob(\"I love this library\", analyzer=NaiveBayesAnalyzer())\n",
    "blob.sentiment.p_pos"
   ]
  },
  {
   "cell_type": "code",
   "execution_count": 460,
   "id": "standing-democrat",
   "metadata": {},
   "outputs": [],
   "source": [
    "def blob(x):\n",
    "    blob = TextBlob(x, analyzer=NaiveBayesAnalyzer())\n",
    "    if blob.sentiment.p_pos < 0.4:\n",
    "        return -1\n",
    "    elif blob.sentiment.p_pos < 0.6:\n",
    "        return 0\n",
    "    else:\n",
    "        return 1"
   ]
  },
  {
   "cell_type": "code",
   "execution_count": 461,
   "id": "lucky-greece",
   "metadata": {},
   "outputs": [],
   "source": [
    "sample_wrong['blob'] = sample_wrong['Phrase'].apply(blob)"
   ]
  },
  {
   "cell_type": "code",
   "execution_count": 462,
   "id": "pointed-gather",
   "metadata": {},
   "outputs": [
    {
     "data": {
      "text/html": [
       "<div>\n",
       "<style scoped>\n",
       "    .dataframe tbody tr th:only-of-type {\n",
       "        vertical-align: middle;\n",
       "    }\n",
       "\n",
       "    .dataframe tbody tr th {\n",
       "        vertical-align: top;\n",
       "    }\n",
       "\n",
       "    .dataframe thead th {\n",
       "        text-align: right;\n",
       "    }\n",
       "</style>\n",
       "<table border=\"1\" class=\"dataframe\">\n",
       "  <thead>\n",
       "    <tr style=\"text-align: right;\">\n",
       "      <th></th>\n",
       "      <th>Segment_ID</th>\n",
       "      <th>Phrase</th>\n",
       "      <th>clip</th>\n",
       "      <th>ID</th>\n",
       "      <th>clean_text</th>\n",
       "      <th>clean_text2</th>\n",
       "      <th>y</th>\n",
       "      <th>y_pred</th>\n",
       "      <th>confusion</th>\n",
       "      <th>blob</th>\n",
       "    </tr>\n",
       "  </thead>\n",
       "  <tbody>\n",
       "    <tr>\n",
       "      <th>902</th>\n",
       "      <td>2340539</td>\n",
       "      <td>We have some special features here</td>\n",
       "      <td>9</td>\n",
       "      <td>234053</td>\n",
       "      <td>we have some special features here</td>\n",
       "      <td>special feature</td>\n",
       "      <td>0</td>\n",
       "      <td>1</td>\n",
       "      <td>1</td>\n",
       "      <td>0</td>\n",
       "    </tr>\n",
       "    <tr>\n",
       "      <th>7980</th>\n",
       "      <td>K62NK2KYhws14</td>\n",
       "      <td>I also share insights from campaigns I’ve over...</td>\n",
       "      <td>14</td>\n",
       "      <td>K62NK2KYhws</td>\n",
       "      <td>i also share insights from campaigns i’ve over...</td>\n",
       "      <td>also share insight campaign ’ overseen usp res...</td>\n",
       "      <td>0</td>\n",
       "      <td>1</td>\n",
       "      <td>1</td>\n",
       "      <td>1</td>\n",
       "    </tr>\n",
       "    <tr>\n",
       "      <th>1812</th>\n",
       "      <td>MoQmPA7Q07Q4</td>\n",
       "      <td>Yet at the same point I'm watching them strug...</td>\n",
       "      <td>4</td>\n",
       "      <td>MoQmPA7Q07Q</td>\n",
       "      <td>yet at the same point im watching them strugg...</td>\n",
       "      <td>yet point im watching struggle financially fun...</td>\n",
       "      <td>-1</td>\n",
       "      <td>0</td>\n",
       "      <td>1</td>\n",
       "      <td>1</td>\n",
       "    </tr>\n",
       "    <tr>\n",
       "      <th>6030</th>\n",
       "      <td>Bg-PA5KTjNs7</td>\n",
       "      <td>I followed the instructions closely and after ...</td>\n",
       "      <td>7</td>\n",
       "      <td>Bg-PA5KTjNs</td>\n",
       "      <td>i followed the instructions closely and after ...</td>\n",
       "      <td>followed instruction closely week hair loss ac...</td>\n",
       "      <td>1</td>\n",
       "      <td>0</td>\n",
       "      <td>1</td>\n",
       "      <td>1</td>\n",
       "    </tr>\n",
       "    <tr>\n",
       "      <th>6647</th>\n",
       "      <td>4iG0ffmnCOw7</td>\n",
       "      <td>Beyond that, I actually excelled academically ...</td>\n",
       "      <td>7</td>\n",
       "      <td>4iG0ffmnCOw</td>\n",
       "      <td>beyond that i actually excelled academically f...</td>\n",
       "      <td>beyond actually excelled academically decision</td>\n",
       "      <td>0</td>\n",
       "      <td>1</td>\n",
       "      <td>1</td>\n",
       "      <td>0</td>\n",
       "    </tr>\n",
       "    <tr>\n",
       "      <th>5177</th>\n",
       "      <td>CO2YoTZbUr08</td>\n",
       "      <td>So now you're at the table with the light over...</td>\n",
       "      <td>8</td>\n",
       "      <td>CO2YoTZbUr0</td>\n",
       "      <td>so now youre at the table with the light over ...</td>\n",
       "      <td>youre table light theyre asking question saw m...</td>\n",
       "      <td>0</td>\n",
       "      <td>1</td>\n",
       "      <td>1</td>\n",
       "      <td>1</td>\n",
       "    </tr>\n",
       "    <tr>\n",
       "      <th>2937</th>\n",
       "      <td>ZtocGyL3Tfc10</td>\n",
       "      <td>The ILO has highlighted that there is a link b...</td>\n",
       "      <td>10</td>\n",
       "      <td>ZtocGyL3Tfc</td>\n",
       "      <td>the ilo has highlighted that there is a link b...</td>\n",
       "      <td>ilo highlighted link social justice fair globa...</td>\n",
       "      <td>1</td>\n",
       "      <td>0</td>\n",
       "      <td>1</td>\n",
       "      <td>1</td>\n",
       "    </tr>\n",
       "    <tr>\n",
       "      <th>5035</th>\n",
       "      <td>2340537</td>\n",
       "      <td>\" Those are noble words about a movie right there</td>\n",
       "      <td>7</td>\n",
       "      <td>234053</td>\n",
       "      <td>those are noble words about a movie right there</td>\n",
       "      <td>noble word movie right</td>\n",
       "      <td>1</td>\n",
       "      <td>0</td>\n",
       "      <td>1</td>\n",
       "      <td>0</td>\n",
       "    </tr>\n",
       "    <tr>\n",
       "      <th>7627</th>\n",
       "      <td>PQYmOknHA4c11</td>\n",
       "      <td>I don't mean your city</td>\n",
       "      <td>11</td>\n",
       "      <td>PQYmOknHA4c</td>\n",
       "      <td>i dont mean your city</td>\n",
       "      <td>dont mean city</td>\n",
       "      <td>1</td>\n",
       "      <td>0</td>\n",
       "      <td>1</td>\n",
       "      <td>0</td>\n",
       "    </tr>\n",
       "    <tr>\n",
       "      <th>8278</th>\n",
       "      <td>4026013</td>\n",
       "      <td>So he does, he runs for president and he actu...</td>\n",
       "      <td>13</td>\n",
       "      <td>40260</td>\n",
       "      <td>so he does he runs for president and he actua...</td>\n",
       "      <td>run president actually get stutter voting system</td>\n",
       "      <td>1</td>\n",
       "      <td>0</td>\n",
       "      <td>1</td>\n",
       "      <td>-1</td>\n",
       "    </tr>\n",
       "  </tbody>\n",
       "</table>\n",
       "</div>"
      ],
      "text/plain": [
       "         Segment_ID                                             Phrase  clip  \\\n",
       "902         2340539                 We have some special features here     9   \n",
       "7980  K62NK2KYhws14  I also share insights from campaigns I’ve over...    14   \n",
       "1812   MoQmPA7Q07Q4   Yet at the same point I'm watching them strug...     4   \n",
       "6030   Bg-PA5KTjNs7  I followed the instructions closely and after ...     7   \n",
       "6647   4iG0ffmnCOw7  Beyond that, I actually excelled academically ...     7   \n",
       "5177   CO2YoTZbUr08  So now you're at the table with the light over...     8   \n",
       "2937  ZtocGyL3Tfc10  The ILO has highlighted that there is a link b...    10   \n",
       "5035        2340537  \" Those are noble words about a movie right there     7   \n",
       "7627  PQYmOknHA4c11                             I don't mean your city    11   \n",
       "8278        4026013   So he does, he runs for president and he actu...    13   \n",
       "\n",
       "               ID                                         clean_text  \\\n",
       "902        234053                 we have some special features here   \n",
       "7980  K62NK2KYhws  i also share insights from campaigns i’ve over...   \n",
       "1812  MoQmPA7Q07Q   yet at the same point im watching them strugg...   \n",
       "6030  Bg-PA5KTjNs  i followed the instructions closely and after ...   \n",
       "6647  4iG0ffmnCOw  beyond that i actually excelled academically f...   \n",
       "5177  CO2YoTZbUr0  so now youre at the table with the light over ...   \n",
       "2937  ZtocGyL3Tfc  the ilo has highlighted that there is a link b...   \n",
       "5035       234053    those are noble words about a movie right there   \n",
       "7627  PQYmOknHA4c                              i dont mean your city   \n",
       "8278        40260   so he does he runs for president and he actua...   \n",
       "\n",
       "                                            clean_text2  y  y_pred  confusion  \\\n",
       "902                                     special feature  0       1          1   \n",
       "7980  also share insight campaign ’ overseen usp res...  0       1          1   \n",
       "1812  yet point im watching struggle financially fun... -1       0          1   \n",
       "6030  followed instruction closely week hair loss ac...  1       0          1   \n",
       "6647     beyond actually excelled academically decision  0       1          1   \n",
       "5177  youre table light theyre asking question saw m...  0       1          1   \n",
       "2937  ilo highlighted link social justice fair globa...  1       0          1   \n",
       "5035                             noble word movie right  1       0          1   \n",
       "7627                                     dont mean city  1       0          1   \n",
       "8278   run president actually get stutter voting system  1       0          1   \n",
       "\n",
       "      blob  \n",
       "902      0  \n",
       "7980     1  \n",
       "1812     1  \n",
       "6030     1  \n",
       "6647     0  \n",
       "5177     1  \n",
       "2937     1  \n",
       "5035     0  \n",
       "7627     0  \n",
       "8278    -1  "
      ]
     },
     "execution_count": 462,
     "metadata": {},
     "output_type": "execute_result"
    }
   ],
   "source": [
    "sample_wrong.head(10)"
   ]
  },
  {
   "cell_type": "code",
   "execution_count": null,
   "id": "heard-plate",
   "metadata": {},
   "outputs": [],
   "source": []
  }
 ],
 "metadata": {
  "kernelspec": {
   "display_name": "Python 3",
   "language": "python",
   "name": "python3"
  },
  "language_info": {
   "codemirror_mode": {
    "name": "ipython",
    "version": 3
   },
   "file_extension": ".py",
   "mimetype": "text/x-python",
   "name": "python",
   "nbconvert_exporter": "python",
   "pygments_lexer": "ipython3",
   "version": "3.8.6"
  },
  "toc": {
   "base_numbering": 1,
   "nav_menu": {},
   "number_sections": true,
   "sideBar": true,
   "skip_h1_title": false,
   "title_cell": "Table of Contents",
   "title_sidebar": "Contents",
   "toc_cell": false,
   "toc_position": {},
   "toc_section_display": true,
   "toc_window_display": false
  }
 },
 "nbformat": 4,
 "nbformat_minor": 5
}
