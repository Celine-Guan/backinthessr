{
 "cells": [
  {
   "cell_type": "code",
   "execution_count": 1,
   "id": "electric-circular",
   "metadata": {},
   "outputs": [],
   "source": [
    "import numpy as np\n",
    "import pandas as pd"
   ]
  },
  {
   "cell_type": "markdown",
   "id": "humanitarian-ladder",
   "metadata": {},
   "source": [
    "# Data loading and cleaning"
   ]
  },
  {
   "cell_type": "code",
   "execution_count": 2,
   "id": "assured-aggregate",
   "metadata": {},
   "outputs": [],
   "source": [
    "# Loading data from raw_data\n",
    "X_train = pd.read_csv('../../raw_data/clean_sentiment_data/X_train.csv')\n",
    "y_train = pd.read_csv('../../raw_data/clean_sentiment_data/y_train.csv')\n",
    "# X_test = pd.read_csv('../../raw_data/clean_sentiment_data/X_test.csv')\n",
    "# y_test = pd.read_csv('../../raw_data/clean_sentiment_data/y_test.csv')"
   ]
  },
  {
   "cell_type": "code",
   "execution_count": 3,
   "id": "knowing-application",
   "metadata": {},
   "outputs": [],
   "source": [
    "# Transforming y in pd.Series\n",
    "y_train = y_train['Answer.sentiment']"
   ]
  },
  {
   "cell_type": "markdown",
   "id": "friendly-cherry",
   "metadata": {},
   "source": [
    "# Binary classification"
   ]
  },
  {
   "cell_type": "markdown",
   "id": "smooth-eight",
   "metadata": {},
   "source": [
    "## Data cleaning"
   ]
  },
  {
   "cell_type": "code",
   "execution_count": 4,
   "id": "alike-inspiration",
   "metadata": {},
   "outputs": [],
   "source": [
    "y_train_bin = y_train.apply(lambda x: 0 if x <= 0 else 1)"
   ]
  },
  {
   "cell_type": "code",
   "execution_count": 5,
   "id": "convenient-humor",
   "metadata": {},
   "outputs": [
    {
     "data": {
      "text/html": [
       "<div>\n",
       "<style scoped>\n",
       "    .dataframe tbody tr th:only-of-type {\n",
       "        vertical-align: middle;\n",
       "    }\n",
       "\n",
       "    .dataframe tbody tr th {\n",
       "        vertical-align: top;\n",
       "    }\n",
       "\n",
       "    .dataframe thead th {\n",
       "        text-align: right;\n",
       "    }\n",
       "</style>\n",
       "<table border=\"1\" class=\"dataframe\">\n",
       "  <thead>\n",
       "    <tr style=\"text-align: right;\">\n",
       "      <th></th>\n",
       "      <th>Phrase</th>\n",
       "    </tr>\n",
       "  </thead>\n",
       "  <tbody>\n",
       "    <tr>\n",
       "      <th>0</th>\n",
       "      <td>But (uhh) so yeah</td>\n",
       "    </tr>\n",
       "    <tr>\n",
       "      <th>1</th>\n",
       "      <td>The movie ruins it for itself</td>\n",
       "    </tr>\n",
       "    <tr>\n",
       "      <th>2</th>\n",
       "      <td>(umm) The acting's subpar, the screen the scr...</td>\n",
       "    </tr>\n",
       "    <tr>\n",
       "      <th>3</th>\n",
       "      <td>And now, because of that, Machinima got intimi...</td>\n",
       "    </tr>\n",
       "    <tr>\n",
       "      <th>4</th>\n",
       "      <td>I thought something would have to descend on m...</td>\n",
       "    </tr>\n",
       "    <tr>\n",
       "      <th>...</th>\n",
       "      <td>...</td>\n",
       "    </tr>\n",
       "    <tr>\n",
       "      <th>10837</th>\n",
       "      <td>When we're talking about a verb, a verb can ha...</td>\n",
       "    </tr>\n",
       "    <tr>\n",
       "      <th>10838</th>\n",
       "      <td>If you are continuing at OSU, I hope you have ...</td>\n",
       "    </tr>\n",
       "    <tr>\n",
       "      <th>10839</th>\n",
       "      <td>I come in and I say \"Okay, hi everybody I'm go...</td>\n",
       "    </tr>\n",
       "    <tr>\n",
       "      <th>10840</th>\n",
       "      <td>This time, in the birthplace of modern innovat...</td>\n",
       "    </tr>\n",
       "    <tr>\n",
       "      <th>10841</th>\n",
       "      <td>I think Steve Martin's done other better things</td>\n",
       "    </tr>\n",
       "  </tbody>\n",
       "</table>\n",
       "<p>10842 rows × 1 columns</p>\n",
       "</div>"
      ],
      "text/plain": [
       "                                                  Phrase\n",
       "0                                      But (uhh) so yeah\n",
       "1                          The movie ruins it for itself\n",
       "2       (umm) The acting's subpar, the screen the scr...\n",
       "3      And now, because of that, Machinima got intimi...\n",
       "4      I thought something would have to descend on m...\n",
       "...                                                  ...\n",
       "10837  When we're talking about a verb, a verb can ha...\n",
       "10838  If you are continuing at OSU, I hope you have ...\n",
       "10839  I come in and I say \"Okay, hi everybody I'm go...\n",
       "10840  This time, in the birthplace of modern innovat...\n",
       "10841    I think Steve Martin's done other better things\n",
       "\n",
       "[10842 rows x 1 columns]"
      ]
     },
     "execution_count": 5,
     "metadata": {},
     "output_type": "execute_result"
    }
   ],
   "source": [
    "X_train.drop(columns=['Segment_ID', 'clip', 'ID'])"
   ]
  },
  {
   "cell_type": "markdown",
   "id": "outer-tablet",
   "metadata": {},
   "source": [
    "## Basic preprocessing"
   ]
  },
  {
   "cell_type": "markdown",
   "id": "primary-clearing",
   "metadata": {},
   "source": [
    "### Lowercase"
   ]
  },
  {
   "cell_type": "code",
   "execution_count": 6,
   "id": "sharp-stevens",
   "metadata": {},
   "outputs": [],
   "source": [
    "def lower(x):\n",
    "    return x.lower()"
   ]
  },
  {
   "cell_type": "code",
   "execution_count": 7,
   "id": "great-boost",
   "metadata": {},
   "outputs": [],
   "source": [
    "X_train['clean_text'] = X_train['Phrase'].apply(lower)"
   ]
  },
  {
   "cell_type": "markdown",
   "id": "bored-specific",
   "metadata": {},
   "source": [
    "### Remove punctuation"
   ]
  },
  {
   "cell_type": "code",
   "execution_count": 8,
   "id": "proud-senate",
   "metadata": {},
   "outputs": [],
   "source": [
    "import string\n",
    "def punct(x):\n",
    "    for text in string.punctuation:\n",
    "        x = x.replace(text, '')\n",
    "    return x"
   ]
  },
  {
   "cell_type": "code",
   "execution_count": 9,
   "id": "operational-perception",
   "metadata": {},
   "outputs": [],
   "source": [
    "X_train['clean_text'] = X_train['clean_text'].apply(punct)"
   ]
  },
  {
   "cell_type": "markdown",
   "id": "mathematical-pharmacy",
   "metadata": {},
   "source": [
    "### Remove numbers"
   ]
  },
  {
   "cell_type": "code",
   "execution_count": 10,
   "id": "stretch-haven",
   "metadata": {},
   "outputs": [],
   "source": [
    "def del_num(x):\n",
    "    return ''.join([letter for letter in x if not letter.isdigit()])"
   ]
  },
  {
   "cell_type": "code",
   "execution_count": 11,
   "id": "wrong-nebraska",
   "metadata": {},
   "outputs": [],
   "source": [
    "X_train['clean_text'] = X_train['clean_text'].apply(del_num)"
   ]
  },
  {
   "cell_type": "markdown",
   "id": "unlikely-superintendent",
   "metadata": {
    "heading_collapsed": true
   },
   "source": [
    "## First model with bag of words CountVectorizer & MultinomialNB"
   ]
  },
  {
   "cell_type": "code",
   "execution_count": 12,
   "id": "cathedral-colleague",
   "metadata": {
    "hidden": true
   },
   "outputs": [],
   "source": [
    "# Create a validation set on X_train\n",
    "from sklearn.model_selection import train_test_split\n",
    "\n",
    "X_t, X_val, y_t, y_val = train_test_split(X_train, y_train_bin, test_size=0.2)"
   ]
  },
  {
   "cell_type": "code",
   "execution_count": 13,
   "id": "intense-school",
   "metadata": {
    "hidden": true
   },
   "outputs": [],
   "source": [
    "from sklearn.feature_extraction.text import CountVectorizer\n",
    "\n",
    "vectorizer = CountVectorizer()\n",
    "vectorizer.fit(X_t['clean_text'])\n",
    "X_t_vect1 = vectorizer.transform(X_t['clean_text'])"
   ]
  },
  {
   "cell_type": "code",
   "execution_count": 14,
   "id": "theoretical-father",
   "metadata": {
    "hidden": true
   },
   "outputs": [
    {
     "data": {
      "text/plain": [
       "MultinomialNB(alpha=1.0, class_prior=None, fit_prior=True)"
      ]
     },
     "execution_count": 14,
     "metadata": {},
     "output_type": "execute_result"
    }
   ],
   "source": [
    "from sklearn.model_selection import cross_validate\n",
    "from sklearn.naive_bayes import MultinomialNB\n",
    "\n",
    "nb_model = MultinomialNB()\n",
    "\n",
    "nb_model.fit(X_t_vect1, y_t)"
   ]
  },
  {
   "cell_type": "code",
   "execution_count": 15,
   "id": "quiet-record",
   "metadata": {
    "hidden": true
   },
   "outputs": [],
   "source": [
    "# Vectorizer on X_val\n",
    "X_val_vect1 = vectorizer.transform(X_val['clean_text'])"
   ]
  },
  {
   "cell_type": "code",
   "execution_count": 16,
   "id": "cubic-victim",
   "metadata": {
    "hidden": true
   },
   "outputs": [
    {
     "data": {
      "text/plain": [
       "0.71"
      ]
     },
     "execution_count": 16,
     "metadata": {},
     "output_type": "execute_result"
    }
   ],
   "source": [
    "# Compute accuracy on validation set\n",
    "round(nb_model.score(X_val_vect1, y_val),2)"
   ]
  },
  {
   "cell_type": "code",
   "execution_count": 17,
   "id": "junior-illinois",
   "metadata": {
    "hidden": true
   },
   "outputs": [],
   "source": [
    "y_pred1 = nb_model.predict(X_val_vect1)"
   ]
  },
  {
   "cell_type": "code",
   "execution_count": 18,
   "id": "needed-friendship",
   "metadata": {
    "hidden": true
   },
   "outputs": [],
   "source": [
    "from sklearn.metrics import confusion_matrix\n",
    "\n",
    "matrix1 = confusion_matrix(y_val, y_pred1)"
   ]
  },
  {
   "cell_type": "code",
   "execution_count": 19,
   "id": "rotary-jaguar",
   "metadata": {
    "hidden": true
   },
   "outputs": [
    {
     "data": {
      "text/plain": [
       "<AxesSubplot:>"
      ]
     },
     "execution_count": 19,
     "metadata": {},
     "output_type": "execute_result"
    },
    {
     "data": {
      "image/png": "[encoded data removed]",
      "text/plain": [
       "<Figure size 432x288 with 2 Axes>"
      ]
     },
     "metadata": {
      "needs_background": "light"
     },
     "output_type": "display_data"
    }
   ],
   "source": [
    "import seaborn as sns\n",
    "sns.heatmap(matrix1, annot=True)"
   ]
  },
  {
   "cell_type": "markdown",
   "id": "intensive-structure",
   "metadata": {
    "heading_collapsed": true
   },
   "source": [
    "## Exploration of predicts from model 1"
   ]
  },
  {
   "cell_type": "code",
   "execution_count": 20,
   "id": "existing-likelihood",
   "metadata": {
    "hidden": true
   },
   "outputs": [],
   "source": [
    "y_val_pred = nb_model.predict(X_val_vect1)"
   ]
  },
  {
   "cell_type": "code",
   "execution_count": 21,
   "id": "lucky-inquiry",
   "metadata": {
    "hidden": true
   },
   "outputs": [],
   "source": [
    "results = X_val.copy()"
   ]
  },
  {
   "cell_type": "code",
   "execution_count": 22,
   "id": "whole-saver",
   "metadata": {
    "hidden": true
   },
   "outputs": [],
   "source": [
    "results['y_val'] = y_val"
   ]
  },
  {
   "cell_type": "code",
   "execution_count": 23,
   "id": "developed-celebration",
   "metadata": {
    "hidden": true
   },
   "outputs": [],
   "source": [
    "results['y_pred'] = y_val_pred"
   ]
  },
  {
   "cell_type": "code",
   "execution_count": 24,
   "id": "accepting-waterproof",
   "metadata": {
    "hidden": true
   },
   "outputs": [],
   "source": [
    "results = results.drop(columns=['clip', 'ID', 'Phrase'])"
   ]
  },
  {
   "cell_type": "code",
   "execution_count": 25,
   "id": "unknown-olive",
   "metadata": {
    "hidden": true
   },
   "outputs": [],
   "source": [
    "results['results'] = 1 - abs(results['y_val'] - results['y_pred'])"
   ]
  },
  {
   "cell_type": "code",
   "execution_count": 26,
   "id": "composed-jason",
   "metadata": {
    "hidden": true
   },
   "outputs": [
    {
     "data": {
      "text/plain": [
       "(2169, 5)"
      ]
     },
     "execution_count": 26,
     "metadata": {},
     "output_type": "execute_result"
    }
   ],
   "source": [
    "results.shape"
   ]
  },
  {
   "cell_type": "code",
   "execution_count": 27,
   "id": "angry-gateway",
   "metadata": {
    "hidden": true
   },
   "outputs": [],
   "source": [
    "tete_faux = results[results['results'] == 0 ]"
   ]
  },
  {
   "cell_type": "code",
   "execution_count": 28,
   "id": "soviet-peoples",
   "metadata": {
    "hidden": true
   },
   "outputs": [],
   "source": [
    "tete_faux.to_csv('False_nlp_ml_m1.csv', index=False)"
   ]
  },
  {
   "cell_type": "markdown",
   "id": "unlikely-animal",
   "metadata": {
    "heading_collapsed": true
   },
   "source": [
    "## Tf-Id vectorizer"
   ]
  },
  {
   "cell_type": "code",
   "execution_count": 29,
   "id": "chronic-bedroom",
   "metadata": {
    "hidden": true
   },
   "outputs": [],
   "source": [
    "# Creation of a pipeline a grid search to know which parameters are better \n",
    "\n",
    "from sklearn.pipeline import Pipeline\n",
    "from sklearn.feature_extraction.text import TfidfVectorizer\n",
    "from sklearn.model_selection import GridSearchCV\n",
    "\n",
    "pipe = Pipeline([\n",
    "    ('vect', TfidfVectorizer()),\n",
    "    ('model', MultinomialNB ())\n",
    "])\n",
    "\n",
    "grid_params = {'vect__max_df': [0.7, 0.8, 0.9],\n",
    "              'vect__max_features': [30, 40, 50, 60],\n",
    "              'vect__ngram_range': [(1,1), (2,2)],\n",
    "              'vect__min_df': [0.8, 0.9, 1]}\n",
    "\n",
    "search = GridSearchCV(pipe, grid_params, n_jobs=-1, verbose=1, scoring='accuracy',cv=5)"
   ]
  },
  {
   "cell_type": "code",
   "execution_count": 30,
   "id": "lesser-exhaust",
   "metadata": {
    "hidden": true
   },
   "outputs": [
    {
     "name": "stdout",
     "output_type": "stream",
     "text": [
      "Fitting 5 folds for each of 72 candidates, totalling 360 fits\n"
     ]
    },
    {
     "name": "stderr",
     "output_type": "stream",
     "text": [
      "[Parallel(n_jobs=-1)]: Using backend LokyBackend with 4 concurrent workers.\n",
      "[Parallel(n_jobs=-1)]: Done  42 tasks      | elapsed:   10.6s\n",
      "[Parallel(n_jobs=-1)]: Done 192 tasks      | elapsed:   35.8s\n",
      "[Parallel(n_jobs=-1)]: Done 360 out of 360 | elapsed:  1.2min finished\n"
     ]
    },
    {
     "data": {
      "text/plain": [
       "GridSearchCV(cv=5, error_score=nan,\n",
       "             estimator=Pipeline(memory=None,\n",
       "                                steps=[('vect',\n",
       "                                        TfidfVectorizer(analyzer='word',\n",
       "                                                        binary=False,\n",
       "                                                        decode_error='strict',\n",
       "                                                        dtype=<class 'numpy.float64'>,\n",
       "                                                        encoding='utf-8',\n",
       "                                                        input='content',\n",
       "                                                        lowercase=True,\n",
       "                                                        max_df=1.0,\n",
       "                                                        max_features=None,\n",
       "                                                        min_df=1,\n",
       "                                                        ngram_range=(1, 1),\n",
       "                                                        norm='l2',\n",
       "                                                        preprocessor=None,\n",
       "                                                        smooth_idf=True,\n",
       "                                                        stop_words=None,\n",
       "                                                        strip_acce...\n",
       "                                                        vocabulary=None)),\n",
       "                                       ('model',\n",
       "                                        MultinomialNB(alpha=1.0,\n",
       "                                                      class_prior=None,\n",
       "                                                      fit_prior=True))],\n",
       "                                verbose=False),\n",
       "             iid='deprecated', n_jobs=-1,\n",
       "             param_grid={'vect__max_df': [0.7, 0.8, 0.9],\n",
       "                         'vect__max_features': [30, 40, 50, 60],\n",
       "                         'vect__min_df': [0.8, 0.9, 1],\n",
       "                         'vect__ngram_range': [(1, 1), (2, 2)]},\n",
       "             pre_dispatch='2*n_jobs', refit=True, return_train_score=False,\n",
       "             scoring='accuracy', verbose=1)"
      ]
     },
     "execution_count": 30,
     "metadata": {},
     "output_type": "execute_result"
    }
   ],
   "source": [
    "search.fit(X_t['clean_text'], y_t)"
   ]
  },
  {
   "cell_type": "code",
   "execution_count": 31,
   "id": "elegant-universe",
   "metadata": {
    "hidden": true
   },
   "outputs": [
    {
     "data": {
      "text/plain": [
       "{'vect__max_df': 0.7,\n",
       " 'vect__max_features': 60,\n",
       " 'vect__min_df': 1,\n",
       " 'vect__ngram_range': (1, 1)}"
      ]
     },
     "execution_count": 31,
     "metadata": {},
     "output_type": "execute_result"
    }
   ],
   "source": [
    "search.best_params_"
   ]
  },
  {
   "cell_type": "code",
   "execution_count": 32,
   "id": "proved-great",
   "metadata": {
    "hidden": true
   },
   "outputs": [],
   "source": [
    "pipe_good = Pipeline([\n",
    "    ('vect', TfidfVectorizer(max_df = 0.7, max_features = 50, ngram_range = (1,1))),\n",
    "    ('model', MultinomialNB())\n",
    "])"
   ]
  },
  {
   "cell_type": "code",
   "execution_count": 33,
   "id": "japanese-wellington",
   "metadata": {
    "hidden": true
   },
   "outputs": [
    {
     "data": {
      "text/plain": [
       "Pipeline(memory=None,\n",
       "         steps=[('vect',\n",
       "                 TfidfVectorizer(analyzer='word', binary=False,\n",
       "                                 decode_error='strict',\n",
       "                                 dtype=<class 'numpy.float64'>,\n",
       "                                 encoding='utf-8', input='content',\n",
       "                                 lowercase=True, max_df=0.7, max_features=50,\n",
       "                                 min_df=1, ngram_range=(1, 1), norm='l2',\n",
       "                                 preprocessor=None, smooth_idf=True,\n",
       "                                 stop_words=None, strip_accents=None,\n",
       "                                 sublinear_tf=False,\n",
       "                                 token_pattern='(?u)\\\\b\\\\w\\\\w+\\\\b',\n",
       "                                 tokenizer=None, use_idf=True,\n",
       "                                 vocabulary=None)),\n",
       "                ('model',\n",
       "                 MultinomialNB(alpha=1.0, class_prior=None, fit_prior=True))],\n",
       "         verbose=False)"
      ]
     },
     "execution_count": 33,
     "metadata": {},
     "output_type": "execute_result"
    }
   ],
   "source": [
    "pipe_good.fit(X_t['clean_text'], y_t)"
   ]
  },
  {
   "cell_type": "code",
   "execution_count": 34,
   "id": "undefined-museum",
   "metadata": {
    "hidden": true
   },
   "outputs": [
    {
     "data": {
      "text/plain": [
       "0.65"
      ]
     },
     "execution_count": 34,
     "metadata": {},
     "output_type": "execute_result"
    }
   ],
   "source": [
    "round(pipe_good.score(X_val['clean_text'], y_val),2)"
   ]
  },
  {
   "cell_type": "code",
   "execution_count": 35,
   "id": "indirect-webster",
   "metadata": {
    "hidden": true
   },
   "outputs": [
    {
     "data": {
      "text/plain": [
       "<AxesSubplot:>"
      ]
     },
     "execution_count": 35,
     "metadata": {},
     "output_type": "execute_result"
    },
    {
     "data": {
      "image/png": "[encoded data removed]",
      "text/plain": [
       "<Figure size 432x288 with 2 Axes>"
      ]
     },
     "metadata": {
      "needs_background": "light"
     },
     "output_type": "display_data"
    }
   ],
   "source": [
    "y_pred2 = pipe_good.predict(X_val['clean_text'])\n",
    "matrix2 = confusion_matrix(y_val, y_pred2)\n",
    "sns.heatmap(matrix2, annot=True)"
   ]
  },
  {
   "cell_type": "markdown",
   "id": "wooden-pottery",
   "metadata": {
    "heading_collapsed": true
   },
   "source": [
    "## Test previous models with more preprocessing: stopwords + lemmising"
   ]
  },
  {
   "cell_type": "markdown",
   "id": "about-richards",
   "metadata": {
    "heading_collapsed": true,
    "hidden": true
   },
   "source": [
    "### Remove stopwords"
   ]
  },
  {
   "cell_type": "code",
   "execution_count": 36,
   "id": "stretch-channels",
   "metadata": {
    "hidden": true
   },
   "outputs": [],
   "source": [
    "from nltk.corpus import stopwords\n",
    "from nltk.tokenize import word_tokenize\n",
    "\n",
    "stop_words = set(stopwords.words('english'))\n",
    "\n",
    "def rem_stop(x):\n",
    "    word_tokens = word_tokenize(x)\n",
    "    return ' '.join([word for word in word_tokens if word not in stop_words])\n",
    "X_train['clean_text2'] = X_train['clean_text'].apply(rem_stop)"
   ]
  },
  {
   "cell_type": "code",
   "execution_count": 37,
   "id": "wooden-texture",
   "metadata": {
    "hidden": true
   },
   "outputs": [
    {
     "data": {
      "text/html": [
       "<div>\n",
       "<style scoped>\n",
       "    .dataframe tbody tr th:only-of-type {\n",
       "        vertical-align: middle;\n",
       "    }\n",
       "\n",
       "    .dataframe tbody tr th {\n",
       "        vertical-align: top;\n",
       "    }\n",
       "\n",
       "    .dataframe thead th {\n",
       "        text-align: right;\n",
       "    }\n",
       "</style>\n",
       "<table border=\"1\" class=\"dataframe\">\n",
       "  <thead>\n",
       "    <tr style=\"text-align: right;\">\n",
       "      <th></th>\n",
       "      <th>Segment_ID</th>\n",
       "      <th>Phrase</th>\n",
       "      <th>clip</th>\n",
       "      <th>ID</th>\n",
       "      <th>clean_text</th>\n",
       "      <th>clean_text2</th>\n",
       "    </tr>\n",
       "  </thead>\n",
       "  <tbody>\n",
       "    <tr>\n",
       "      <th>0</th>\n",
       "      <td>2453226</td>\n",
       "      <td>But (uhh) so yeah</td>\n",
       "      <td>6</td>\n",
       "      <td>245322</td>\n",
       "      <td>but uhh so yeah</td>\n",
       "      <td>uhh yeah</td>\n",
       "    </tr>\n",
       "    <tr>\n",
       "      <th>1</th>\n",
       "      <td>8879712</td>\n",
       "      <td>The movie ruins it for itself</td>\n",
       "      <td>12</td>\n",
       "      <td>88797</td>\n",
       "      <td>the movie ruins it for itself</td>\n",
       "      <td>movie ruins</td>\n",
       "    </tr>\n",
       "    <tr>\n",
       "      <th>2</th>\n",
       "      <td>1378276</td>\n",
       "      <td>(umm) The acting's subpar, the screen the scr...</td>\n",
       "      <td>6</td>\n",
       "      <td>137827</td>\n",
       "      <td>umm the actings subpar the screen the screenp...</td>\n",
       "      <td>umm actings subpar screen screenplay stutter d...</td>\n",
       "    </tr>\n",
       "    <tr>\n",
       "      <th>3</th>\n",
       "      <td>3MFNIag0wNE9</td>\n",
       "      <td>And now, because of that, Machinima got intimi...</td>\n",
       "      <td>9</td>\n",
       "      <td>3MFNIag0wNE</td>\n",
       "      <td>and now because of that machinima got intimida...</td>\n",
       "      <td>machinima got intimidated decided shut show en...</td>\n",
       "    </tr>\n",
       "    <tr>\n",
       "      <th>4</th>\n",
       "      <td>3sUS8vXbRwg14</td>\n",
       "      <td>I thought something would have to descend on m...</td>\n",
       "      <td>14</td>\n",
       "      <td>3sUS8vXbRwg</td>\n",
       "      <td>i thought something would have to descend on m...</td>\n",
       "      <td>thought something would descend would level pu...</td>\n",
       "    </tr>\n",
       "    <tr>\n",
       "      <th>5</th>\n",
       "      <td>fz-MzQcOBwQ12</td>\n",
       "      <td>I don't say this lightly but this is probably...</td>\n",
       "      <td>12</td>\n",
       "      <td>fz-MzQcOBwQ</td>\n",
       "      <td>i dont say this lightly but this is probably ...</td>\n",
       "      <td>dont say lightly probably one best books ever ...</td>\n",
       "    </tr>\n",
       "    <tr>\n",
       "      <th>6</th>\n",
       "      <td>1069412</td>\n",
       "      <td>Surely, surely (stutter) wasn't hostile</td>\n",
       "      <td>2</td>\n",
       "      <td>106941</td>\n",
       "      <td>surely surely stutter wasnt hostile</td>\n",
       "      <td>surely surely stutter wasnt hostile</td>\n",
       "    </tr>\n",
       "    <tr>\n",
       "      <th>7</th>\n",
       "      <td>Kpe5fISxRTg6</td>\n",
       "      <td>Basically you're going to want to increase flu...</td>\n",
       "      <td>6</td>\n",
       "      <td>Kpe5fISxRTg</td>\n",
       "      <td>basically youre going to want to increase flui...</td>\n",
       "      <td>basically youre going want increase fluids res...</td>\n",
       "    </tr>\n",
       "    <tr>\n",
       "      <th>8</th>\n",
       "      <td>67uKYi7mslE14</td>\n",
       "      <td>That topic has come up before so that’s somet...</td>\n",
       "      <td>14</td>\n",
       "      <td>67uKYi7mslE</td>\n",
       "      <td>that topic has come up before so that’s somet...</td>\n",
       "      <td>topic come ’ something ’ looking maybe somethi...</td>\n",
       "    </tr>\n",
       "    <tr>\n",
       "      <th>9</th>\n",
       "      <td>18092311</td>\n",
       "      <td>I found this film to be one of the worst Disn...</td>\n",
       "      <td>11</td>\n",
       "      <td>180923</td>\n",
       "      <td>i found this film to be one of the worst disn...</td>\n",
       "      <td>found film one worst disney movies</td>\n",
       "    </tr>\n",
       "  </tbody>\n",
       "</table>\n",
       "</div>"
      ],
      "text/plain": [
       "      Segment_ID                                             Phrase  clip  \\\n",
       "0        2453226                                  But (uhh) so yeah     6   \n",
       "1        8879712                      The movie ruins it for itself    12   \n",
       "2        1378276   (umm) The acting's subpar, the screen the scr...     6   \n",
       "3   3MFNIag0wNE9  And now, because of that, Machinima got intimi...     9   \n",
       "4  3sUS8vXbRwg14  I thought something would have to descend on m...    14   \n",
       "5  fz-MzQcOBwQ12   I don't say this lightly but this is probably...    12   \n",
       "6        1069412            Surely, surely (stutter) wasn't hostile     2   \n",
       "7   Kpe5fISxRTg6  Basically you're going to want to increase flu...     6   \n",
       "8  67uKYi7mslE14   That topic has come up before so that’s somet...    14   \n",
       "9       18092311   I found this film to be one of the worst Disn...    11   \n",
       "\n",
       "            ID                                         clean_text  \\\n",
       "0       245322                                    but uhh so yeah   \n",
       "1        88797                      the movie ruins it for itself   \n",
       "2       137827   umm the actings subpar the screen the screenp...   \n",
       "3  3MFNIag0wNE  and now because of that machinima got intimida...   \n",
       "4  3sUS8vXbRwg  i thought something would have to descend on m...   \n",
       "5  fz-MzQcOBwQ   i dont say this lightly but this is probably ...   \n",
       "6       106941                surely surely stutter wasnt hostile   \n",
       "7  Kpe5fISxRTg  basically youre going to want to increase flui...   \n",
       "8  67uKYi7mslE   that topic has come up before so that’s somet...   \n",
       "9       180923   i found this film to be one of the worst disn...   \n",
       "\n",
       "                                         clean_text2  \n",
       "0                                           uhh yeah  \n",
       "1                                        movie ruins  \n",
       "2  umm actings subpar screen screenplay stutter d...  \n",
       "3  machinima got intimidated decided shut show en...  \n",
       "4  thought something would descend would level pu...  \n",
       "5  dont say lightly probably one best books ever ...  \n",
       "6                surely surely stutter wasnt hostile  \n",
       "7  basically youre going want increase fluids res...  \n",
       "8  topic come ’ something ’ looking maybe somethi...  \n",
       "9                 found film one worst disney movies  "
      ]
     },
     "execution_count": 37,
     "metadata": {},
     "output_type": "execute_result"
    }
   ],
   "source": [
    "X_train.head(10)"
   ]
  },
  {
   "cell_type": "markdown",
   "id": "separated-powder",
   "metadata": {
    "heading_collapsed": true,
    "hidden": true
   },
   "source": [
    "### Lemmatizing"
   ]
  },
  {
   "cell_type": "code",
   "execution_count": 38,
   "id": "pursuant-petroleum",
   "metadata": {
    "hidden": true
   },
   "outputs": [],
   "source": [
    "from nltk.stem import WordNetLemmatizer\n",
    "\n",
    "lemmatizer = WordNetLemmatizer()\n",
    "\n",
    "def lemmatize(x):\n",
    "    a = x.split(' ')\n",
    "    lemmatized = [lemmatizer.lemmatize(word) for word in a]\n",
    "    return ' '.join(lemmatized)"
   ]
  },
  {
   "cell_type": "code",
   "execution_count": 39,
   "id": "accepting-governor",
   "metadata": {
    "hidden": true
   },
   "outputs": [],
   "source": [
    "X_train['clean_text2'] = X_train['clean_text2'].apply(lemmatize)"
   ]
  },
  {
   "cell_type": "code",
   "execution_count": 40,
   "id": "green-negotiation",
   "metadata": {
    "hidden": true
   },
   "outputs": [
    {
     "data": {
      "text/html": [
       "<div>\n",
       "<style scoped>\n",
       "    .dataframe tbody tr th:only-of-type {\n",
       "        vertical-align: middle;\n",
       "    }\n",
       "\n",
       "    .dataframe tbody tr th {\n",
       "        vertical-align: top;\n",
       "    }\n",
       "\n",
       "    .dataframe thead th {\n",
       "        text-align: right;\n",
       "    }\n",
       "</style>\n",
       "<table border=\"1\" class=\"dataframe\">\n",
       "  <thead>\n",
       "    <tr style=\"text-align: right;\">\n",
       "      <th></th>\n",
       "      <th>Segment_ID</th>\n",
       "      <th>Phrase</th>\n",
       "      <th>clip</th>\n",
       "      <th>ID</th>\n",
       "      <th>clean_text</th>\n",
       "      <th>clean_text2</th>\n",
       "    </tr>\n",
       "  </thead>\n",
       "  <tbody>\n",
       "    <tr>\n",
       "      <th>0</th>\n",
       "      <td>2453226</td>\n",
       "      <td>But (uhh) so yeah</td>\n",
       "      <td>6</td>\n",
       "      <td>245322</td>\n",
       "      <td>but uhh so yeah</td>\n",
       "      <td>uhh yeah</td>\n",
       "    </tr>\n",
       "    <tr>\n",
       "      <th>1</th>\n",
       "      <td>8879712</td>\n",
       "      <td>The movie ruins it for itself</td>\n",
       "      <td>12</td>\n",
       "      <td>88797</td>\n",
       "      <td>the movie ruins it for itself</td>\n",
       "      <td>movie ruin</td>\n",
       "    </tr>\n",
       "    <tr>\n",
       "      <th>2</th>\n",
       "      <td>1378276</td>\n",
       "      <td>(umm) The acting's subpar, the screen the scr...</td>\n",
       "      <td>6</td>\n",
       "      <td>137827</td>\n",
       "      <td>umm the actings subpar the screen the screenp...</td>\n",
       "      <td>umm acting subpar screen screenplay stutter di...</td>\n",
       "    </tr>\n",
       "    <tr>\n",
       "      <th>3</th>\n",
       "      <td>3MFNIag0wNE9</td>\n",
       "      <td>And now, because of that, Machinima got intimi...</td>\n",
       "      <td>9</td>\n",
       "      <td>3MFNIag0wNE</td>\n",
       "      <td>and now because of that machinima got intimida...</td>\n",
       "      <td>machinima got intimidated decided shut show en...</td>\n",
       "    </tr>\n",
       "    <tr>\n",
       "      <th>4</th>\n",
       "      <td>3sUS8vXbRwg14</td>\n",
       "      <td>I thought something would have to descend on m...</td>\n",
       "      <td>14</td>\n",
       "      <td>3sUS8vXbRwg</td>\n",
       "      <td>i thought something would have to descend on m...</td>\n",
       "      <td>thought something would descend would level pu...</td>\n",
       "    </tr>\n",
       "    <tr>\n",
       "      <th>5</th>\n",
       "      <td>fz-MzQcOBwQ12</td>\n",
       "      <td>I don't say this lightly but this is probably...</td>\n",
       "      <td>12</td>\n",
       "      <td>fz-MzQcOBwQ</td>\n",
       "      <td>i dont say this lightly but this is probably ...</td>\n",
       "      <td>dont say lightly probably one best book ever read</td>\n",
       "    </tr>\n",
       "    <tr>\n",
       "      <th>6</th>\n",
       "      <td>1069412</td>\n",
       "      <td>Surely, surely (stutter) wasn't hostile</td>\n",
       "      <td>2</td>\n",
       "      <td>106941</td>\n",
       "      <td>surely surely stutter wasnt hostile</td>\n",
       "      <td>surely surely stutter wasnt hostile</td>\n",
       "    </tr>\n",
       "    <tr>\n",
       "      <th>7</th>\n",
       "      <td>Kpe5fISxRTg6</td>\n",
       "      <td>Basically you're going to want to increase flu...</td>\n",
       "      <td>6</td>\n",
       "      <td>Kpe5fISxRTg</td>\n",
       "      <td>basically youre going to want to increase flui...</td>\n",
       "      <td>basically youre going want increase fluid rest...</td>\n",
       "    </tr>\n",
       "    <tr>\n",
       "      <th>8</th>\n",
       "      <td>67uKYi7mslE14</td>\n",
       "      <td>That topic has come up before so that’s somet...</td>\n",
       "      <td>14</td>\n",
       "      <td>67uKYi7mslE</td>\n",
       "      <td>that topic has come up before so that’s somet...</td>\n",
       "      <td>topic come ’ something ’ looking maybe somethi...</td>\n",
       "    </tr>\n",
       "    <tr>\n",
       "      <th>9</th>\n",
       "      <td>18092311</td>\n",
       "      <td>I found this film to be one of the worst Disn...</td>\n",
       "      <td>11</td>\n",
       "      <td>180923</td>\n",
       "      <td>i found this film to be one of the worst disn...</td>\n",
       "      <td>found film one worst disney movie</td>\n",
       "    </tr>\n",
       "  </tbody>\n",
       "</table>\n",
       "</div>"
      ],
      "text/plain": [
       "      Segment_ID                                             Phrase  clip  \\\n",
       "0        2453226                                  But (uhh) so yeah     6   \n",
       "1        8879712                      The movie ruins it for itself    12   \n",
       "2        1378276   (umm) The acting's subpar, the screen the scr...     6   \n",
       "3   3MFNIag0wNE9  And now, because of that, Machinima got intimi...     9   \n",
       "4  3sUS8vXbRwg14  I thought something would have to descend on m...    14   \n",
       "5  fz-MzQcOBwQ12   I don't say this lightly but this is probably...    12   \n",
       "6        1069412            Surely, surely (stutter) wasn't hostile     2   \n",
       "7   Kpe5fISxRTg6  Basically you're going to want to increase flu...     6   \n",
       "8  67uKYi7mslE14   That topic has come up before so that’s somet...    14   \n",
       "9       18092311   I found this film to be one of the worst Disn...    11   \n",
       "\n",
       "            ID                                         clean_text  \\\n",
       "0       245322                                    but uhh so yeah   \n",
       "1        88797                      the movie ruins it for itself   \n",
       "2       137827   umm the actings subpar the screen the screenp...   \n",
       "3  3MFNIag0wNE  and now because of that machinima got intimida...   \n",
       "4  3sUS8vXbRwg  i thought something would have to descend on m...   \n",
       "5  fz-MzQcOBwQ   i dont say this lightly but this is probably ...   \n",
       "6       106941                surely surely stutter wasnt hostile   \n",
       "7  Kpe5fISxRTg  basically youre going to want to increase flui...   \n",
       "8  67uKYi7mslE   that topic has come up before so that’s somet...   \n",
       "9       180923   i found this film to be one of the worst disn...   \n",
       "\n",
       "                                         clean_text2  \n",
       "0                                           uhh yeah  \n",
       "1                                         movie ruin  \n",
       "2  umm acting subpar screen screenplay stutter di...  \n",
       "3  machinima got intimidated decided shut show en...  \n",
       "4  thought something would descend would level pu...  \n",
       "5  dont say lightly probably one best book ever read  \n",
       "6                surely surely stutter wasnt hostile  \n",
       "7  basically youre going want increase fluid rest...  \n",
       "8  topic come ’ something ’ looking maybe somethi...  \n",
       "9                  found film one worst disney movie  "
      ]
     },
     "execution_count": 40,
     "metadata": {},
     "output_type": "execute_result"
    }
   ],
   "source": [
    "X_train.head(10)"
   ]
  },
  {
   "cell_type": "markdown",
   "id": "intensive-skirt",
   "metadata": {
    "heading_collapsed": true,
    "hidden": true
   },
   "source": [
    "### Testing model on it"
   ]
  },
  {
   "cell_type": "code",
   "execution_count": 41,
   "id": "static-mercury",
   "metadata": {
    "hidden": true
   },
   "outputs": [],
   "source": [
    "# Create a validation set on X_train\n",
    "from sklearn.model_selection import train_test_split\n",
    "\n",
    "X_t, X_val, y_t, y_val = train_test_split(X_train, y_train_bin, test_size=0.2)"
   ]
  },
  {
   "cell_type": "code",
   "execution_count": 42,
   "id": "played-constitutional",
   "metadata": {
    "hidden": true
   },
   "outputs": [],
   "source": [
    "vectorizer = CountVectorizer()\n",
    "vectorizer.fit(X_t['clean_text2'])\n",
    "X_t_vect2 = vectorizer.transform(X_t['clean_text2'])"
   ]
  },
  {
   "cell_type": "code",
   "execution_count": 43,
   "id": "material-perth",
   "metadata": {
    "hidden": true
   },
   "outputs": [
    {
     "data": {
      "text/plain": [
       "MultinomialNB(alpha=1.0, class_prior=None, fit_prior=True)"
      ]
     },
     "execution_count": 43,
     "metadata": {},
     "output_type": "execute_result"
    }
   ],
   "source": [
    "nb_model2 = MultinomialNB()\n",
    "\n",
    "nb_model2.fit(X_t_vect2, y_t)"
   ]
  },
  {
   "cell_type": "code",
   "execution_count": 44,
   "id": "incorporate-directive",
   "metadata": {
    "hidden": true
   },
   "outputs": [],
   "source": [
    "# Vectorizer on X_val\n",
    "X_val_vect2 = vectorizer.transform(X_val['clean_text2'])"
   ]
  },
  {
   "cell_type": "code",
   "execution_count": 45,
   "id": "conscious-damage",
   "metadata": {
    "hidden": true
   },
   "outputs": [
    {
     "data": {
      "text/plain": [
       "0.71"
      ]
     },
     "execution_count": 45,
     "metadata": {},
     "output_type": "execute_result"
    }
   ],
   "source": [
    "# Compute accuracy on validation set\n",
    "round(nb_model2.score(X_val_vect2, y_val),2)"
   ]
  },
  {
   "cell_type": "code",
   "execution_count": 46,
   "id": "altered-meeting",
   "metadata": {
    "hidden": true
   },
   "outputs": [],
   "source": [
    "y_pred2 = nb_model2.predict(X_val_vect2)"
   ]
  },
  {
   "cell_type": "code",
   "execution_count": 47,
   "id": "random-robinson",
   "metadata": {
    "hidden": true
   },
   "outputs": [],
   "source": [
    "matrix3 = confusion_matrix(y_val, y_pred2)"
   ]
  },
  {
   "cell_type": "code",
   "execution_count": 48,
   "id": "charming-exhibit",
   "metadata": {
    "hidden": true
   },
   "outputs": [
    {
     "data": {
      "text/plain": [
       "<AxesSubplot:>"
      ]
     },
     "execution_count": 48,
     "metadata": {},
     "output_type": "execute_result"
    },
    {
     "data": {
      "image/png": "[encoded data removed]",
      "text/plain": [
       "<Figure size 432x288 with 2 Axes>"
      ]
     },
     "metadata": {
      "needs_background": "light"
     },
     "output_type": "display_data"
    }
   ],
   "source": [
    "import seaborn as sns\n",
    "sns.heatmap(matrix3, annot=True)"
   ]
  },
  {
   "cell_type": "markdown",
   "id": "expected-fossil",
   "metadata": {
    "heading_collapsed": true
   },
   "source": [
    "# 3-dim classification -0.5, 0.5"
   ]
  },
  {
   "cell_type": "markdown",
   "id": "exempt-demographic",
   "metadata": {
    "heading_collapsed": true,
    "hidden": true
   },
   "source": [
    "## Data cleaning"
   ]
  },
  {
   "cell_type": "code",
   "execution_count": 49,
   "id": "soviet-immunology",
   "metadata": {
    "hidden": true
   },
   "outputs": [],
   "source": [
    "# Let's create 3 classes: -1 if neg, 0 if neutral, 1 if positive. We settle netral btw -0.5 & 0.5\n",
    "\n",
    "def first_split(x):\n",
    "    if x < -0.5:\n",
    "        return -1\n",
    "    if x < 0.5:\n",
    "        return 0\n",
    "    else:\n",
    "        return 1"
   ]
  },
  {
   "cell_type": "code",
   "execution_count": 50,
   "id": "municipal-nomination",
   "metadata": {
    "hidden": true
   },
   "outputs": [],
   "source": [
    "y_train_class3 = y_train.apply(first_split)"
   ]
  },
  {
   "cell_type": "code",
   "execution_count": 51,
   "id": "dutch-pacific",
   "metadata": {
    "hidden": true
   },
   "outputs": [
    {
     "data": {
      "image/png": "[encoded data removed]",
      "text/plain": [
       "<Figure size 432x288 with 1 Axes>"
      ]
     },
     "metadata": {
      "needs_background": "light"
     },
     "output_type": "display_data"
    }
   ],
   "source": [
    "# Classes appear to be relatively balanced with this split\n",
    "sns.histplot(y_train_class3);"
   ]
  },
  {
   "cell_type": "markdown",
   "id": "designed-captain",
   "metadata": {
    "heading_collapsed": true,
    "hidden": true
   },
   "source": [
    "## First model"
   ]
  },
  {
   "cell_type": "code",
   "execution_count": 52,
   "id": "afraid-latin",
   "metadata": {
    "hidden": true
   },
   "outputs": [
    {
     "data": {
      "text/html": [
       "<div>\n",
       "<style scoped>\n",
       "    .dataframe tbody tr th:only-of-type {\n",
       "        vertical-align: middle;\n",
       "    }\n",
       "\n",
       "    .dataframe tbody tr th {\n",
       "        vertical-align: top;\n",
       "    }\n",
       "\n",
       "    .dataframe thead th {\n",
       "        text-align: right;\n",
       "    }\n",
       "</style>\n",
       "<table border=\"1\" class=\"dataframe\">\n",
       "  <thead>\n",
       "    <tr style=\"text-align: right;\">\n",
       "      <th></th>\n",
       "      <th>Segment_ID</th>\n",
       "      <th>Phrase</th>\n",
       "      <th>clip</th>\n",
       "      <th>ID</th>\n",
       "      <th>clean_text</th>\n",
       "      <th>clean_text2</th>\n",
       "    </tr>\n",
       "  </thead>\n",
       "  <tbody>\n",
       "    <tr>\n",
       "      <th>0</th>\n",
       "      <td>2453226</td>\n",
       "      <td>But (uhh) so yeah</td>\n",
       "      <td>6</td>\n",
       "      <td>245322</td>\n",
       "      <td>but uhh so yeah</td>\n",
       "      <td>uhh yeah</td>\n",
       "    </tr>\n",
       "  </tbody>\n",
       "</table>\n",
       "</div>"
      ],
      "text/plain": [
       "  Segment_ID              Phrase  clip      ID        clean_text clean_text2\n",
       "0    2453226   But (uhh) so yeah     6  245322   but uhh so yeah    uhh yeah"
      ]
     },
     "execution_count": 52,
     "metadata": {},
     "output_type": "execute_result"
    }
   ],
   "source": [
    "X_train.head(1)"
   ]
  },
  {
   "cell_type": "code",
   "execution_count": 53,
   "id": "executive-butler",
   "metadata": {
    "hidden": true
   },
   "outputs": [
    {
     "data": {
      "text/plain": [
       "0    0\n",
       "Name: Answer.sentiment, dtype: int64"
      ]
     },
     "execution_count": 53,
     "metadata": {},
     "output_type": "execute_result"
    }
   ],
   "source": [
    "y_train_class3.head(1)"
   ]
  },
  {
   "cell_type": "code",
   "execution_count": 54,
   "id": "featured-transaction",
   "metadata": {
    "hidden": true
   },
   "outputs": [],
   "source": [
    "# Create a validation set on X_train\n",
    "from sklearn.model_selection import train_test_split\n",
    "\n",
    "X_t, X_val, y_t, y_val = train_test_split(X_train, y_train_class3, test_size=0.2)"
   ]
  },
  {
   "cell_type": "code",
   "execution_count": 55,
   "id": "designed-adelaide",
   "metadata": {
    "hidden": true
   },
   "outputs": [
    {
     "data": {
      "text/plain": [
       " 0    854\n",
       " 1    690\n",
       "-1    625\n",
       "Name: Answer.sentiment, dtype: int64"
      ]
     },
     "execution_count": 55,
     "metadata": {},
     "output_type": "execute_result"
    }
   ],
   "source": [
    "y_val.value_counts()"
   ]
  },
  {
   "cell_type": "code",
   "execution_count": 56,
   "id": "reserved-usage",
   "metadata": {
    "hidden": true
   },
   "outputs": [],
   "source": [
    "vectorizer = CountVectorizer()\n",
    "vectorizer.fit(X_t['clean_text'])\n",
    "X_t_vect3 = vectorizer.transform(X_t['clean_text'])"
   ]
  },
  {
   "cell_type": "code",
   "execution_count": 57,
   "id": "offshore-conservation",
   "metadata": {
    "hidden": true
   },
   "outputs": [
    {
     "data": {
      "text/plain": [
       "MultinomialNB(alpha=1.0, class_prior=None, fit_prior=True)"
      ]
     },
     "execution_count": 57,
     "metadata": {},
     "output_type": "execute_result"
    }
   ],
   "source": [
    "nb_model3 = MultinomialNB()\n",
    "nb_model3.fit(X_t_vect3, y_t)"
   ]
  },
  {
   "cell_type": "code",
   "execution_count": 58,
   "id": "accepted-world",
   "metadata": {
    "hidden": true
   },
   "outputs": [],
   "source": [
    "X_val_vect3 = vectorizer.transform(X_val['clean_text'])"
   ]
  },
  {
   "cell_type": "code",
   "execution_count": 59,
   "id": "irish-canvas",
   "metadata": {
    "hidden": true
   },
   "outputs": [
    {
     "data": {
      "text/plain": [
       "0.58"
      ]
     },
     "execution_count": 59,
     "metadata": {},
     "output_type": "execute_result"
    }
   ],
   "source": [
    "round(nb_model3.score(X_val_vect3, y_val),2)"
   ]
  },
  {
   "cell_type": "code",
   "execution_count": 60,
   "id": "material-hacker",
   "metadata": {
    "hidden": true
   },
   "outputs": [],
   "source": [
    "y_pred3 = nb_model3.predict(X_val_vect3)"
   ]
  },
  {
   "cell_type": "code",
   "execution_count": 61,
   "id": "pacific-specific",
   "metadata": {
    "hidden": true
   },
   "outputs": [],
   "source": [
    "labels = [-1, 0, 1]"
   ]
  },
  {
   "cell_type": "code",
   "execution_count": 62,
   "id": "actual-bankruptcy",
   "metadata": {
    "hidden": true
   },
   "outputs": [],
   "source": [
    "matrix3 = confusion_matrix(y_val, y_pred3, labels)"
   ]
  },
  {
   "cell_type": "code",
   "execution_count": 63,
   "id": "owned-singles",
   "metadata": {
    "hidden": true
   },
   "outputs": [
    {
     "data": {
      "image/png": "[encoded data removed]",
      "text/plain": [
       "<Figure size 432x288 with 2 Axes>"
      ]
     },
     "metadata": {
      "needs_background": "light"
     },
     "output_type": "display_data"
    }
   ],
   "source": [
    "sns.heatmap(matrix3, annot=True);"
   ]
  },
  {
   "cell_type": "code",
   "execution_count": 64,
   "id": "bridal-subdivision",
   "metadata": {
    "hidden": true
   },
   "outputs": [
    {
     "data": {
      "text/plain": [
       "array([-1, -1, -1, ...,  0, -1, -1])"
      ]
     },
     "execution_count": 64,
     "metadata": {},
     "output_type": "execute_result"
    }
   ],
   "source": [
    "y_pred3"
   ]
  },
  {
   "cell_type": "markdown",
   "id": "roman-burst",
   "metadata": {
    "heading_collapsed": true,
    "hidden": true
   },
   "source": [
    "## CountVectorizer grid search"
   ]
  },
  {
   "cell_type": "code",
   "execution_count": 65,
   "id": "qualified-wonder",
   "metadata": {
    "hidden": true
   },
   "outputs": [],
   "source": [
    "# Create a validation set on X_train\n",
    "from sklearn.model_selection import train_test_split\n",
    "\n",
    "X_t, X_val, y_t, y_val = train_test_split(X_train, y_train_class3, test_size=0.2)"
   ]
  },
  {
   "cell_type": "code",
   "execution_count": 66,
   "id": "unusual-theory",
   "metadata": {
    "hidden": true
   },
   "outputs": [],
   "source": [
    "from sklearn.pipeline import Pipeline\n",
    "from sklearn.model_selection import GridSearchCV\n",
    "\n",
    "pipe = Pipeline([\n",
    "    ('vect', CountVectorizer()),\n",
    "    ('model', MultinomialNB ())\n",
    "])\n",
    "\n",
    "grid_params = {'vect__max_df': [0.4, 0.5],\n",
    "              'vect__max_features': [9000, 10000, 11000]}\n",
    "\n",
    "search = GridSearchCV(pipe, grid_params, n_jobs=-1, verbose=1, scoring='accuracy',cv=5)"
   ]
  },
  {
   "cell_type": "code",
   "execution_count": 67,
   "id": "moved-conviction",
   "metadata": {
    "hidden": true
   },
   "outputs": [
    {
     "name": "stdout",
     "output_type": "stream",
     "text": [
      "Fitting 5 folds for each of 6 candidates, totalling 30 fits\n"
     ]
    },
    {
     "name": "stderr",
     "output_type": "stream",
     "text": [
      "[Parallel(n_jobs=-1)]: Using backend LokyBackend with 4 concurrent workers.\n",
      "[Parallel(n_jobs=-1)]: Done  30 out of  30 | elapsed:    7.8s finished\n"
     ]
    },
    {
     "data": {
      "text/plain": [
       "GridSearchCV(cv=5, error_score=nan,\n",
       "             estimator=Pipeline(memory=None,\n",
       "                                steps=[('vect',\n",
       "                                        CountVectorizer(analyzer='word',\n",
       "                                                        binary=False,\n",
       "                                                        decode_error='strict',\n",
       "                                                        dtype=<class 'numpy.int64'>,\n",
       "                                                        encoding='utf-8',\n",
       "                                                        input='content',\n",
       "                                                        lowercase=True,\n",
       "                                                        max_df=1.0,\n",
       "                                                        max_features=None,\n",
       "                                                        min_df=1,\n",
       "                                                        ngram_range=(1, 1),\n",
       "                                                        preprocessor=None,\n",
       "                                                        stop_words=None,\n",
       "                                                        strip_accents=None,\n",
       "                                                        token_pattern='(?u)\\\\b\\\\w\\\\w+\\\\b',\n",
       "                                                        tokenizer=None,\n",
       "                                                        vocabulary=None)),\n",
       "                                       ('model',\n",
       "                                        MultinomialNB(alpha=1.0,\n",
       "                                                      class_prior=None,\n",
       "                                                      fit_prior=True))],\n",
       "                                verbose=False),\n",
       "             iid='deprecated', n_jobs=-1,\n",
       "             param_grid={'vect__max_df': [0.4, 0.5],\n",
       "                         'vect__max_features': [9000, 10000, 11000]},\n",
       "             pre_dispatch='2*n_jobs', refit=True, return_train_score=False,\n",
       "             scoring='accuracy', verbose=1)"
      ]
     },
     "execution_count": 67,
     "metadata": {},
     "output_type": "execute_result"
    }
   ],
   "source": [
    "search.fit(X_t['clean_text'], y_t)"
   ]
  },
  {
   "cell_type": "code",
   "execution_count": 68,
   "id": "novel-plant",
   "metadata": {
    "hidden": true
   },
   "outputs": [
    {
     "data": {
      "text/plain": [
       "{'vect__max_df': 0.4, 'vect__max_features': 11000}"
      ]
     },
     "execution_count": 68,
     "metadata": {},
     "output_type": "execute_result"
    }
   ],
   "source": [
    "search.best_params_"
   ]
  },
  {
   "cell_type": "code",
   "execution_count": 69,
   "id": "married-breakfast",
   "metadata": {
    "hidden": true
   },
   "outputs": [],
   "source": [
    "pipe_good = Pipeline([\n",
    "    ('vect', TfidfVectorizer(max_df = 0.5, max_features = 10000, min_df= 1)),\n",
    "    ('model', MultinomialNB())\n",
    "])"
   ]
  },
  {
   "cell_type": "code",
   "execution_count": 70,
   "id": "right-wrong",
   "metadata": {
    "hidden": true
   },
   "outputs": [
    {
     "data": {
      "text/plain": [
       "Pipeline(memory=None,\n",
       "         steps=[('vect',\n",
       "                 TfidfVectorizer(analyzer='word', binary=False,\n",
       "                                 decode_error='strict',\n",
       "                                 dtype=<class 'numpy.float64'>,\n",
       "                                 encoding='utf-8', input='content',\n",
       "                                 lowercase=True, max_df=0.5, max_features=10000,\n",
       "                                 min_df=1, ngram_range=(1, 1), norm='l2',\n",
       "                                 preprocessor=None, smooth_idf=True,\n",
       "                                 stop_words=None, strip_accents=None,\n",
       "                                 sublinear_tf=False,\n",
       "                                 token_pattern='(?u)\\\\b\\\\w\\\\w+\\\\b',\n",
       "                                 tokenizer=None, use_idf=True,\n",
       "                                 vocabulary=None)),\n",
       "                ('model',\n",
       "                 MultinomialNB(alpha=1.0, class_prior=None, fit_prior=True))],\n",
       "         verbose=False)"
      ]
     },
     "execution_count": 70,
     "metadata": {},
     "output_type": "execute_result"
    }
   ],
   "source": [
    "pipe_good.fit(X_t['clean_text'], y_t)"
   ]
  },
  {
   "cell_type": "code",
   "execution_count": 71,
   "id": "printable-intention",
   "metadata": {
    "hidden": true
   },
   "outputs": [
    {
     "data": {
      "text/plain": [
       "0.61"
      ]
     },
     "execution_count": 71,
     "metadata": {},
     "output_type": "execute_result"
    }
   ],
   "source": [
    "round(pipe_good.score(X_val['clean_text'], y_val),2)"
   ]
  },
  {
   "cell_type": "code",
   "execution_count": null,
   "id": "simple-portsmouth",
   "metadata": {
    "hidden": true
   },
   "outputs": [],
   "source": []
  },
  {
   "cell_type": "markdown",
   "id": "intellectual-cologne",
   "metadata": {
    "heading_collapsed": true,
    "hidden": true
   },
   "source": [
    "## With more processing"
   ]
  },
  {
   "cell_type": "code",
   "execution_count": 72,
   "id": "nuclear-vegetation",
   "metadata": {
    "hidden": true
   },
   "outputs": [],
   "source": [
    "# Create a validation set on X_train\n",
    "from sklearn.model_selection import train_test_split\n",
    "\n",
    "X_t, X_val, y_t, y_val = train_test_split(X_train, y_train_class3, test_size=0.2)"
   ]
  },
  {
   "cell_type": "code",
   "execution_count": 73,
   "id": "operating-quarter",
   "metadata": {
    "hidden": true
   },
   "outputs": [],
   "source": [
    "vectorizer = CountVectorizer()\n",
    "vectorizer.fit(X_t['clean_text2'])\n",
    "X_t_vect2 = vectorizer.transform(X_t['clean_text2'])"
   ]
  },
  {
   "cell_type": "code",
   "execution_count": 74,
   "id": "balanced-shoot",
   "metadata": {
    "hidden": true
   },
   "outputs": [
    {
     "data": {
      "text/plain": [
       "MultinomialNB(alpha=1.0, class_prior=None, fit_prior=True)"
      ]
     },
     "execution_count": 74,
     "metadata": {},
     "output_type": "execute_result"
    }
   ],
   "source": [
    "nb_model4 = MultinomialNB()\n",
    "\n",
    "nb_model4.fit(X_t_vect2, y_t)"
   ]
  },
  {
   "cell_type": "code",
   "execution_count": 75,
   "id": "boring-pointer",
   "metadata": {
    "hidden": true
   },
   "outputs": [],
   "source": [
    "X_val_vect4 = vectorizer.transform(X_val['clean_text2'])"
   ]
  },
  {
   "cell_type": "code",
   "execution_count": 76,
   "id": "impaired-disney",
   "metadata": {
    "hidden": true
   },
   "outputs": [
    {
     "data": {
      "text/plain": [
       "0.61"
      ]
     },
     "execution_count": 76,
     "metadata": {},
     "output_type": "execute_result"
    }
   ],
   "source": [
    "round(nb_model4.score(X_val_vect4, y_val),2)"
   ]
  },
  {
   "cell_type": "code",
   "execution_count": 77,
   "id": "precise-making",
   "metadata": {
    "hidden": true
   },
   "outputs": [],
   "source": [
    "y_pred4 = nb_model4.predict(X_val_vect4)"
   ]
  },
  {
   "cell_type": "code",
   "execution_count": 78,
   "id": "heavy-siemens",
   "metadata": {
    "hidden": true
   },
   "outputs": [],
   "source": [
    "matrix4 = confusion_matrix(y_val, y_pred4)"
   ]
  },
  {
   "cell_type": "code",
   "execution_count": 79,
   "id": "super-temple",
   "metadata": {
    "hidden": true
   },
   "outputs": [
    {
     "data": {
      "image/png": "[encoded data removed]",
      "text/plain": [
       "<Figure size 432x288 with 2 Axes>"
      ]
     },
     "metadata": {
      "needs_background": "light"
     },
     "output_type": "display_data"
    }
   ],
   "source": [
    "sns.heatmap(matrix4, annot=True);"
   ]
  },
  {
   "cell_type": "code",
   "execution_count": 80,
   "id": "recognized-contributor",
   "metadata": {
    "hidden": true
   },
   "outputs": [],
   "source": [
    "import nltk"
   ]
  },
  {
   "cell_type": "code",
   "execution_count": 81,
   "id": "discrete-whole",
   "metadata": {
    "hidden": true
   },
   "outputs": [],
   "source": [
    "from textblob import TextBlob\n",
    "from textblob.sentiments import NaiveBayesAnalyzer"
   ]
  },
  {
   "cell_type": "code",
   "execution_count": 82,
   "id": "available-hydrogen",
   "metadata": {
    "hidden": true
   },
   "outputs": [
    {
     "name": "stderr",
     "output_type": "stream",
     "text": [
      "[nltk_data] Downloading package movie_reviews to\n",
      "[nltk_data]     /home/corentin/nltk_data...\n",
      "[nltk_data]   Package movie_reviews is already up-to-date!\n"
     ]
    },
    {
     "data": {
      "text/plain": [
       "True"
      ]
     },
     "execution_count": 82,
     "metadata": {},
     "output_type": "execute_result"
    }
   ],
   "source": [
    "nltk.download('movie_reviews')"
   ]
  },
  {
   "cell_type": "code",
   "execution_count": 83,
   "id": "friendly-account",
   "metadata": {
    "hidden": true
   },
   "outputs": [],
   "source": [
    "wiki = TextBlob(\"I am in love\", analyzer=NaiveBayesAnalyzer())"
   ]
  },
  {
   "cell_type": "code",
   "execution_count": 84,
   "id": "right-scanner",
   "metadata": {
    "hidden": true
   },
   "outputs": [
    {
     "data": {
      "text/plain": [
       "0.5441400304414004"
      ]
     },
     "execution_count": 84,
     "metadata": {},
     "output_type": "execute_result"
    }
   ],
   "source": [
    "wiki.sentiment.p_pos"
   ]
  },
  {
   "cell_type": "code",
   "execution_count": 85,
   "id": "unable-infrastructure",
   "metadata": {
    "hidden": true
   },
   "outputs": [],
   "source": [
    "def text_blob(x):\n",
    "    return TextBlob(x, analyzer=NaiveBayesAnalyzer()).sentiment.p_pos"
   ]
  },
  {
   "cell_type": "code",
   "execution_count": 86,
   "id": "lonely-transfer",
   "metadata": {
    "hidden": true
   },
   "outputs": [
    {
     "data": {
      "text/html": [
       "<div>\n",
       "<style scoped>\n",
       "    .dataframe tbody tr th:only-of-type {\n",
       "        vertical-align: middle;\n",
       "    }\n",
       "\n",
       "    .dataframe tbody tr th {\n",
       "        vertical-align: top;\n",
       "    }\n",
       "\n",
       "    .dataframe thead th {\n",
       "        text-align: right;\n",
       "    }\n",
       "</style>\n",
       "<table border=\"1\" class=\"dataframe\">\n",
       "  <thead>\n",
       "    <tr style=\"text-align: right;\">\n",
       "      <th></th>\n",
       "      <th>Segment_ID</th>\n",
       "      <th>Phrase</th>\n",
       "      <th>clip</th>\n",
       "      <th>ID</th>\n",
       "      <th>clean_text</th>\n",
       "      <th>clean_text2</th>\n",
       "    </tr>\n",
       "  </thead>\n",
       "  <tbody>\n",
       "    <tr>\n",
       "      <th>0</th>\n",
       "      <td>2453226</td>\n",
       "      <td>But (uhh) so yeah</td>\n",
       "      <td>6</td>\n",
       "      <td>245322</td>\n",
       "      <td>but uhh so yeah</td>\n",
       "      <td>uhh yeah</td>\n",
       "    </tr>\n",
       "    <tr>\n",
       "      <th>1</th>\n",
       "      <td>8879712</td>\n",
       "      <td>The movie ruins it for itself</td>\n",
       "      <td>12</td>\n",
       "      <td>88797</td>\n",
       "      <td>the movie ruins it for itself</td>\n",
       "      <td>movie ruin</td>\n",
       "    </tr>\n",
       "    <tr>\n",
       "      <th>2</th>\n",
       "      <td>1378276</td>\n",
       "      <td>(umm) The acting's subpar, the screen the scr...</td>\n",
       "      <td>6</td>\n",
       "      <td>137827</td>\n",
       "      <td>umm the actings subpar the screen the screenp...</td>\n",
       "      <td>umm acting subpar screen screenplay stutter di...</td>\n",
       "    </tr>\n",
       "    <tr>\n",
       "      <th>3</th>\n",
       "      <td>3MFNIag0wNE9</td>\n",
       "      <td>And now, because of that, Machinima got intimi...</td>\n",
       "      <td>9</td>\n",
       "      <td>3MFNIag0wNE</td>\n",
       "      <td>and now because of that machinima got intimida...</td>\n",
       "      <td>machinima got intimidated decided shut show en...</td>\n",
       "    </tr>\n",
       "    <tr>\n",
       "      <th>4</th>\n",
       "      <td>3sUS8vXbRwg14</td>\n",
       "      <td>I thought something would have to descend on m...</td>\n",
       "      <td>14</td>\n",
       "      <td>3sUS8vXbRwg</td>\n",
       "      <td>i thought something would have to descend on m...</td>\n",
       "      <td>thought something would descend would level pu...</td>\n",
       "    </tr>\n",
       "  </tbody>\n",
       "</table>\n",
       "</div>"
      ],
      "text/plain": [
       "      Segment_ID                                             Phrase  clip  \\\n",
       "0        2453226                                  But (uhh) so yeah     6   \n",
       "1        8879712                      The movie ruins it for itself    12   \n",
       "2        1378276   (umm) The acting's subpar, the screen the scr...     6   \n",
       "3   3MFNIag0wNE9  And now, because of that, Machinima got intimi...     9   \n",
       "4  3sUS8vXbRwg14  I thought something would have to descend on m...    14   \n",
       "\n",
       "            ID                                         clean_text  \\\n",
       "0       245322                                    but uhh so yeah   \n",
       "1        88797                      the movie ruins it for itself   \n",
       "2       137827   umm the actings subpar the screen the screenp...   \n",
       "3  3MFNIag0wNE  and now because of that machinima got intimida...   \n",
       "4  3sUS8vXbRwg  i thought something would have to descend on m...   \n",
       "\n",
       "                                         clean_text2  \n",
       "0                                           uhh yeah  \n",
       "1                                         movie ruin  \n",
       "2  umm acting subpar screen screenplay stutter di...  \n",
       "3  machinima got intimidated decided shut show en...  \n",
       "4  thought something would descend would level pu...  "
      ]
     },
     "execution_count": 86,
     "metadata": {},
     "output_type": "execute_result"
    }
   ],
   "source": [
    "X_train.head()"
   ]
  },
  {
   "cell_type": "code",
   "execution_count": 87,
   "id": "amber-pearl",
   "metadata": {
    "hidden": true
   },
   "outputs": [],
   "source": [
    "X_train_sample= X_train.sample()"
   ]
  },
  {
   "cell_type": "code",
   "execution_count": 88,
   "id": "stuffed-socket",
   "metadata": {
    "hidden": true
   },
   "outputs": [],
   "source": [
    "def fun_textblob(x):\n",
    "    return 1 if x > 0.5 else 0"
   ]
  },
  {
   "cell_type": "code",
   "execution_count": 89,
   "id": "continental-persian",
   "metadata": {
    "hidden": true
   },
   "outputs": [
    {
     "ename": "KeyError",
     "evalue": "'textblob'",
     "output_type": "error",
     "traceback": [
      "\u001b[0;31m---------------------------------------------------------------------------\u001b[0m",
      "\u001b[0;31mKeyError\u001b[0m                                  Traceback (most recent call last)",
      "\u001b[0;32m~/.pyenv/versions/3.8.6/envs/lewagon/lib/python3.8/site-packages/pandas/core/indexes/base.py\u001b[0m in \u001b[0;36mget_loc\u001b[0;34m(self, key, method, tolerance)\u001b[0m\n\u001b[1;32m   3079\u001b[0m             \u001b[0;32mtry\u001b[0m\u001b[0;34m:\u001b[0m\u001b[0;34m\u001b[0m\u001b[0;34m\u001b[0m\u001b[0m\n\u001b[0;32m-> 3080\u001b[0;31m                 \u001b[0;32mreturn\u001b[0m \u001b[0mself\u001b[0m\u001b[0;34m.\u001b[0m\u001b[0m_engine\u001b[0m\u001b[0;34m.\u001b[0m\u001b[0mget_loc\u001b[0m\u001b[0;34m(\u001b[0m\u001b[0mcasted_key\u001b[0m\u001b[0;34m)\u001b[0m\u001b[0;34m\u001b[0m\u001b[0;34m\u001b[0m\u001b[0m\n\u001b[0m\u001b[1;32m   3081\u001b[0m             \u001b[0;32mexcept\u001b[0m \u001b[0mKeyError\u001b[0m \u001b[0;32mas\u001b[0m \u001b[0merr\u001b[0m\u001b[0;34m:\u001b[0m\u001b[0;34m\u001b[0m\u001b[0;34m\u001b[0m\u001b[0m\n",
      "\u001b[0;32mpandas/_libs/index.pyx\u001b[0m in \u001b[0;36mpandas._libs.index.IndexEngine.get_loc\u001b[0;34m()\u001b[0m\n",
      "\u001b[0;32mpandas/_libs/index.pyx\u001b[0m in \u001b[0;36mpandas._libs.index.IndexEngine.get_loc\u001b[0;34m()\u001b[0m\n",
      "\u001b[0;32mpandas/_libs/hashtable_class_helper.pxi\u001b[0m in \u001b[0;36mpandas._libs.hashtable.PyObjectHashTable.get_item\u001b[0;34m()\u001b[0m\n",
      "\u001b[0;32mpandas/_libs/hashtable_class_helper.pxi\u001b[0m in \u001b[0;36mpandas._libs.hashtable.PyObjectHashTable.get_item\u001b[0;34m()\u001b[0m\n",
      "\u001b[0;31mKeyError\u001b[0m: 'textblob'",
      "\nThe above exception was the direct cause of the following exception:\n",
      "\u001b[0;31mKeyError\u001b[0m                                  Traceback (most recent call last)",
      "\u001b[0;32m<ipython-input-89-295fd5c323b4>\u001b[0m in \u001b[0;36m<module>\u001b[0;34m\u001b[0m\n\u001b[0;32m----> 1\u001b[0;31m \u001b[0mblob_pred\u001b[0m \u001b[0;34m=\u001b[0m \u001b[0mX_train\u001b[0m\u001b[0;34m[\u001b[0m\u001b[0;34m'textblob'\u001b[0m\u001b[0;34m]\u001b[0m\u001b[0;34m.\u001b[0m\u001b[0mapply\u001b[0m\u001b[0;34m(\u001b[0m\u001b[0mfun_textblob\u001b[0m\u001b[0;34m)\u001b[0m\u001b[0;34m\u001b[0m\u001b[0;34m\u001b[0m\u001b[0m\n\u001b[0m",
      "\u001b[0;32m~/.pyenv/versions/3.8.6/envs/lewagon/lib/python3.8/site-packages/pandas/core/frame.py\u001b[0m in \u001b[0;36m__getitem__\u001b[0;34m(self, key)\u001b[0m\n\u001b[1;32m   3022\u001b[0m             \u001b[0;32mif\u001b[0m \u001b[0mself\u001b[0m\u001b[0;34m.\u001b[0m\u001b[0mcolumns\u001b[0m\u001b[0;34m.\u001b[0m\u001b[0mnlevels\u001b[0m \u001b[0;34m>\u001b[0m \u001b[0;36m1\u001b[0m\u001b[0;34m:\u001b[0m\u001b[0;34m\u001b[0m\u001b[0;34m\u001b[0m\u001b[0m\n\u001b[1;32m   3023\u001b[0m                 \u001b[0;32mreturn\u001b[0m \u001b[0mself\u001b[0m\u001b[0;34m.\u001b[0m\u001b[0m_getitem_multilevel\u001b[0m\u001b[0;34m(\u001b[0m\u001b[0mkey\u001b[0m\u001b[0;34m)\u001b[0m\u001b[0;34m\u001b[0m\u001b[0;34m\u001b[0m\u001b[0m\n\u001b[0;32m-> 3024\u001b[0;31m             \u001b[0mindexer\u001b[0m \u001b[0;34m=\u001b[0m \u001b[0mself\u001b[0m\u001b[0;34m.\u001b[0m\u001b[0mcolumns\u001b[0m\u001b[0;34m.\u001b[0m\u001b[0mget_loc\u001b[0m\u001b[0;34m(\u001b[0m\u001b[0mkey\u001b[0m\u001b[0;34m)\u001b[0m\u001b[0;34m\u001b[0m\u001b[0;34m\u001b[0m\u001b[0m\n\u001b[0m\u001b[1;32m   3025\u001b[0m             \u001b[0;32mif\u001b[0m \u001b[0mis_integer\u001b[0m\u001b[0;34m(\u001b[0m\u001b[0mindexer\u001b[0m\u001b[0;34m)\u001b[0m\u001b[0;34m:\u001b[0m\u001b[0;34m\u001b[0m\u001b[0;34m\u001b[0m\u001b[0m\n\u001b[1;32m   3026\u001b[0m                 \u001b[0mindexer\u001b[0m \u001b[0;34m=\u001b[0m \u001b[0;34m[\u001b[0m\u001b[0mindexer\u001b[0m\u001b[0;34m]\u001b[0m\u001b[0;34m\u001b[0m\u001b[0;34m\u001b[0m\u001b[0m\n",
      "\u001b[0;32m~/.pyenv/versions/3.8.6/envs/lewagon/lib/python3.8/site-packages/pandas/core/indexes/base.py\u001b[0m in \u001b[0;36mget_loc\u001b[0;34m(self, key, method, tolerance)\u001b[0m\n\u001b[1;32m   3080\u001b[0m                 \u001b[0;32mreturn\u001b[0m \u001b[0mself\u001b[0m\u001b[0;34m.\u001b[0m\u001b[0m_engine\u001b[0m\u001b[0;34m.\u001b[0m\u001b[0mget_loc\u001b[0m\u001b[0;34m(\u001b[0m\u001b[0mcasted_key\u001b[0m\u001b[0;34m)\u001b[0m\u001b[0;34m\u001b[0m\u001b[0;34m\u001b[0m\u001b[0m\n\u001b[1;32m   3081\u001b[0m             \u001b[0;32mexcept\u001b[0m \u001b[0mKeyError\u001b[0m \u001b[0;32mas\u001b[0m \u001b[0merr\u001b[0m\u001b[0;34m:\u001b[0m\u001b[0;34m\u001b[0m\u001b[0;34m\u001b[0m\u001b[0m\n\u001b[0;32m-> 3082\u001b[0;31m                 \u001b[0;32mraise\u001b[0m \u001b[0mKeyError\u001b[0m\u001b[0;34m(\u001b[0m\u001b[0mkey\u001b[0m\u001b[0;34m)\u001b[0m \u001b[0;32mfrom\u001b[0m \u001b[0merr\u001b[0m\u001b[0;34m\u001b[0m\u001b[0;34m\u001b[0m\u001b[0m\n\u001b[0m\u001b[1;32m   3083\u001b[0m \u001b[0;34m\u001b[0m\u001b[0m\n\u001b[1;32m   3084\u001b[0m         \u001b[0;32mif\u001b[0m \u001b[0mtolerance\u001b[0m \u001b[0;32mis\u001b[0m \u001b[0;32mnot\u001b[0m \u001b[0;32mNone\u001b[0m\u001b[0;34m:\u001b[0m\u001b[0;34m\u001b[0m\u001b[0;34m\u001b[0m\u001b[0m\n",
      "\u001b[0;31mKeyError\u001b[0m: 'textblob'"
     ]
    }
   ],
   "source": [
    "blob_pred = X_train['textblob'].apply(fun_textblob)"
   ]
  },
  {
   "cell_type": "markdown",
   "id": "injured-convert",
   "metadata": {},
   "source": [
    "# 3-dim -1 1"
   ]
  },
  {
   "cell_type": "markdown",
   "id": "hairy-shape",
   "metadata": {
    "heading_collapsed": true
   },
   "source": [
    "## Data cleaning"
   ]
  },
  {
   "cell_type": "code",
   "execution_count": 90,
   "id": "executed-eligibility",
   "metadata": {
    "hidden": true
   },
   "outputs": [],
   "source": [
    "# Let's create 3 classes: -1 if neg, 0 if neutral, 1 if positive. We settle netral btw -1 & 1\n",
    "\n",
    "def first_split(x):\n",
    "    if x < -1:\n",
    "        return -1\n",
    "    if x < 1:\n",
    "        return 0\n",
    "    else:\n",
    "        return 1"
   ]
  },
  {
   "cell_type": "code",
   "execution_count": 91,
   "id": "modified-winning",
   "metadata": {
    "hidden": true
   },
   "outputs": [],
   "source": [
    "y_train_class3_bis = y_train.apply(first_split)"
   ]
  },
  {
   "cell_type": "code",
   "execution_count": 92,
   "id": "applied-writing",
   "metadata": {
    "hidden": true
   },
   "outputs": [
    {
     "ename": "KeyError",
     "evalue": "\"['y'] not found in axis\"",
     "output_type": "error",
     "traceback": [
      "\u001b[0;31m---------------------------------------------------------------------------\u001b[0m",
      "\u001b[0;31mKeyError\u001b[0m                                  Traceback (most recent call last)",
      "\u001b[0;32m<ipython-input-92-bbb3e9e7f8ee>\u001b[0m in \u001b[0;36m<module>\u001b[0;34m\u001b[0m\n\u001b[0;32m----> 1\u001b[0;31m \u001b[0mX_train\u001b[0m \u001b[0;34m=\u001b[0m \u001b[0mX_train\u001b[0m\u001b[0;34m.\u001b[0m\u001b[0mdrop\u001b[0m\u001b[0;34m(\u001b[0m\u001b[0mcolumns\u001b[0m\u001b[0;34m=\u001b[0m\u001b[0;34m[\u001b[0m\u001b[0;34m'y'\u001b[0m\u001b[0;34m]\u001b[0m\u001b[0;34m)\u001b[0m\u001b[0;34m\u001b[0m\u001b[0;34m\u001b[0m\u001b[0m\n\u001b[0m",
      "\u001b[0;32m~/.pyenv/versions/3.8.6/envs/lewagon/lib/python3.8/site-packages/pandas/core/frame.py\u001b[0m in \u001b[0;36mdrop\u001b[0;34m(self, labels, axis, index, columns, level, inplace, errors)\u001b[0m\n\u001b[1;32m   4303\u001b[0m                 \u001b[0mweight\u001b[0m  \u001b[0;36m1.0\u001b[0m     \u001b[0;36m0.8\u001b[0m\u001b[0;34m\u001b[0m\u001b[0;34m\u001b[0m\u001b[0m\n\u001b[1;32m   4304\u001b[0m         \"\"\"\n\u001b[0;32m-> 4305\u001b[0;31m         return super().drop(\n\u001b[0m\u001b[1;32m   4306\u001b[0m             \u001b[0mlabels\u001b[0m\u001b[0;34m=\u001b[0m\u001b[0mlabels\u001b[0m\u001b[0;34m,\u001b[0m\u001b[0;34m\u001b[0m\u001b[0;34m\u001b[0m\u001b[0m\n\u001b[1;32m   4307\u001b[0m             \u001b[0maxis\u001b[0m\u001b[0;34m=\u001b[0m\u001b[0maxis\u001b[0m\u001b[0;34m,\u001b[0m\u001b[0;34m\u001b[0m\u001b[0;34m\u001b[0m\u001b[0m\n",
      "\u001b[0;32m~/.pyenv/versions/3.8.6/envs/lewagon/lib/python3.8/site-packages/pandas/core/generic.py\u001b[0m in \u001b[0;36mdrop\u001b[0;34m(self, labels, axis, index, columns, level, inplace, errors)\u001b[0m\n\u001b[1;32m   4148\u001b[0m         \u001b[0;32mfor\u001b[0m \u001b[0maxis\u001b[0m\u001b[0;34m,\u001b[0m \u001b[0mlabels\u001b[0m \u001b[0;32min\u001b[0m \u001b[0maxes\u001b[0m\u001b[0;34m.\u001b[0m\u001b[0mitems\u001b[0m\u001b[0;34m(\u001b[0m\u001b[0;34m)\u001b[0m\u001b[0;34m:\u001b[0m\u001b[0;34m\u001b[0m\u001b[0;34m\u001b[0m\u001b[0m\n\u001b[1;32m   4149\u001b[0m             \u001b[0;32mif\u001b[0m \u001b[0mlabels\u001b[0m \u001b[0;32mis\u001b[0m \u001b[0;32mnot\u001b[0m \u001b[0;32mNone\u001b[0m\u001b[0;34m:\u001b[0m\u001b[0;34m\u001b[0m\u001b[0;34m\u001b[0m\u001b[0m\n\u001b[0;32m-> 4150\u001b[0;31m                 \u001b[0mobj\u001b[0m \u001b[0;34m=\u001b[0m \u001b[0mobj\u001b[0m\u001b[0;34m.\u001b[0m\u001b[0m_drop_axis\u001b[0m\u001b[0;34m(\u001b[0m\u001b[0mlabels\u001b[0m\u001b[0;34m,\u001b[0m \u001b[0maxis\u001b[0m\u001b[0;34m,\u001b[0m \u001b[0mlevel\u001b[0m\u001b[0;34m=\u001b[0m\u001b[0mlevel\u001b[0m\u001b[0;34m,\u001b[0m \u001b[0merrors\u001b[0m\u001b[0;34m=\u001b[0m\u001b[0merrors\u001b[0m\u001b[0;34m)\u001b[0m\u001b[0;34m\u001b[0m\u001b[0;34m\u001b[0m\u001b[0m\n\u001b[0m\u001b[1;32m   4151\u001b[0m \u001b[0;34m\u001b[0m\u001b[0m\n\u001b[1;32m   4152\u001b[0m         \u001b[0;32mif\u001b[0m \u001b[0minplace\u001b[0m\u001b[0;34m:\u001b[0m\u001b[0;34m\u001b[0m\u001b[0;34m\u001b[0m\u001b[0m\n",
      "\u001b[0;32m~/.pyenv/versions/3.8.6/envs/lewagon/lib/python3.8/site-packages/pandas/core/generic.py\u001b[0m in \u001b[0;36m_drop_axis\u001b[0;34m(self, labels, axis, level, errors)\u001b[0m\n\u001b[1;32m   4183\u001b[0m                 \u001b[0mnew_axis\u001b[0m \u001b[0;34m=\u001b[0m \u001b[0maxis\u001b[0m\u001b[0;34m.\u001b[0m\u001b[0mdrop\u001b[0m\u001b[0;34m(\u001b[0m\u001b[0mlabels\u001b[0m\u001b[0;34m,\u001b[0m \u001b[0mlevel\u001b[0m\u001b[0;34m=\u001b[0m\u001b[0mlevel\u001b[0m\u001b[0;34m,\u001b[0m \u001b[0merrors\u001b[0m\u001b[0;34m=\u001b[0m\u001b[0merrors\u001b[0m\u001b[0;34m)\u001b[0m\u001b[0;34m\u001b[0m\u001b[0;34m\u001b[0m\u001b[0m\n\u001b[1;32m   4184\u001b[0m             \u001b[0;32melse\u001b[0m\u001b[0;34m:\u001b[0m\u001b[0;34m\u001b[0m\u001b[0;34m\u001b[0m\u001b[0m\n\u001b[0;32m-> 4185\u001b[0;31m                 \u001b[0mnew_axis\u001b[0m \u001b[0;34m=\u001b[0m \u001b[0maxis\u001b[0m\u001b[0;34m.\u001b[0m\u001b[0mdrop\u001b[0m\u001b[0;34m(\u001b[0m\u001b[0mlabels\u001b[0m\u001b[0;34m,\u001b[0m \u001b[0merrors\u001b[0m\u001b[0;34m=\u001b[0m\u001b[0merrors\u001b[0m\u001b[0;34m)\u001b[0m\u001b[0;34m\u001b[0m\u001b[0;34m\u001b[0m\u001b[0m\n\u001b[0m\u001b[1;32m   4186\u001b[0m             \u001b[0mresult\u001b[0m \u001b[0;34m=\u001b[0m \u001b[0mself\u001b[0m\u001b[0;34m.\u001b[0m\u001b[0mreindex\u001b[0m\u001b[0;34m(\u001b[0m\u001b[0;34m**\u001b[0m\u001b[0;34m{\u001b[0m\u001b[0maxis_name\u001b[0m\u001b[0;34m:\u001b[0m \u001b[0mnew_axis\u001b[0m\u001b[0;34m}\u001b[0m\u001b[0;34m)\u001b[0m\u001b[0;34m\u001b[0m\u001b[0;34m\u001b[0m\u001b[0m\n\u001b[1;32m   4187\u001b[0m \u001b[0;34m\u001b[0m\u001b[0m\n",
      "\u001b[0;32m~/.pyenv/versions/3.8.6/envs/lewagon/lib/python3.8/site-packages/pandas/core/indexes/base.py\u001b[0m in \u001b[0;36mdrop\u001b[0;34m(self, labels, errors)\u001b[0m\n\u001b[1;32m   5589\u001b[0m         \u001b[0;32mif\u001b[0m \u001b[0mmask\u001b[0m\u001b[0;34m.\u001b[0m\u001b[0many\u001b[0m\u001b[0;34m(\u001b[0m\u001b[0;34m)\u001b[0m\u001b[0;34m:\u001b[0m\u001b[0;34m\u001b[0m\u001b[0;34m\u001b[0m\u001b[0m\n\u001b[1;32m   5590\u001b[0m             \u001b[0;32mif\u001b[0m \u001b[0merrors\u001b[0m \u001b[0;34m!=\u001b[0m \u001b[0;34m\"ignore\"\u001b[0m\u001b[0;34m:\u001b[0m\u001b[0;34m\u001b[0m\u001b[0;34m\u001b[0m\u001b[0m\n\u001b[0;32m-> 5591\u001b[0;31m                 \u001b[0;32mraise\u001b[0m \u001b[0mKeyError\u001b[0m\u001b[0;34m(\u001b[0m\u001b[0;34mf\"{labels[mask]} not found in axis\"\u001b[0m\u001b[0;34m)\u001b[0m\u001b[0;34m\u001b[0m\u001b[0;34m\u001b[0m\u001b[0m\n\u001b[0m\u001b[1;32m   5592\u001b[0m             \u001b[0mindexer\u001b[0m \u001b[0;34m=\u001b[0m \u001b[0mindexer\u001b[0m\u001b[0;34m[\u001b[0m\u001b[0;34m~\u001b[0m\u001b[0mmask\u001b[0m\u001b[0;34m]\u001b[0m\u001b[0;34m\u001b[0m\u001b[0;34m\u001b[0m\u001b[0m\n\u001b[1;32m   5593\u001b[0m         \u001b[0;32mreturn\u001b[0m \u001b[0mself\u001b[0m\u001b[0;34m.\u001b[0m\u001b[0mdelete\u001b[0m\u001b[0;34m(\u001b[0m\u001b[0mindexer\u001b[0m\u001b[0;34m)\u001b[0m\u001b[0;34m\u001b[0m\u001b[0;34m\u001b[0m\u001b[0m\n",
      "\u001b[0;31mKeyError\u001b[0m: \"['y'] not found in axis\""
     ]
    }
   ],
   "source": [
    "X_train = X_train.drop(columns=['y'])"
   ]
  },
  {
   "cell_type": "code",
   "execution_count": 93,
   "id": "inappropriate-therapy",
   "metadata": {
    "hidden": true
   },
   "outputs": [],
   "source": [
    "df = X_train.copy()\n",
    "df['y'] = y_train_class3_bis"
   ]
  },
  {
   "cell_type": "code",
   "execution_count": 94,
   "id": "transparent-adaptation",
   "metadata": {
    "hidden": true
   },
   "outputs": [
    {
     "data": {
      "image/png": "[encoded data removed]",
      "text/plain": [
       "<Figure size 432x288 with 1 Axes>"
      ]
     },
     "metadata": {
      "needs_background": "light"
     },
     "output_type": "display_data"
    }
   ],
   "source": [
    "# Classes appear to be relatively balanced with this split\n",
    "sns.histplot(df['y']);"
   ]
  },
  {
   "cell_type": "code",
   "execution_count": 95,
   "id": "british-intelligence",
   "metadata": {
    "hidden": true
   },
   "outputs": [],
   "source": [
    "df_majority = df[df['y'] == 0]\n",
    "df_minority = df[df['y'] != 0]"
   ]
  },
  {
   "cell_type": "code",
   "execution_count": 96,
   "id": "expired-memorial",
   "metadata": {
    "hidden": true
   },
   "outputs": [],
   "source": [
    "from sklearn.utils import resample\n",
    "\n",
    "df_majority_downsampled = resample(df_majority, \n",
    "                                 replace=False,    # sample without replacement\n",
    "                                 n_samples=2500) # reproducible results"
   ]
  },
  {
   "cell_type": "code",
   "execution_count": 97,
   "id": "liable-option",
   "metadata": {
    "hidden": true
   },
   "outputs": [
    {
     "data": {
      "text/plain": [
       "(2500, 7)"
      ]
     },
     "execution_count": 97,
     "metadata": {},
     "output_type": "execute_result"
    }
   ],
   "source": [
    "df_majority_downsampled.shape"
   ]
  },
  {
   "cell_type": "code",
   "execution_count": 98,
   "id": "hollow-chocolate",
   "metadata": {
    "hidden": true
   },
   "outputs": [
    {
     "data": {
      "text/plain": [
       "(4447, 7)"
      ]
     },
     "execution_count": 98,
     "metadata": {},
     "output_type": "execute_result"
    }
   ],
   "source": [
    "df_minority.shape"
   ]
  },
  {
   "cell_type": "code",
   "execution_count": 99,
   "id": "unlike-wrapping",
   "metadata": {
    "hidden": true
   },
   "outputs": [],
   "source": [
    "df_downsampled = pd.concat([df_majority_downsampled, df_minority])"
   ]
  },
  {
   "cell_type": "code",
   "execution_count": 100,
   "id": "favorite-service",
   "metadata": {
    "hidden": true
   },
   "outputs": [
    {
     "data": {
      "text/plain": [
       "(6947, 7)"
      ]
     },
     "execution_count": 100,
     "metadata": {},
     "output_type": "execute_result"
    }
   ],
   "source": [
    "df_downsampled.shape"
   ]
  },
  {
   "cell_type": "code",
   "execution_count": 101,
   "id": "mysterious-diamond",
   "metadata": {
    "hidden": true
   },
   "outputs": [],
   "source": [
    "X_bal = df_downsampled.drop(columns=['y'])\n",
    "y_bal = df_downsampled['y']"
   ]
  },
  {
   "cell_type": "markdown",
   "id": "electronic-france",
   "metadata": {
    "heading_collapsed": true
   },
   "source": [
    "## Modelling"
   ]
  },
  {
   "cell_type": "code",
   "execution_count": 102,
   "id": "amazing-german",
   "metadata": {
    "hidden": true
   },
   "outputs": [],
   "source": [
    "X_t_bal, X_val_bal, y_t_bal, y_val_bal = train_test_split(X_bal, y_bal, test_size=.2)"
   ]
  },
  {
   "cell_type": "code",
   "execution_count": 103,
   "id": "descending-grenada",
   "metadata": {
    "hidden": true
   },
   "outputs": [
    {
     "data": {
      "text/plain": [
       " 0    2019\n",
       " 1    1910\n",
       "-1    1628\n",
       "Name: y, dtype: int64"
      ]
     },
     "execution_count": 103,
     "metadata": {},
     "output_type": "execute_result"
    }
   ],
   "source": [
    "y_t_bal.value_counts()"
   ]
  },
  {
   "cell_type": "code",
   "execution_count": 104,
   "id": "distinct-method",
   "metadata": {
    "hidden": true
   },
   "outputs": [],
   "source": [
    "vectorizer = CountVectorizer()\n",
    "vectorizer.fit(X_t_bal['clean_text'])\n",
    "X_t_vect5 = vectorizer.transform(X_t_bal['clean_text'])"
   ]
  },
  {
   "cell_type": "code",
   "execution_count": 105,
   "id": "beginning-seafood",
   "metadata": {
    "hidden": true
   },
   "outputs": [
    {
     "data": {
      "text/plain": [
       "MultinomialNB(alpha=1.0, class_prior=None, fit_prior=True)"
      ]
     },
     "execution_count": 105,
     "metadata": {},
     "output_type": "execute_result"
    }
   ],
   "source": [
    "nb_model5 = MultinomialNB()\n",
    "nb_model5.fit(X_t_vect5, y_t_bal)"
   ]
  },
  {
   "cell_type": "code",
   "execution_count": 106,
   "id": "outside-plenty",
   "metadata": {
    "hidden": true
   },
   "outputs": [],
   "source": [
    "X_val_vect5 = vectorizer.transform(X_val_bal['clean_text'])"
   ]
  },
  {
   "cell_type": "code",
   "execution_count": 107,
   "id": "wired-purple",
   "metadata": {
    "hidden": true
   },
   "outputs": [
    {
     "data": {
      "text/plain": [
       "0.62"
      ]
     },
     "execution_count": 107,
     "metadata": {},
     "output_type": "execute_result"
    }
   ],
   "source": [
    "round(nb_model5.score(X_val_vect5, y_val_bal),2)"
   ]
  },
  {
   "cell_type": "code",
   "execution_count": 108,
   "id": "strange-treat",
   "metadata": {
    "hidden": true
   },
   "outputs": [],
   "source": [
    "y_pred5 = nb_model5.predict(X_val_vect5)"
   ]
  },
  {
   "cell_type": "code",
   "execution_count": 109,
   "id": "optical-turtle",
   "metadata": {
    "hidden": true
   },
   "outputs": [],
   "source": [
    "matrix5 = confusion_matrix(y_val_bal, y_pred5)"
   ]
  },
  {
   "cell_type": "code",
   "execution_count": 110,
   "id": "announced-knock",
   "metadata": {
    "hidden": true
   },
   "outputs": [
    {
     "data": {
      "image/png": "[encoded data removed]",
      "text/plain": [
       "<Figure size 432x288 with 2 Axes>"
      ]
     },
     "metadata": {
      "needs_background": "light"
     },
     "output_type": "display_data"
    }
   ],
   "source": [
    "sns.heatmap(matrix5, annot=True);"
   ]
  },
  {
   "cell_type": "markdown",
   "id": "seven-bishop",
   "metadata": {
    "heading_collapsed": true
   },
   "source": [
    "## Analysing results"
   ]
  },
  {
   "cell_type": "code",
   "execution_count": 111,
   "id": "democratic-wilderness",
   "metadata": {
    "hidden": true
   },
   "outputs": [
    {
     "data": {
      "text/plain": [
       "((6947, 7), (1390,))"
      ]
     },
     "execution_count": 111,
     "metadata": {},
     "output_type": "execute_result"
    }
   ],
   "source": [
    "df_downsampled.shape, y_pred5.shape"
   ]
  },
  {
   "cell_type": "code",
   "execution_count": 112,
   "id": "laughing-shoot",
   "metadata": {
    "hidden": true
   },
   "outputs": [
    {
     "data": {
      "text/plain": [
       "(1390, 6)"
      ]
     },
     "execution_count": 112,
     "metadata": {},
     "output_type": "execute_result"
    }
   ],
   "source": [
    "X_val_bal.shape"
   ]
  },
  {
   "cell_type": "code",
   "execution_count": 113,
   "id": "soviet-meaning",
   "metadata": {
    "hidden": true
   },
   "outputs": [
    {
     "data": {
      "text/html": [
       "<div>\n",
       "<style scoped>\n",
       "    .dataframe tbody tr th:only-of-type {\n",
       "        vertical-align: middle;\n",
       "    }\n",
       "\n",
       "    .dataframe tbody tr th {\n",
       "        vertical-align: top;\n",
       "    }\n",
       "\n",
       "    .dataframe thead th {\n",
       "        text-align: right;\n",
       "    }\n",
       "</style>\n",
       "<table border=\"1\" class=\"dataframe\">\n",
       "  <thead>\n",
       "    <tr style=\"text-align: right;\">\n",
       "      <th></th>\n",
       "      <th>Segment_ID</th>\n",
       "      <th>Phrase</th>\n",
       "      <th>clip</th>\n",
       "      <th>ID</th>\n",
       "      <th>clean_text</th>\n",
       "      <th>clean_text2</th>\n",
       "    </tr>\n",
       "  </thead>\n",
       "  <tbody>\n",
       "    <tr>\n",
       "      <th>6397</th>\n",
       "      <td>2473823</td>\n",
       "      <td>(uhh) I was expecting sort of a (uhh) big scr...</td>\n",
       "      <td>3</td>\n",
       "      <td>247382</td>\n",
       "      <td>uhh i was expecting sort of a uhh big screen ...</td>\n",
       "      <td>uhh expecting sort uhh big screen version uhh ...</td>\n",
       "    </tr>\n",
       "    <tr>\n",
       "      <th>5844</th>\n",
       "      <td>1124332</td>\n",
       "      <td>(umm) It it (stutter) was so confusing about ...</td>\n",
       "      <td>2</td>\n",
       "      <td>112433</td>\n",
       "      <td>umm it it stutter was so confusing about what...</td>\n",
       "      <td>umm stutter confusing happening</td>\n",
       "    </tr>\n",
       "    <tr>\n",
       "      <th>3162</th>\n",
       "      <td>YQUutkMdLj03</td>\n",
       "      <td>Rather you NEED to COME OUT and be separate fr...</td>\n",
       "      <td>3</td>\n",
       "      <td>YQUutkMdLj0</td>\n",
       "      <td>rather you need to come out and be separate fr...</td>\n",
       "      <td>rather need come separate everyone living sin ...</td>\n",
       "    </tr>\n",
       "  </tbody>\n",
       "</table>\n",
       "</div>"
      ],
      "text/plain": [
       "        Segment_ID                                             Phrase  clip  \\\n",
       "6397       2473823   (uhh) I was expecting sort of a (uhh) big scr...     3   \n",
       "5844       1124332   (umm) It it (stutter) was so confusing about ...     2   \n",
       "3162  YQUutkMdLj03  Rather you NEED to COME OUT and be separate fr...     3   \n",
       "\n",
       "               ID                                         clean_text  \\\n",
       "6397       247382   uhh i was expecting sort of a uhh big screen ...   \n",
       "5844       112433   umm it it stutter was so confusing about what...   \n",
       "3162  YQUutkMdLj0  rather you need to come out and be separate fr...   \n",
       "\n",
       "                                            clean_text2  \n",
       "6397  uhh expecting sort uhh big screen version uhh ...  \n",
       "5844                    umm stutter confusing happening  \n",
       "3162  rather need come separate everyone living sin ...  "
      ]
     },
     "execution_count": 113,
     "metadata": {},
     "output_type": "execute_result"
    }
   ],
   "source": [
    "X_val_bal.head(3)"
   ]
  },
  {
   "cell_type": "code",
   "execution_count": 114,
   "id": "great-swing",
   "metadata": {
    "hidden": true
   },
   "outputs": [],
   "source": [
    "results2 = X_val_bal.copy()\n",
    "results2['y'] = y_val_bal"
   ]
  },
  {
   "cell_type": "code",
   "execution_count": 115,
   "id": "vietnamese-membrane",
   "metadata": {
    "hidden": true
   },
   "outputs": [],
   "source": [
    "results2['y_pred'] = y_pred5"
   ]
  },
  {
   "cell_type": "code",
   "execution_count": 116,
   "id": "danish-output",
   "metadata": {
    "hidden": true
   },
   "outputs": [
    {
     "data": {
      "text/html": [
       "<div>\n",
       "<style scoped>\n",
       "    .dataframe tbody tr th:only-of-type {\n",
       "        vertical-align: middle;\n",
       "    }\n",
       "\n",
       "    .dataframe tbody tr th {\n",
       "        vertical-align: top;\n",
       "    }\n",
       "\n",
       "    .dataframe thead th {\n",
       "        text-align: right;\n",
       "    }\n",
       "</style>\n",
       "<table border=\"1\" class=\"dataframe\">\n",
       "  <thead>\n",
       "    <tr style=\"text-align: right;\">\n",
       "      <th></th>\n",
       "      <th>Segment_ID</th>\n",
       "      <th>Phrase</th>\n",
       "      <th>clip</th>\n",
       "      <th>ID</th>\n",
       "      <th>clean_text</th>\n",
       "      <th>clean_text2</th>\n",
       "      <th>y</th>\n",
       "      <th>y_pred</th>\n",
       "    </tr>\n",
       "  </thead>\n",
       "  <tbody>\n",
       "    <tr>\n",
       "      <th>6397</th>\n",
       "      <td>2473823</td>\n",
       "      <td>(uhh) I was expecting sort of a (uhh) big scr...</td>\n",
       "      <td>3</td>\n",
       "      <td>247382</td>\n",
       "      <td>uhh i was expecting sort of a uhh big screen ...</td>\n",
       "      <td>uhh expecting sort uhh big screen version uhh ...</td>\n",
       "      <td>0</td>\n",
       "      <td>0</td>\n",
       "    </tr>\n",
       "    <tr>\n",
       "      <th>5844</th>\n",
       "      <td>1124332</td>\n",
       "      <td>(umm) It it (stutter) was so confusing about ...</td>\n",
       "      <td>2</td>\n",
       "      <td>112433</td>\n",
       "      <td>umm it it stutter was so confusing about what...</td>\n",
       "      <td>umm stutter confusing happening</td>\n",
       "      <td>-1</td>\n",
       "      <td>-1</td>\n",
       "    </tr>\n",
       "    <tr>\n",
       "      <th>3162</th>\n",
       "      <td>YQUutkMdLj03</td>\n",
       "      <td>Rather you NEED to COME OUT and be separate fr...</td>\n",
       "      <td>3</td>\n",
       "      <td>YQUutkMdLj0</td>\n",
       "      <td>rather you need to come out and be separate fr...</td>\n",
       "      <td>rather need come separate everyone living sin ...</td>\n",
       "      <td>0</td>\n",
       "      <td>0</td>\n",
       "    </tr>\n",
       "    <tr>\n",
       "      <th>3911</th>\n",
       "      <td>7HVhnSYX1Y17</td>\n",
       "      <td>Give away goodies like t-shirts, caps and fun ...</td>\n",
       "      <td>17</td>\n",
       "      <td>7HVhnSYX1Y</td>\n",
       "      <td>give away goodies like tshirts caps and fun tr...</td>\n",
       "      <td>give away goody like tshirts cap fun trinket c...</td>\n",
       "      <td>1</td>\n",
       "      <td>1</td>\n",
       "    </tr>\n",
       "    <tr>\n",
       "      <th>1446</th>\n",
       "      <td>CzstrpOTtgo8</td>\n",
       "      <td>Get a good support system around you, a good s...</td>\n",
       "      <td>8</td>\n",
       "      <td>CzstrpOTtgo</td>\n",
       "      <td>get a good support system around you a good su...</td>\n",
       "      <td>get good support system around good support ne...</td>\n",
       "      <td>1</td>\n",
       "      <td>1</td>\n",
       "    </tr>\n",
       "  </tbody>\n",
       "</table>\n",
       "</div>"
      ],
      "text/plain": [
       "        Segment_ID                                             Phrase  clip  \\\n",
       "6397       2473823   (uhh) I was expecting sort of a (uhh) big scr...     3   \n",
       "5844       1124332   (umm) It it (stutter) was so confusing about ...     2   \n",
       "3162  YQUutkMdLj03  Rather you NEED to COME OUT and be separate fr...     3   \n",
       "3911  7HVhnSYX1Y17  Give away goodies like t-shirts, caps and fun ...    17   \n",
       "1446  CzstrpOTtgo8  Get a good support system around you, a good s...     8   \n",
       "\n",
       "               ID                                         clean_text  \\\n",
       "6397       247382   uhh i was expecting sort of a uhh big screen ...   \n",
       "5844       112433   umm it it stutter was so confusing about what...   \n",
       "3162  YQUutkMdLj0  rather you need to come out and be separate fr...   \n",
       "3911   7HVhnSYX1Y  give away goodies like tshirts caps and fun tr...   \n",
       "1446  CzstrpOTtgo  get a good support system around you a good su...   \n",
       "\n",
       "                                            clean_text2  y  y_pred  \n",
       "6397  uhh expecting sort uhh big screen version uhh ...  0       0  \n",
       "5844                    umm stutter confusing happening -1      -1  \n",
       "3162  rather need come separate everyone living sin ...  0       0  \n",
       "3911  give away goody like tshirts cap fun trinket c...  1       1  \n",
       "1446  get good support system around good support ne...  1       1  "
      ]
     },
     "execution_count": 116,
     "metadata": {},
     "output_type": "execute_result"
    }
   ],
   "source": [
    "results2.head()"
   ]
  },
  {
   "cell_type": "code",
   "execution_count": 117,
   "id": "insured-argentina",
   "metadata": {
    "hidden": true
   },
   "outputs": [],
   "source": [
    "results2[\"confusion\"] = abs(results2[\"y\"] - results2[\"y_pred\"])"
   ]
  },
  {
   "cell_type": "code",
   "execution_count": 118,
   "id": "widespread-gauge",
   "metadata": {
    "hidden": true
   },
   "outputs": [
    {
     "data": {
      "text/html": [
       "<div>\n",
       "<style scoped>\n",
       "    .dataframe tbody tr th:only-of-type {\n",
       "        vertical-align: middle;\n",
       "    }\n",
       "\n",
       "    .dataframe tbody tr th {\n",
       "        vertical-align: top;\n",
       "    }\n",
       "\n",
       "    .dataframe thead th {\n",
       "        text-align: right;\n",
       "    }\n",
       "</style>\n",
       "<table border=\"1\" class=\"dataframe\">\n",
       "  <thead>\n",
       "    <tr style=\"text-align: right;\">\n",
       "      <th></th>\n",
       "      <th>Segment_ID</th>\n",
       "      <th>Phrase</th>\n",
       "      <th>clip</th>\n",
       "      <th>ID</th>\n",
       "      <th>clean_text</th>\n",
       "      <th>clean_text2</th>\n",
       "      <th>y</th>\n",
       "      <th>y_pred</th>\n",
       "      <th>confusion</th>\n",
       "    </tr>\n",
       "  </thead>\n",
       "  <tbody>\n",
       "    <tr>\n",
       "      <th>6397</th>\n",
       "      <td>2473823</td>\n",
       "      <td>(uhh) I was expecting sort of a (uhh) big scr...</td>\n",
       "      <td>3</td>\n",
       "      <td>247382</td>\n",
       "      <td>uhh i was expecting sort of a uhh big screen ...</td>\n",
       "      <td>uhh expecting sort uhh big screen version uhh ...</td>\n",
       "      <td>0</td>\n",
       "      <td>0</td>\n",
       "      <td>0</td>\n",
       "    </tr>\n",
       "    <tr>\n",
       "      <th>5844</th>\n",
       "      <td>1124332</td>\n",
       "      <td>(umm) It it (stutter) was so confusing about ...</td>\n",
       "      <td>2</td>\n",
       "      <td>112433</td>\n",
       "      <td>umm it it stutter was so confusing about what...</td>\n",
       "      <td>umm stutter confusing happening</td>\n",
       "      <td>-1</td>\n",
       "      <td>-1</td>\n",
       "      <td>0</td>\n",
       "    </tr>\n",
       "    <tr>\n",
       "      <th>3162</th>\n",
       "      <td>YQUutkMdLj03</td>\n",
       "      <td>Rather you NEED to COME OUT and be separate fr...</td>\n",
       "      <td>3</td>\n",
       "      <td>YQUutkMdLj0</td>\n",
       "      <td>rather you need to come out and be separate fr...</td>\n",
       "      <td>rather need come separate everyone living sin ...</td>\n",
       "      <td>0</td>\n",
       "      <td>0</td>\n",
       "      <td>0</td>\n",
       "    </tr>\n",
       "    <tr>\n",
       "      <th>3911</th>\n",
       "      <td>7HVhnSYX1Y17</td>\n",
       "      <td>Give away goodies like t-shirts, caps and fun ...</td>\n",
       "      <td>17</td>\n",
       "      <td>7HVhnSYX1Y</td>\n",
       "      <td>give away goodies like tshirts caps and fun tr...</td>\n",
       "      <td>give away goody like tshirts cap fun trinket c...</td>\n",
       "      <td>1</td>\n",
       "      <td>1</td>\n",
       "      <td>0</td>\n",
       "    </tr>\n",
       "    <tr>\n",
       "      <th>1446</th>\n",
       "      <td>CzstrpOTtgo8</td>\n",
       "      <td>Get a good support system around you, a good s...</td>\n",
       "      <td>8</td>\n",
       "      <td>CzstrpOTtgo</td>\n",
       "      <td>get a good support system around you a good su...</td>\n",
       "      <td>get good support system around good support ne...</td>\n",
       "      <td>1</td>\n",
       "      <td>1</td>\n",
       "      <td>0</td>\n",
       "    </tr>\n",
       "  </tbody>\n",
       "</table>\n",
       "</div>"
      ],
      "text/plain": [
       "        Segment_ID                                             Phrase  clip  \\\n",
       "6397       2473823   (uhh) I was expecting sort of a (uhh) big scr...     3   \n",
       "5844       1124332   (umm) It it (stutter) was so confusing about ...     2   \n",
       "3162  YQUutkMdLj03  Rather you NEED to COME OUT and be separate fr...     3   \n",
       "3911  7HVhnSYX1Y17  Give away goodies like t-shirts, caps and fun ...    17   \n",
       "1446  CzstrpOTtgo8  Get a good support system around you, a good s...     8   \n",
       "\n",
       "               ID                                         clean_text  \\\n",
       "6397       247382   uhh i was expecting sort of a uhh big screen ...   \n",
       "5844       112433   umm it it stutter was so confusing about what...   \n",
       "3162  YQUutkMdLj0  rather you need to come out and be separate fr...   \n",
       "3911   7HVhnSYX1Y  give away goodies like tshirts caps and fun tr...   \n",
       "1446  CzstrpOTtgo  get a good support system around you a good su...   \n",
       "\n",
       "                                            clean_text2  y  y_pred  confusion  \n",
       "6397  uhh expecting sort uhh big screen version uhh ...  0       0          0  \n",
       "5844                    umm stutter confusing happening -1      -1          0  \n",
       "3162  rather need come separate everyone living sin ...  0       0          0  \n",
       "3911  give away goody like tshirts cap fun trinket c...  1       1          0  \n",
       "1446  get good support system around good support ne...  1       1          0  "
      ]
     },
     "execution_count": 118,
     "metadata": {},
     "output_type": "execute_result"
    }
   ],
   "source": [
    "results2.head()"
   ]
  },
  {
   "cell_type": "code",
   "execution_count": 119,
   "id": "practical-child",
   "metadata": {
    "hidden": true
   },
   "outputs": [],
   "source": [
    "results_wrong = results2[results2['confusion'] == 1]"
   ]
  },
  {
   "cell_type": "code",
   "execution_count": 120,
   "id": "auburn-empire",
   "metadata": {
    "hidden": true
   },
   "outputs": [
    {
     "data": {
      "text/plain": [
       "(419, 9)"
      ]
     },
     "execution_count": 120,
     "metadata": {},
     "output_type": "execute_result"
    }
   ],
   "source": [
    "results_wrong.shape"
   ]
  },
  {
   "cell_type": "code",
   "execution_count": 121,
   "id": "running-conversion",
   "metadata": {
    "hidden": true
   },
   "outputs": [],
   "source": [
    "sample_wrong = results_wrong.sample(n=20)"
   ]
  },
  {
   "cell_type": "code",
   "execution_count": 122,
   "id": "corporate-milan",
   "metadata": {
    "hidden": true
   },
   "outputs": [
    {
     "data": {
      "text/plain": [
       "0.7996209910191279"
      ]
     },
     "execution_count": 122,
     "metadata": {},
     "output_type": "execute_result"
    }
   ],
   "source": [
    "from textblob import TextBlob\n",
    "from textblob.sentiments import NaiveBayesAnalyzer\n",
    "\n",
    "blob = TextBlob(\"I love this library\", analyzer=NaiveBayesAnalyzer())\n",
    "blob.sentiment.p_pos"
   ]
  },
  {
   "cell_type": "code",
   "execution_count": 123,
   "id": "standing-democrat",
   "metadata": {
    "hidden": true
   },
   "outputs": [],
   "source": [
    "def blob(x):\n",
    "    blob = TextBlob(x, analyzer=NaiveBayesAnalyzer())\n",
    "    if blob.sentiment.p_pos < 0.4:\n",
    "        return -1\n",
    "    elif blob.sentiment.p_pos < 0.6:\n",
    "        return 0\n",
    "    else:\n",
    "        return 1"
   ]
  },
  {
   "cell_type": "markdown",
   "id": "juvenile-idaho",
   "metadata": {
    "heading_collapsed": true
   },
   "source": [
    "## Testing with previous best model"
   ]
  },
  {
   "cell_type": "code",
   "execution_count": 125,
   "id": "documented-essence",
   "metadata": {
    "hidden": true
   },
   "outputs": [],
   "source": [
    "from sklearn.pipeline import Pipeline\n",
    "from sklearn.feature_extraction.text import TfidfVectorizer\n",
    "from sklearn.naive_bayes import MultinomialNB\n",
    "\n",
    "pipe_good2 = Pipeline([\n",
    "    ('vect', TfidfVectorizer(max_df = 0.5, max_features = 10000, min_df= 1)),\n",
    "    ('model', MultinomialNB())\n",
    "])"
   ]
  },
  {
   "cell_type": "code",
   "execution_count": 126,
   "id": "elegant-extraction",
   "metadata": {
    "hidden": true
   },
   "outputs": [
    {
     "data": {
      "text/plain": [
       "Pipeline(memory=None,\n",
       "         steps=[('vect',\n",
       "                 TfidfVectorizer(analyzer='word', binary=False,\n",
       "                                 decode_error='strict',\n",
       "                                 dtype=<class 'numpy.float64'>,\n",
       "                                 encoding='utf-8', input='content',\n",
       "                                 lowercase=True, max_df=0.5, max_features=10000,\n",
       "                                 min_df=1, ngram_range=(1, 1), norm='l2',\n",
       "                                 preprocessor=None, smooth_idf=True,\n",
       "                                 stop_words=None, strip_accents=None,\n",
       "                                 sublinear_tf=False,\n",
       "                                 token_pattern='(?u)\\\\b\\\\w\\\\w+\\\\b',\n",
       "                                 tokenizer=None, use_idf=True,\n",
       "                                 vocabulary=None)),\n",
       "                ('model',\n",
       "                 MultinomialNB(alpha=1.0, class_prior=None, fit_prior=True))],\n",
       "         verbose=False)"
      ]
     },
     "execution_count": 126,
     "metadata": {},
     "output_type": "execute_result"
    }
   ],
   "source": [
    "pipe_good2.fit(X_t_bal['clean_text2'], y_t_bal)"
   ]
  },
  {
   "cell_type": "code",
   "execution_count": 127,
   "id": "figured-ceramic",
   "metadata": {
    "hidden": true
   },
   "outputs": [
    {
     "data": {
      "text/plain": [
       "0.61"
      ]
     },
     "execution_count": 127,
     "metadata": {},
     "output_type": "execute_result"
    }
   ],
   "source": [
    "round(pipe_good2.score(X_val_bal['clean_text2'], y_val_bal),2)"
   ]
  },
  {
   "cell_type": "markdown",
   "id": "mature-joshua",
   "metadata": {},
   "source": [
    "# Pipeline creation"
   ]
  },
  {
   "cell_type": "code",
   "execution_count": 128,
   "id": "contemporary-shadow",
   "metadata": {},
   "outputs": [
    {
     "data": {
      "text/plain": [
       "Pipeline(memory=None,\n",
       "         steps=[('vect',\n",
       "                 TfidfVectorizer(analyzer='word', binary=False,\n",
       "                                 decode_error='strict',\n",
       "                                 dtype=<class 'numpy.float64'>,\n",
       "                                 encoding='utf-8', input='content',\n",
       "                                 lowercase=True, max_df=0.5, max_features=10000,\n",
       "                                 min_df=1, ngram_range=(1, 1), norm='l2',\n",
       "                                 preprocessor=None, smooth_idf=True,\n",
       "                                 stop_words=None, strip_accents=None,\n",
       "                                 sublinear_tf=False,\n",
       "                                 token_pattern='(?u)\\\\b\\\\w\\\\w+\\\\b',\n",
       "                                 tokenizer=None, use_idf=True,\n",
       "                                 vocabulary=None)),\n",
       "                ('model',\n",
       "                 MultinomialNB(alpha=1.0, class_prior=None, fit_prior=True))],\n",
       "         verbose=False)"
      ]
     },
     "execution_count": 128,
     "metadata": {},
     "output_type": "execute_result"
    }
   ],
   "source": [
    "nlp_pipe_used = Pipeline([\n",
    "    ('vect', TfidfVectorizer(max_df = 0.5, max_features = 10000, min_df= 1)),\n",
    "    ('model', MultinomialNB())\n",
    "])\n",
    "nlp_pipe_used"
   ]
  },
  {
   "cell_type": "code",
   "execution_count": null,
   "id": "occupational-distinction",
   "metadata": {},
   "outputs": [],
   "source": []
  },
  {
   "cell_type": "code",
   "execution_count": null,
   "id": "tender-hardware",
   "metadata": {},
   "outputs": [],
   "source": []
  },
  {
   "cell_type": "code",
   "execution_count": 131,
   "id": "greater-transfer",
   "metadata": {},
   "outputs": [],
   "source": [
    "from sklearn.preprocessing import FunctionTransformer\n",
    "# Create a transformer that compresses data to 2 digits (for instance!)\n",
    "lowercase = FunctionTransformer(lambda x : x.str.lower())"
   ]
  },
  {
   "cell_type": "code",
   "execution_count": 136,
   "id": "cosmetic-consistency",
   "metadata": {},
   "outputs": [],
   "source": [
    "def clean_text(x):\n",
    "    \n",
    "    def lower(x):\n",
    "        return x.lower()\n",
    "    \n",
    "    def punct(x):\n",
    "        for text in string.punctuation:\n",
    "            x = x.replace(text, '')\n",
    "        return x\n",
    "\n",
    "    def del_num(x):\n",
    "        return ''.join([letter for letter in x if not letter.isdigit()])\n",
    "\n",
    "    x = lower(x)\n",
    "    x = punct(x)\n",
    "    x = del_num(x)\n",
    "    \n",
    "    return x"
   ]
  },
  {
   "cell_type": "code",
   "execution_count": null,
   "id": "corrected-thumb",
   "metadata": {},
   "outputs": [],
   "source": [
    "preprocessor = ColumnTransformer([\n",
    "    'lower'\n",
    "])"
   ]
  },
  {
   "cell_type": "code",
   "execution_count": 138,
   "id": "rotary-cancellation",
   "metadata": {},
   "outputs": [],
   "source": [
    "ml_pipeline = Pipeline([(\"preprocess\", FunctionTransformer(lambda s: s.apply(clean_txt))),\n",
    "                        ('vect', TfidfVectorizer(max_df = 0.5, max_features = 10000, min_df= 1)),\n",
    "                        ('model', MultinomialNB())])"
   ]
  },
  {
   "cell_type": "code",
   "execution_count": null,
   "id": "interpreted-frost",
   "metadata": {},
   "outputs": [],
   "source": []
  }
 ],
 "metadata": {
  "kernelspec": {
   "display_name": "Python 3",
   "language": "python",
   "name": "python3"
  },
  "language_info": {
   "codemirror_mode": {
    "name": "ipython",
    "version": 3
   },
   "file_extension": ".py",
   "mimetype": "text/x-python",
   "name": "python",
   "nbconvert_exporter": "python",
   "pygments_lexer": "ipython3",
   "version": "3.8.6"
  },
  "toc": {
   "base_numbering": 1,
   "nav_menu": {},
   "number_sections": true,
   "sideBar": true,
   "skip_h1_title": false,
   "title_cell": "Table of Contents",
   "title_sidebar": "Contents",
   "toc_cell": false,
   "toc_position": {},
   "toc_section_display": true,
   "toc_window_display": false
  }
 },
 "nbformat": 4,
 "nbformat_minor": 5
}
