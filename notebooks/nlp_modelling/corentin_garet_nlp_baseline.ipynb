{
 "cells": [
  {
   "cell_type": "markdown",
   "id": "stone-spanking",
   "metadata": {},
   "source": [
    "24/02/2021 - **Baseline model** - Corentin Garet"
   ]
  },
  {
   "cell_type": "markdown",
   "id": "classical-ireland",
   "metadata": {},
   "source": [
    "# Data loading and cleaning"
   ]
  },
  {
   "cell_type": "code",
   "execution_count": 1,
   "id": "actual-testimony",
   "metadata": {},
   "outputs": [],
   "source": [
    "import pandas as pd\n",
    "import numpy as np"
   ]
  },
  {
   "cell_type": "code",
   "execution_count": 7,
   "id": "forward-hacker",
   "metadata": {},
   "outputs": [],
   "source": [
    "# Loading data from raw_data\n",
    "X_train = pd.read_csv('../../raw_data/X_train.csv')\n",
    "y_train = pd.read_csv('../../raw_data/y_train.csv')\n",
    "X_test = pd.read_csv('../../raw_data/X_test.csv')\n",
    "y_test = pd.read_csv('../../raw_data/y_test.csv')"
   ]
  },
  {
   "cell_type": "code",
   "execution_count": 8,
   "id": "dominican-subcommittee",
   "metadata": {},
   "outputs": [],
   "source": [
    "# Transforming y in pd.Series\n",
    "y_train = y_train['Answer.sentiment']\n",
    "y_test = y_test['Answer.sentiment']"
   ]
  },
  {
   "cell_type": "markdown",
   "id": "mexican-brazilian",
   "metadata": {},
   "source": [
    "# Dummy model creation"
   ]
  },
  {
   "cell_type": "code",
   "execution_count": 10,
   "id": "broken-medicine",
   "metadata": {},
   "outputs": [
    {
     "data": {
      "text/plain": [
       "-0.03"
      ]
     },
     "execution_count": 10,
     "metadata": {},
     "output_type": "execute_result"
    }
   ],
   "source": [
    "# Let's create a dummy model predicting for each observation the mean sentiment of y_train\n",
    "mean_y_train = y_train.mean()\n",
    "round(mean_y_train,2)"
   ]
  },
  {
   "cell_type": "code",
   "execution_count": 11,
   "id": "ruled-direction",
   "metadata": {},
   "outputs": [
    {
     "data": {
      "text/plain": [
       "(2711,)"
      ]
     },
     "execution_count": 11,
     "metadata": {},
     "output_type": "execute_result"
    }
   ],
   "source": [
    "y_test.shape"
   ]
  },
  {
   "cell_type": "code",
   "execution_count": 18,
   "id": "central-basin",
   "metadata": {},
   "outputs": [],
   "source": [
    "# Creation of prediction\n",
    "y_pred_dummy = np.full(y_test.shape, mean_y_train)"
   ]
  },
  {
   "cell_type": "code",
   "execution_count": 21,
   "id": "sublime-activity",
   "metadata": {},
   "outputs": [
    {
     "name": "stdout",
     "output_type": "stream",
     "text": [
      "MSE Dummy = 1.49\n"
     ]
    }
   ],
   "source": [
    "# Computing mse of dummy model\n",
    "mse_dummy = ((y_test - y_pred_dummy)**2).mean()\n",
    "print(f'MSE Dummy = {round(mse_dummy,2)}')"
   ]
  }
 ],
 "metadata": {
  "kernelspec": {
   "display_name": "Python 3",
   "language": "python",
   "name": "python3"
  },
  "language_info": {
   "codemirror_mode": {
    "name": "ipython",
    "version": 3
   },
   "file_extension": ".py",
   "mimetype": "text/x-python",
   "name": "python",
   "nbconvert_exporter": "python",
   "pygments_lexer": "ipython3",
   "version": "3.8.6"
  },
  "toc": {
   "base_numbering": 1,
   "nav_menu": {},
   "number_sections": true,
   "sideBar": true,
   "skip_h1_title": false,
   "title_cell": "Table of Contents",
   "title_sidebar": "Contents",
   "toc_cell": false,
   "toc_position": {},
   "toc_section_display": true,
   "toc_window_display": false
  }
 },
 "nbformat": 4,
 "nbformat_minor": 5
}
