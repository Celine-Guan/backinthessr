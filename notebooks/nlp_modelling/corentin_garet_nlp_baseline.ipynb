{
 "cells": [
  {
   "cell_type": "markdown",
   "id": "clinical-mouse",
   "metadata": {},
   "source": [
    "24/02/2021 - **Baseline model** - Corentin Garet"
   ]
  },
  {
   "cell_type": "markdown",
   "id": "noticed-narrow",
   "metadata": {},
   "source": [
    "# Data loading and cleaning"
   ]
  },
  {
   "cell_type": "code",
   "execution_count": 2,
   "id": "corresponding-wheel",
   "metadata": {},
   "outputs": [],
   "source": [
    "import pandas as pd\n",
    "import numpy as np"
   ]
  },
  {
   "cell_type": "code",
   "execution_count": 4,
   "id": "prompt-yellow",
   "metadata": {},
   "outputs": [],
   "source": [
    "# Loading data from raw_data\n",
    "X_train = pd.read_csv('../../raw_data/clean_sentiment_data/X_train_.csv')\n",
    "y_train = pd.read_csv('../../raw_data/clean_sentiment_data/y_train_.csv')\n",
    "X_test = pd.read_csv('../../raw_data/clean_sentiment_data/X_test.csv')\n",
    "y_test = pd.read_csv('../../raw_data/clean_sentiment_data/y_test.csv')"
   ]
  },
  {
   "cell_type": "code",
   "execution_count": 5,
   "id": "fifteen-sewing",
   "metadata": {},
   "outputs": [],
   "source": [
    "# Transforming y in pd.Series\n",
    "y_train = y_train['Answer.sentiment']\n",
    "y_test = y_test['Answer.sentiment']"
   ]
  },
  {
   "cell_type": "markdown",
   "id": "round-blanket",
   "metadata": {},
   "source": [
    "# Dummy model creation: binary classification"
   ]
  },
  {
   "cell_type": "code",
   "execution_count": 27,
   "id": "intensive-college",
   "metadata": {},
   "outputs": [],
   "source": [
    "# Creation of y_binary = 0 if negative or 1 if positive\n",
    "y_train_bin = y_train.apply(lambda x: 0 if x <= 0 else 1)\n",
    "y_test_bin = y_test.apply(lambda x: 0 if x <= 0 else 1)"
   ]
  },
  {
   "cell_type": "code",
   "execution_count": 31,
   "id": "empty-jesus",
   "metadata": {},
   "outputs": [
    {
     "data": {
      "text/plain": [
       "0.44"
      ]
     },
     "execution_count": 31,
     "metadata": {},
     "output_type": "execute_result"
    }
   ],
   "source": [
    "# Let's create a dummy model predicting for each observation the most present class in the dataset\n",
    "positive_percentage_train = y_train_bin.sum() / y_train_bin.shape[0]\n",
    "round(positive_percentage_train, 2)"
   ]
  },
  {
   "cell_type": "code",
   "execution_count": 35,
   "id": "entire-operator",
   "metadata": {},
   "outputs": [],
   "source": [
    "# The most present class is negative. Let's create a prediction with only 0\n",
    "y_pred_dummy = np.zeros(y_test.shape)"
   ]
  },
  {
   "cell_type": "code",
   "execution_count": 42,
   "id": "dimensional-halloween",
   "metadata": {},
   "outputs": [
    {
     "name": "stdout",
     "output_type": "stream",
     "text": [
      "Dummy Accuracy = 0.55\n"
     ]
    }
   ],
   "source": [
    "# Computing accuracy of our dummy model\n",
    "accuracy_dummy = (1 - abs(y_pred_dummy - y_test_bin)).sum() / y_test_bin.shape[0]\n",
    "print(f'Dummy Accuracy = {round(accuracy_dummy, 2)}')"
   ]
  },
  {
   "cell_type": "markdown",
   "id": "stainless-encounter",
   "metadata": {},
   "source": [
    "# Dummy model creation: regression"
   ]
  },
  {
   "cell_type": "code",
   "execution_count": 6,
   "id": "radical-circular",
   "metadata": {},
   "outputs": [
    {
     "data": {
      "text/plain": [
       "0        0.333333\n",
       "1       -0.333333\n",
       "2       -2.666667\n",
       "3       -1.333333\n",
       "4        2.000000\n",
       "           ...   \n",
       "10837    1.000000\n",
       "10838    2.666667\n",
       "10839   -0.333333\n",
       "10840    1.333333\n",
       "10841   -0.666667\n",
       "Name: Answer.sentiment, Length: 10842, dtype: float64"
      ]
     },
     "execution_count": 6,
     "metadata": {},
     "output_type": "execute_result"
    }
   ],
   "source": [
    "y_train"
   ]
  },
  {
   "cell_type": "code",
   "execution_count": 7,
   "id": "local-brisbane",
   "metadata": {},
   "outputs": [
    {
     "data": {
      "text/plain": [
       "<AxesSubplot:xlabel='Answer.sentiment', ylabel='Count'>"
      ]
     },
     "execution_count": 7,
     "metadata": {},
     "output_type": "execute_result"
    },
    {
     "data": {
      "image/png": "[encoded data removed]",
      "text/plain": [
       "<Figure size 432x288 with 1 Axes>"
      ]
     },
     "metadata": {
      "needs_background": "light"
     },
     "output_type": "display_data"
    }
   ],
   "source": [
    "import seaborn as sns\n",
    "sns.histplot(y_train)"
   ]
  },
  {
   "cell_type": "code",
   "execution_count": 8,
   "id": "funny-enclosure",
   "metadata": {},
   "outputs": [
    {
     "data": {
      "text/plain": [
       "-0.025687142593617415"
      ]
     },
     "execution_count": 8,
     "metadata": {},
     "output_type": "execute_result"
    }
   ],
   "source": [
    "# Let's create a dummy model predicting for each observation the mean of y_train\n",
    "dummy_pred = y_train.mean()\n",
    "dummy_pred"
   ]
  },
  {
   "cell_type": "code",
   "execution_count": 9,
   "id": "coastal-current",
   "metadata": {},
   "outputs": [],
   "source": [
    "# Create an array with this value\n",
    "y_pred_dummy_mean = dummy_pred * np.ones(y_test.shape)"
   ]
  },
  {
   "cell_type": "code",
   "execution_count": 10,
   "id": "approximate-stuart",
   "metadata": {},
   "outputs": [
    {
     "data": {
      "text/plain": [
       "((2711,), (2711,))"
      ]
     },
     "execution_count": 10,
     "metadata": {},
     "output_type": "execute_result"
    }
   ],
   "source": [
    "y_pred_dummy_mean.shape,  y_test.shape"
   ]
  },
  {
   "cell_type": "code",
   "execution_count": 11,
   "id": "average-killer",
   "metadata": {},
   "outputs": [],
   "source": [
    "from sklearn.metrics import mean_absolute_error\n",
    "mae_dummy = mean_absolute_error(y_pred_dummy_mean,  y_test)"
   ]
  },
  {
   "cell_type": "code",
   "execution_count": 12,
   "id": "revolutionary-rover",
   "metadata": {},
   "outputs": [
    {
     "name": "stdout",
     "output_type": "stream",
     "text": [
      "Dummy MAE = 0.94\n"
     ]
    }
   ],
   "source": [
    "print(f'Dummy MAE = {round(mae_dummy, 2)}')"
   ]
  }
 ],
 "metadata": {
  "kernelspec": {
   "display_name": "Python 3",
   "language": "python",
   "name": "python3"
  },
  "language_info": {
   "codemirror_mode": {
    "name": "ipython",
    "version": 3
   },
   "file_extension": ".py",
   "mimetype": "text/x-python",
   "name": "python",
   "nbconvert_exporter": "python",
   "pygments_lexer": "ipython3",
   "version": "3.8.6"
  },
  "toc": {
   "base_numbering": 1,
   "nav_menu": {},
   "number_sections": true,
   "sideBar": true,
   "skip_h1_title": false,
   "title_cell": "Table of Contents",
   "title_sidebar": "Contents",
   "toc_cell": false,
   "toc_position": {},
   "toc_section_display": true,
   "toc_window_display": false
  }
 },
 "nbformat": 4,
 "nbformat_minor": 5
}
