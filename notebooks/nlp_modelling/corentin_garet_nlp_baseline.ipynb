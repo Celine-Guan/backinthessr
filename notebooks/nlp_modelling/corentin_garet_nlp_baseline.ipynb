{
 "cells": [
  {
   "cell_type": "markdown",
   "id": "clinical-mouse",
   "metadata": {},
   "source": [
    "24/02/2021 - **Baseline model** - Corentin Garet"
   ]
  },
  {
   "cell_type": "markdown",
   "id": "noticed-narrow",
   "metadata": {},
   "source": [
    "# Data loading and cleaning"
   ]
  },
  {
   "cell_type": "code",
   "execution_count": 1,
   "id": "corresponding-wheel",
   "metadata": {},
   "outputs": [],
   "source": [
    "import pandas as pd\n",
    "import numpy as np"
   ]
  },
  {
   "cell_type": "code",
   "execution_count": 7,
   "id": "prompt-yellow",
   "metadata": {},
   "outputs": [],
   "source": [
    "# Loading data from raw_data\n",
    "X_train = pd.read_csv('../../raw_data/X_train.csv')\n",
    "y_train = pd.read_csv('../../raw_data/y_train.csv')\n",
    "X_test = pd.read_csv('../../raw_data/X_test.csv')\n",
    "y_test = pd.read_csv('../../raw_data/y_test.csv')"
   ]
  },
  {
   "cell_type": "code",
   "execution_count": 8,
   "id": "fifteen-sewing",
   "metadata": {},
   "outputs": [],
   "source": [
    "# Transforming y in pd.Series\n",
    "y_train = y_train['Answer.sentiment']\n",
    "y_test = y_test['Answer.sentiment']"
   ]
  },
  {
   "cell_type": "markdown",
   "id": "round-blanket",
   "metadata": {},
   "source": [
    "# Dummy model creation: binary classification"
   ]
  },
  {
   "cell_type": "code",
   "execution_count": 27,
   "id": "intensive-college",
   "metadata": {},
   "outputs": [],
   "source": [
    "# Creation of y_binary = 0 if negative or 1 if positive\n",
    "y_train_bin = y_train.apply(lambda x: 0 if x <= 0 else 1)\n",
    "y_test_bin = y_test.apply(lambda x: 0 if x <= 0 else 1)"
   ]
  },
  {
   "cell_type": "code",
   "execution_count": 31,
   "id": "empty-jesus",
   "metadata": {},
   "outputs": [
    {
     "data": {
      "text/plain": [
       "0.44"
      ]
     },
     "execution_count": 31,
     "metadata": {},
     "output_type": "execute_result"
    }
   ],
   "source": [
    "# Let's create a dummy model predicting for each observation the most present class in the dataset\n",
    "positive_percentage_train = y_train_bin.sum() / y_train_bin.shape[0]\n",
    "round(positive_percentage_train, 2)"
   ]
  },
  {
   "cell_type": "code",
   "execution_count": 35,
   "id": "entire-operator",
   "metadata": {},
   "outputs": [],
   "source": [
    "# The most present class is negative. Let's create a prediction with only 0\n",
    "y_pred_dummy = np.zeros(y_test.shape)"
   ]
  },
  {
   "cell_type": "code",
   "execution_count": 42,
   "id": "dimensional-halloween",
   "metadata": {},
   "outputs": [
    {
     "name": "stdout",
     "output_type": "stream",
     "text": [
      "Dummy Accuracy = 0.55\n"
     ]
    }
   ],
   "source": [
    "# Computing accuracy of our dummy model\n",
    "accuracy_dummy = (1 - abs(y_pred_dummy - y_test_bin)).sum() / y_test_bin.shape[0]\n",
    "print(f'Dummy Accuracy = {round(accuracy_dummy, 2)}')"
   ]
  }
 ],
 "metadata": {
  "kernelspec": {
   "display_name": "Python 3",
   "language": "python",
   "name": "python3"
  },
  "language_info": {
   "codemirror_mode": {
    "name": "ipython",
    "version": 3
   },
   "file_extension": ".py",
   "mimetype": "text/x-python",
   "name": "python",
   "nbconvert_exporter": "python",
   "pygments_lexer": "ipython3",
   "version": "3.8.6"
  },
  "toc": {
   "base_numbering": 1,
   "nav_menu": {},
   "number_sections": true,
   "sideBar": true,
   "skip_h1_title": false,
   "title_cell": "Table of Contents",
   "title_sidebar": "Contents",
   "toc_cell": false,
   "toc_position": {},
   "toc_section_display": true,
   "toc_window_display": false
  }
 },
 "nbformat": 4,
 "nbformat_minor": 5
}
