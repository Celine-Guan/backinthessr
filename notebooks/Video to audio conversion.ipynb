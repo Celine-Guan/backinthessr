{
 "cells": [
  {
   "cell_type": "markdown",
   "id": "extra-folks",
   "metadata": {},
   "source": [
    "# Converting MP4 to wav format\n"
   ]
  },
  {
   "cell_type": "code",
   "execution_count": 60,
   "id": "southern-belief",
   "metadata": {},
   "outputs": [],
   "source": [
    "import os\n",
    "import ffmpy\n",
    "import pandas as pd \n",
    "from ffmpy import FFmpeg\n",
    "import ffmpeg\n",
    "import subprocess"
   ]
  },
  {
   "cell_type": "markdown",
   "id": "perceived-knife",
   "metadata": {},
   "source": [
    "### Defining input directory "
   ]
  },
  {
   "cell_type": "code",
   "execution_count": 41,
   "id": "parental-affect",
   "metadata": {},
   "outputs": [],
   "source": [
    "inputdir = '../raw_data/test_converter'"
   ]
  },
  {
   "cell_type": "markdown",
   "id": "favorite-anderson",
   "metadata": {},
   "source": [
    "## Conversion operation\n"
   ]
  },
  {
   "cell_type": "code",
   "execution_count": 43,
   "id": "turned-cross",
   "metadata": {},
   "outputs": [],
   "source": [
    "for filename in os.listdir(inputdir):\n",
    "    actual_filename = filename[:-4]\n",
    "    if(filename.endswith(\".mp4\")):\n",
    "        command = f\"ffmpeg -i ../raw_data/test_converter/{filename} -ab 160k -ac 2 -ar 44100 -vn ../raw_data/Converted_data/{actual_filename}.wav\"\n",
    "        subprocess.call(command, shell=True)\n",
    "    else:\n",
    "        print('nofile')"
   ]
  },
  {
   "cell_type": "code",
   "execution_count": 58,
   "id": "sticky-washer",
   "metadata": {},
   "outputs": [],
   "source": [
    "data = pd.read_csv('../raw_data/File_list/filesxcl.csv', header = None, delimiter=',')\n"
   ]
  },
  {
   "cell_type": "code",
   "execution_count": 61,
   "id": "declared-posting",
   "metadata": {},
   "outputs": [],
   "source": [
    "import numpy as np\n"
   ]
  },
  {
   "cell_type": "code",
   "execution_count": 63,
   "id": "unsigned-degree",
   "metadata": {},
   "outputs": [
    {
     "data": {
      "text/html": [
       "<div>\n",
       "<style scoped>\n",
       "    .dataframe tbody tr th:only-of-type {\n",
       "        vertical-align: middle;\n",
       "    }\n",
       "\n",
       "    .dataframe tbody tr th {\n",
       "        vertical-align: top;\n",
       "    }\n",
       "\n",
       "    .dataframe thead th {\n",
       "        text-align: right;\n",
       "    }\n",
       "</style>\n",
       "<table border=\"1\" class=\"dataframe\">\n",
       "  <thead>\n",
       "    <tr style=\"text-align: right;\">\n",
       "      <th></th>\n",
       "      <th>0</th>\n",
       "      <th>1</th>\n",
       "    </tr>\n",
       "  </thead>\n",
       "  <tbody>\n",
       "    <tr>\n",
       "      <th>0</th>\n",
       "      <td>03X1FwF6udc_0</td>\n",
       "      <td>03X1FwF6udc_0</td>\n",
       "    </tr>\n",
       "    <tr>\n",
       "      <th>1</th>\n",
       "      <td>03X1FwF6udc_10</td>\n",
       "      <td>03X1FwF6udc_10</td>\n",
       "    </tr>\n",
       "    <tr>\n",
       "      <th>2</th>\n",
       "      <td>03X1FwF6udc_11</td>\n",
       "      <td>03X1FwF6udc_11</td>\n",
       "    </tr>\n",
       "    <tr>\n",
       "      <th>3</th>\n",
       "      <td>03X1FwF6udc_12</td>\n",
       "      <td>03X1FwF6udc_12</td>\n",
       "    </tr>\n",
       "    <tr>\n",
       "      <th>4</th>\n",
       "      <td>03X1FwF6udc_13</td>\n",
       "      <td>03X1FwF6udc_13</td>\n",
       "    </tr>\n",
       "  </tbody>\n",
       "</table>\n",
       "</div>"
      ],
      "text/plain": [
       "                0               1\n",
       "0   03X1FwF6udc_0   03X1FwF6udc_0\n",
       "1  03X1FwF6udc_10  03X1FwF6udc_10\n",
       "2  03X1FwF6udc_11  03X1FwF6udc_11\n",
       "3  03X1FwF6udc_12  03X1FwF6udc_12\n",
       "4  03X1FwF6udc_13  03X1FwF6udc_13"
      ]
     },
     "execution_count": 63,
     "metadata": {},
     "output_type": "execute_result"
    }
   ],
   "source": [
    "data.head()"
   ]
  },
  {
   "cell_type": "code",
   "execution_count": 70,
   "id": "antique-tackle",
   "metadata": {},
   "outputs": [],
   "source": [
    "arraymp4=np.array(data[0].dropna())"
   ]
  },
  {
   "cell_type": "code",
   "execution_count": 71,
   "id": "speaking-relevance",
   "metadata": {},
   "outputs": [],
   "source": [
    "arraywav=np.array(data[1].dropna())"
   ]
  },
  {
   "cell_type": "code",
   "execution_count": 73,
   "id": "straight-classics",
   "metadata": {},
   "outputs": [],
   "source": [
    "main_list=np.setdiff1d(arraymp4,arraywav)"
   ]
  },
  {
   "cell_type": "code",
   "execution_count": 77,
   "id": "decent-japanese",
   "metadata": {},
   "outputs": [],
   "source": [
    "pd.DataFrame(main_list).to_csv('../raw_data/File_list/remove.csv')"
   ]
  },
  {
   "cell_type": "code",
   "execution_count": null,
   "id": "proprietary-lottery",
   "metadata": {},
   "outputs": [],
   "source": []
  }
 ],
 "metadata": {
  "kernelspec": {
   "display_name": "Python 3",
   "language": "python",
   "name": "python3"
  },
  "language_info": {
   "codemirror_mode": {
    "name": "ipython",
    "version": 3
   },
   "file_extension": ".py",
   "mimetype": "text/x-python",
   "name": "python",
   "nbconvert_exporter": "python",
   "pygments_lexer": "ipython3",
   "version": "3.8.6"
  }
 },
 "nbformat": 4,
 "nbformat_minor": 5
}
