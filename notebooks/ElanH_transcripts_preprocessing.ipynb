{
 "cells": [
  {
   "cell_type": "code",
   "execution_count": 1,
   "id": "loaded-hayes",
   "metadata": {},
   "outputs": [],
   "source": [
    "import pandas as pd\n",
    "import os\n",
    "import csv\n",
    "import re\n",
    "import itertools"
   ]
  },
  {
   "cell_type": "code",
   "execution_count": 32,
   "id": "adult-volleyball",
   "metadata": {},
   "outputs": [
    {
     "name": "stderr",
     "output_type": "stream",
     "text": [
      "<ipython-input-32-271f3e62120d>:1: ParserWarning: Falling back to the 'python' engine because the 'c' engine does not support regex separators (separators > 1 char and different from '\\s+' are interpreted as regex); you can avoid this warning by specifying engine='python'.\n",
      "  data = pd.read_csv('../raw_data/Transcript/Segmented/Combined/_0efYOjQYRc.txt', header = None, sep='///')\n"
     ]
    }
   ],
   "source": [
    "data = pd.read_csv('../raw_data/Transcript/Segmented/Combined/_0efYOjQYRc.txt', header = None, sep='///')"
   ]
  },
  {
   "cell_type": "code",
   "execution_count": 33,
   "id": "standing-recording",
   "metadata": {},
   "outputs": [],
   "source": [
    "directory = '../raw_data/Transcript/Segmented/Combined'"
   ]
  },
  {
   "cell_type": "code",
   "execution_count": 36,
   "id": "mexican-compact",
   "metadata": {
    "scrolled": false
   },
   "outputs": [
    {
     "name": "stderr",
     "output_type": "stream",
     "text": [
      "<ipython-input-36-bc6e5b930a57>:2: ParserWarning: Falling back to the 'python' engine because the 'c' engine does not support regex separators (separators > 1 char and different from '\\s+' are interpreted as regex); you can avoid this warning by specifying engine='python'.\n",
      "  new_data = pd.read_csv(f'../raw_data/Transcript/Segmented/Combined/{filename}', header = None, sep='///', quoting=csv.QUOTE_NONE)\n"
     ]
    }
   ],
   "source": [
    "for filename in os.listdir(directory):\n",
    "    new_data = pd.read_csv(f'../raw_data/Transcript/Segmented/Combined/{filename}', header = None, sep='///', quoting=csv.QUOTE_NONE) \n",
    "    data = pd.concat([data, new_data])"
   ]
  },
  {
   "cell_type": "code",
   "execution_count": 48,
   "id": "fiscal-island",
   "metadata": {},
   "outputs": [],
   "source": [
    "data = data.rename(columns={0 : 'all_data'})"
   ]
  },
  {
   "cell_type": "code",
   "execution_count": 53,
   "id": "molecular-vinyl",
   "metadata": {},
   "outputs": [],
   "source": [
    "data['ID'] = data['all_data'].apply(lambda x: x.split('__')[0].strip('_'))\n",
    "data['clip'] = data['all_data'].apply(lambda x: x.split('__')[1].strip('_'))\n",
    "data['Phrase'] = data['all_data'].apply(lambda x: x.split('__')[-1].strip('_'))"
   ]
  },
  {
   "cell_type": "code",
   "execution_count": 59,
   "id": "organized-motel",
   "metadata": {},
   "outputs": [],
   "source": [
    "data = data.drop(columns='all_data')"
   ]
  },
  {
   "cell_type": "code",
   "execution_count": 61,
   "id": "confirmed-least",
   "metadata": {},
   "outputs": [],
   "source": [
    "data['ID'] = data['ID'].astype(str)\n",
    "data['clip'] = data['clip'].astype(str)\n",
    "data[\"Segment_ID\"] = data[\"ID\"] + data[\"clip\"]"
   ]
  },
  {
   "cell_type": "code",
   "execution_count": 136,
   "id": "indian-pittsburgh",
   "metadata": {},
   "outputs": [
    {
     "data": {
      "text/plain": [
       "82269"
      ]
     },
     "execution_count": 136,
     "metadata": {},
     "output_type": "execute_result"
    }
   ],
   "source": [
    "len(data)"
   ]
  },
  {
   "cell_type": "code",
   "execution_count": 66,
   "id": "sought-healthcare",
   "metadata": {},
   "outputs": [],
   "source": [
    "remove = pd.read_csv('../raw_data/remove.csv', header = None)"
   ]
  },
  {
   "cell_type": "code",
   "execution_count": 70,
   "id": "bizarre-weight",
   "metadata": {},
   "outputs": [],
   "source": [
    "data = data.drop(labels = remove)"
   ]
  },
  {
   "cell_type": "code",
   "execution_count": 96,
   "id": "worthy-niger",
   "metadata": {},
   "outputs": [],
   "source": [
    "labels = pd.read_csv('../raw_data/Segment_ID_labels.csv')"
   ]
  },
  {
   "cell_type": "code",
   "execution_count": 99,
   "id": "single-farming",
   "metadata": {},
   "outputs": [],
   "source": [
    "labels['Segment_ID'] = labels['Segment_ID'].apply(lambda x: x.strip('sqa_mosi/'))\n",
    "labels['Segment_ID'] = labels['Segment_ID'].apply(lambda x: x.strip('pom_extra/'))"
   ]
  },
  {
   "cell_type": "code",
   "execution_count": 101,
   "id": "wanted-korean",
   "metadata": {},
   "outputs": [
    {
     "data": {
      "text/plain": [
       "18637"
      ]
     },
     "execution_count": 101,
     "metadata": {},
     "output_type": "execute_result"
    }
   ],
   "source": [
    "len(set(data.Segment_ID).intersection(set(labels.Segment_ID)))"
   ]
  },
  {
   "cell_type": "code",
   "execution_count": 137,
   "id": "weekly-notice",
   "metadata": {},
   "outputs": [],
   "source": [
    "final_data = pd.merge(data, labels, how='inner', on='Segment_ID')\n",
    "final_data = final_data.drop_duplicates()"
   ]
  },
  {
   "cell_type": "code",
   "execution_count": 135,
   "id": "documentary-sigma",
   "metadata": {},
   "outputs": [
    {
     "data": {
      "text/html": [
       "<div>\n",
       "<style scoped>\n",
       "    .dataframe tbody tr th:only-of-type {\n",
       "        vertical-align: middle;\n",
       "    }\n",
       "\n",
       "    .dataframe tbody tr th {\n",
       "        vertical-align: top;\n",
       "    }\n",
       "\n",
       "    .dataframe thead th {\n",
       "        text-align: right;\n",
       "    }\n",
       "</style>\n",
       "<table border=\"1\" class=\"dataframe\">\n",
       "  <thead>\n",
       "    <tr style=\"text-align: right;\">\n",
       "      <th></th>\n",
       "      <th>ID</th>\n",
       "      <th>clip</th>\n",
       "      <th>Phrase</th>\n",
       "      <th>Segment_ID</th>\n",
       "    </tr>\n",
       "  </thead>\n",
       "  <tbody>\n",
       "    <tr>\n",
       "      <th>0</th>\n",
       "      <td>0efYOjQYRc</td>\n",
       "      <td>3</td>\n",
       "      <td>He is the co-founder of Rossen and Vettese Lim...</td>\n",
       "      <td>0efYOjQYRc3</td>\n",
       "    </tr>\n",
       "    <tr>\n",
       "      <th>5</th>\n",
       "      <td>0efYOjQYRc</td>\n",
       "      <td>4</td>\n",
       "      <td>Chairman Glenn Ives said that Deloitte is very...</td>\n",
       "      <td>0efYOjQYRc4</td>\n",
       "    </tr>\n",
       "    <tr>\n",
       "      <th>10</th>\n",
       "      <td>-wMB_hJL-3o</td>\n",
       "      <td>4</td>\n",
       "      <td>The best way to help a depressed person is to ...</td>\n",
       "      <td>-wMB_hJL-3o4</td>\n",
       "    </tr>\n",
       "    <tr>\n",
       "      <th>12</th>\n",
       "      <td>-wMB_hJL-3o</td>\n",
       "      <td>6</td>\n",
       "      <td>There are many different treatments helpful fo...</td>\n",
       "      <td>-wMB_hJL-3o6</td>\n",
       "    </tr>\n",
       "    <tr>\n",
       "      <th>14</th>\n",
       "      <td>-wMB_hJL-3o</td>\n",
       "      <td>7</td>\n",
       "      <td>So if you have a loved one who is depressed th...</td>\n",
       "      <td>-wMB_hJL-3o7</td>\n",
       "    </tr>\n",
       "    <tr>\n",
       "      <th>...</th>\n",
       "      <td>...</td>\n",
       "      <td>...</td>\n",
       "      <td>...</td>\n",
       "      <td>...</td>\n",
       "    </tr>\n",
       "    <tr>\n",
       "      <th>37270</th>\n",
       "      <td>2h9VVQUZjK0</td>\n",
       "      <td>8</td>\n",
       "      <td>In the digital age, though, technology has ma...</td>\n",
       "      <td>2h9VVQUZjK08</td>\n",
       "    </tr>\n",
       "    <tr>\n",
       "      <th>37272</th>\n",
       "      <td>2h9VVQUZjK0</td>\n",
       "      <td>9</td>\n",
       "      <td>You might sometimes still see a corporate sea...</td>\n",
       "      <td>2h9VVQUZjK09</td>\n",
       "    </tr>\n",
       "    <tr>\n",
       "      <th>37274</th>\n",
       "      <td>2h9VVQUZjK0</td>\n",
       "      <td>10</td>\n",
       "      <td>Today, state laws recognize the signature of ...</td>\n",
       "      <td>2h9VVQUZjK010</td>\n",
       "    </tr>\n",
       "    <tr>\n",
       "      <th>37276</th>\n",
       "      <td>2h9VVQUZjK0</td>\n",
       "      <td>11</td>\n",
       "      <td>Originally, official stock certificates serve...</td>\n",
       "      <td>2h9VVQUZjK011</td>\n",
       "    </tr>\n",
       "    <tr>\n",
       "      <th>37278</th>\n",
       "      <td>2h9VVQUZjK0</td>\n",
       "      <td>12</td>\n",
       "      <td>These certificates showed proof of ownership ...</td>\n",
       "      <td>2h9VVQUZjK012</td>\n",
       "    </tr>\n",
       "  </tbody>\n",
       "</table>\n",
       "<p>18637 rows × 4 columns</p>\n",
       "</div>"
      ],
      "text/plain": [
       "                ID clip                                             Phrase  \\\n",
       "0       0efYOjQYRc    3  He is the co-founder of Rossen and Vettese Lim...   \n",
       "5       0efYOjQYRc    4  Chairman Glenn Ives said that Deloitte is very...   \n",
       "10     -wMB_hJL-3o    4  The best way to help a depressed person is to ...   \n",
       "12     -wMB_hJL-3o    6  There are many different treatments helpful fo...   \n",
       "14     -wMB_hJL-3o    7  So if you have a loved one who is depressed th...   \n",
       "...            ...  ...                                                ...   \n",
       "37270  2h9VVQUZjK0    8   In the digital age, though, technology has ma...   \n",
       "37272  2h9VVQUZjK0    9   You might sometimes still see a corporate sea...   \n",
       "37274  2h9VVQUZjK0   10   Today, state laws recognize the signature of ...   \n",
       "37276  2h9VVQUZjK0   11   Originally, official stock certificates serve...   \n",
       "37278  2h9VVQUZjK0   12   These certificates showed proof of ownership ...   \n",
       "\n",
       "          Segment_ID  \n",
       "0        0efYOjQYRc3  \n",
       "5        0efYOjQYRc4  \n",
       "10      -wMB_hJL-3o4  \n",
       "12      -wMB_hJL-3o6  \n",
       "14      -wMB_hJL-3o7  \n",
       "...              ...  \n",
       "37270   2h9VVQUZjK08  \n",
       "37272   2h9VVQUZjK09  \n",
       "37274  2h9VVQUZjK010  \n",
       "37276  2h9VVQUZjK011  \n",
       "37278  2h9VVQUZjK012  \n",
       "\n",
       "[18637 rows x 4 columns]"
      ]
     },
     "execution_count": 135,
     "metadata": {},
     "output_type": "execute_result"
    }
   ],
   "source": [
    "final_data"
   ]
  },
  {
   "cell_type": "code",
   "execution_count": 159,
   "id": "viral-reducing",
   "metadata": {},
   "outputs": [],
   "source": [
    "audio = pd.read_csv('../raw_data/files.csv', header = None)"
   ]
  },
  {
   "cell_type": "code",
   "execution_count": 160,
   "id": "subtle-workstation",
   "metadata": {},
   "outputs": [],
   "source": [
    "audio = audio.rename(columns={0 : 'Segment_ID'})"
   ]
  },
  {
   "cell_type": "code",
   "execution_count": 161,
   "id": "inside-snowboard",
   "metadata": {},
   "outputs": [],
   "source": [
    "audio['Segment_ID'] = audio['Segment_ID'].apply(lambda x: x.strip('.wav'))"
   ]
  },
  {
   "cell_type": "code",
   "execution_count": 162,
   "id": "sophisticated-china",
   "metadata": {},
   "outputs": [],
   "source": [
    "audio['Segment_ID'] = audio['Segment_ID'].apply(lambda x: x.replace('_', ''))"
   ]
  },
  {
   "cell_type": "code",
   "execution_count": 163,
   "id": "aggressive-cleanup",
   "metadata": {},
   "outputs": [
    {
     "data": {
      "text/html": [
       "<div>\n",
       "<style scoped>\n",
       "    .dataframe tbody tr th:only-of-type {\n",
       "        vertical-align: middle;\n",
       "    }\n",
       "\n",
       "    .dataframe tbody tr th {\n",
       "        vertical-align: top;\n",
       "    }\n",
       "\n",
       "    .dataframe thead th {\n",
       "        text-align: right;\n",
       "    }\n",
       "</style>\n",
       "<table border=\"1\" class=\"dataframe\">\n",
       "  <thead>\n",
       "    <tr style=\"text-align: right;\">\n",
       "      <th></th>\n",
       "      <th>Segment_ID</th>\n",
       "    </tr>\n",
       "  </thead>\n",
       "  <tbody>\n",
       "    <tr>\n",
       "      <th>37462</th>\n",
       "      <td>xge9aYTxxOA12</td>\n",
       "    </tr>\n",
       "    <tr>\n",
       "      <th>21730</th>\n",
       "      <td>ffrJ91swyq011</td>\n",
       "    </tr>\n",
       "    <tr>\n",
       "      <th>18729</th>\n",
       "      <td>bhPB19tr-JY0</td>\n",
       "    </tr>\n",
       "    <tr>\n",
       "      <th>15821</th>\n",
       "      <td>874349</td>\n",
       "    </tr>\n",
       "    <tr>\n",
       "      <th>10292</th>\n",
       "      <td>2mWPHvbKzL89</td>\n",
       "    </tr>\n",
       "    <tr>\n",
       "      <th>13789</th>\n",
       "      <td>5wpCKY2U1NE4</td>\n",
       "    </tr>\n",
       "    <tr>\n",
       "      <th>12011</th>\n",
       "      <td>403675</td>\n",
       "    </tr>\n",
       "    <tr>\n",
       "      <th>22487</th>\n",
       "      <td>GcfETVXgtg03</td>\n",
       "    </tr>\n",
       "    <tr>\n",
       "      <th>22533</th>\n",
       "      <td>gcpsSao7kHM1</td>\n",
       "    </tr>\n",
       "    <tr>\n",
       "      <th>24560</th>\n",
       "      <td>iFxFTtCQ6zA4</td>\n",
       "    </tr>\n",
       "    <tr>\n",
       "      <th>517</th>\n",
       "      <td>1017873</td>\n",
       "    </tr>\n",
       "    <tr>\n",
       "      <th>31211</th>\n",
       "      <td>q7DM8WkzAQ1</td>\n",
       "    </tr>\n",
       "    <tr>\n",
       "      <th>31785</th>\n",
       "      <td>QpchvHpGFc82</td>\n",
       "    </tr>\n",
       "    <tr>\n",
       "      <th>1949</th>\n",
       "      <td>1265424</td>\n",
       "    </tr>\n",
       "    <tr>\n",
       "      <th>4602</th>\n",
       "      <td>2169611</td>\n",
       "    </tr>\n",
       "    <tr>\n",
       "      <th>2916</th>\n",
       "      <td>18664312</td>\n",
       "    </tr>\n",
       "    <tr>\n",
       "      <th>31941</th>\n",
       "      <td>QWll4lS1qqI16</td>\n",
       "    </tr>\n",
       "    <tr>\n",
       "      <th>26573</th>\n",
       "      <td>KLy4aBLqwCk26</td>\n",
       "    </tr>\n",
       "    <tr>\n",
       "      <th>23155</th>\n",
       "      <td>grsV1YN1z5s14</td>\n",
       "    </tr>\n",
       "    <tr>\n",
       "      <th>19262</th>\n",
       "      <td>c805Td8AEk4</td>\n",
       "    </tr>\n",
       "    <tr>\n",
       "      <th>37306</th>\n",
       "      <td>xBE9YWYGjtk8</td>\n",
       "    </tr>\n",
       "    <tr>\n",
       "      <th>32753</th>\n",
       "      <td>RVC8l5hf2Eg8</td>\n",
       "    </tr>\n",
       "    <tr>\n",
       "      <th>4099</th>\n",
       "      <td>2079585</td>\n",
       "    </tr>\n",
       "    <tr>\n",
       "      <th>35256</th>\n",
       "      <td>UXvMaHD9kmA0</td>\n",
       "    </tr>\n",
       "    <tr>\n",
       "      <th>36192</th>\n",
       "      <td>WaaSYRPwQBw0</td>\n",
       "    </tr>\n",
       "    <tr>\n",
       "      <th>14853</th>\n",
       "      <td>753930</td>\n",
       "    </tr>\n",
       "    <tr>\n",
       "      <th>9812</th>\n",
       "      <td>2900889</td>\n",
       "    </tr>\n",
       "    <tr>\n",
       "      <th>20554</th>\n",
       "      <td>#NAME?</td>\n",
       "    </tr>\n",
       "    <tr>\n",
       "      <th>5643</th>\n",
       "      <td>2285610</td>\n",
       "    </tr>\n",
       "    <tr>\n",
       "      <th>19812</th>\n",
       "      <td>CVx494kExvc17</td>\n",
       "    </tr>\n",
       "    <tr>\n",
       "      <th>6676</th>\n",
       "      <td>2430567</td>\n",
       "    </tr>\n",
       "    <tr>\n",
       "      <th>5339</th>\n",
       "      <td>22464810</td>\n",
       "    </tr>\n",
       "    <tr>\n",
       "      <th>35184</th>\n",
       "      <td>UuR4Rw38vU4</td>\n",
       "    </tr>\n",
       "    <tr>\n",
       "      <th>33009</th>\n",
       "      <td>S2znq3iRPwE11</td>\n",
       "    </tr>\n",
       "    <tr>\n",
       "      <th>7970</th>\n",
       "      <td>2634446</td>\n",
       "    </tr>\n",
       "    <tr>\n",
       "      <th>10474</th>\n",
       "      <td>2w7rpDe-HoA7</td>\n",
       "    </tr>\n",
       "    <tr>\n",
       "      <th>26617</th>\n",
       "      <td>Kn99u05vlpA4</td>\n",
       "    </tr>\n",
       "    <tr>\n",
       "      <th>7049</th>\n",
       "      <td>24731812</td>\n",
       "    </tr>\n",
       "    <tr>\n",
       "      <th>15743</th>\n",
       "      <td>86c2OkQ3U819</td>\n",
       "    </tr>\n",
       "    <tr>\n",
       "      <th>39213</th>\n",
       "      <td>zk2jTlAtvSU1</td>\n",
       "    </tr>\n",
       "    <tr>\n",
       "      <th>32486</th>\n",
       "      <td>rhQB8e999-Q14</td>\n",
       "    </tr>\n",
       "    <tr>\n",
       "      <th>23446</th>\n",
       "      <td>H-74k5vclCU3</td>\n",
       "    </tr>\n",
       "    <tr>\n",
       "      <th>22263</th>\n",
       "      <td>fZJ7L14oYQ6</td>\n",
       "    </tr>\n",
       "    <tr>\n",
       "      <th>35147</th>\n",
       "      <td>uU3tbZ1zG817</td>\n",
       "    </tr>\n",
       "    <tr>\n",
       "      <th>37593</th>\n",
       "      <td>xmLJHru6Z1M8</td>\n",
       "    </tr>\n",
       "    <tr>\n",
       "      <th>32248</th>\n",
       "      <td>R9ypacCuEZo0</td>\n",
       "    </tr>\n",
       "    <tr>\n",
       "      <th>35029</th>\n",
       "      <td>uogwnZGb-iE21</td>\n",
       "    </tr>\n",
       "    <tr>\n",
       "      <th>18888</th>\n",
       "      <td>bpvYdXVlgvc2</td>\n",
       "    </tr>\n",
       "    <tr>\n",
       "      <th>19264</th>\n",
       "      <td>c805Td8AEk6</td>\n",
       "    </tr>\n",
       "    <tr>\n",
       "      <th>32385</th>\n",
       "      <td>RdOc70IrjJo15</td>\n",
       "    </tr>\n",
       "  </tbody>\n",
       "</table>\n",
       "</div>"
      ],
      "text/plain": [
       "          Segment_ID\n",
       "37462  xge9aYTxxOA12\n",
       "21730  ffrJ91swyq011\n",
       "18729   bhPB19tr-JY0\n",
       "15821         874349\n",
       "10292   2mWPHvbKzL89\n",
       "13789   5wpCKY2U1NE4\n",
       "12011         403675\n",
       "22487   GcfETVXgtg03\n",
       "22533   gcpsSao7kHM1\n",
       "24560   iFxFTtCQ6zA4\n",
       "517          1017873\n",
       "31211    q7DM8WkzAQ1\n",
       "31785   QpchvHpGFc82\n",
       "1949         1265424\n",
       "4602         2169611\n",
       "2916        18664312\n",
       "31941  QWll4lS1qqI16\n",
       "26573  KLy4aBLqwCk26\n",
       "23155  grsV1YN1z5s14\n",
       "19262    c805Td8AEk4\n",
       "37306   xBE9YWYGjtk8\n",
       "32753   RVC8l5hf2Eg8\n",
       "4099         2079585\n",
       "35256   UXvMaHD9kmA0\n",
       "36192   WaaSYRPwQBw0\n",
       "14853         753930\n",
       "9812         2900889\n",
       "20554         #NAME?\n",
       "5643         2285610\n",
       "19812  CVx494kExvc17\n",
       "6676         2430567\n",
       "5339        22464810\n",
       "35184    UuR4Rw38vU4\n",
       "33009  S2znq3iRPwE11\n",
       "7970         2634446\n",
       "10474   2w7rpDe-HoA7\n",
       "26617   Kn99u05vlpA4\n",
       "7049        24731812\n",
       "15743   86c2OkQ3U819\n",
       "39213   zk2jTlAtvSU1\n",
       "32486  rhQB8e999-Q14\n",
       "23446   H-74k5vclCU3\n",
       "22263    fZJ7L14oYQ6\n",
       "35147   uU3tbZ1zG817\n",
       "37593   xmLJHru6Z1M8\n",
       "32248   R9ypacCuEZo0\n",
       "35029  uogwnZGb-iE21\n",
       "18888   bpvYdXVlgvc2\n",
       "19264    c805Td8AEk6\n",
       "32385  RdOc70IrjJo15"
      ]
     },
     "execution_count": 163,
     "metadata": {},
     "output_type": "execute_result"
    }
   ],
   "source": [
    "audio.sample(50)"
   ]
  },
  {
   "cell_type": "code",
   "execution_count": 164,
   "id": "champion-timeline",
   "metadata": {
    "scrolled": true
   },
   "outputs": [
    {
     "data": {
      "text/plain": [
       "13553"
      ]
     },
     "execution_count": 164,
     "metadata": {},
     "output_type": "execute_result"
    }
   ],
   "source": [
    "len(set(final_data.Segment_ID).intersection(set(audio.Segment_ID)))"
   ]
  },
  {
   "cell_type": "code",
   "execution_count": 165,
   "id": "governmental-leadership",
   "metadata": {},
   "outputs": [],
   "source": [
    "final_data_2 = pd.merge(final_data, audio, how='inner', on='Segment_ID')\n",
    "final_data_2 = final_data_2.drop_duplicates()"
   ]
  },
  {
   "cell_type": "code",
   "execution_count": 166,
   "id": "particular-graph",
   "metadata": {},
   "outputs": [
    {
     "data": {
      "text/html": [
       "<div>\n",
       "<style scoped>\n",
       "    .dataframe tbody tr th:only-of-type {\n",
       "        vertical-align: middle;\n",
       "    }\n",
       "\n",
       "    .dataframe tbody tr th {\n",
       "        vertical-align: top;\n",
       "    }\n",
       "\n",
       "    .dataframe thead th {\n",
       "        text-align: right;\n",
       "    }\n",
       "</style>\n",
       "<table border=\"1\" class=\"dataframe\">\n",
       "  <thead>\n",
       "    <tr style=\"text-align: right;\">\n",
       "      <th></th>\n",
       "      <th>ID</th>\n",
       "      <th>clip</th>\n",
       "      <th>Phrase</th>\n",
       "      <th>Segment_ID</th>\n",
       "    </tr>\n",
       "  </thead>\n",
       "  <tbody>\n",
       "    <tr>\n",
       "      <th>0</th>\n",
       "      <td>0efYOjQYRc</td>\n",
       "      <td>3</td>\n",
       "      <td>He is the co-founder of Rossen and Vettese Lim...</td>\n",
       "      <td>0efYOjQYRc3</td>\n",
       "    </tr>\n",
       "    <tr>\n",
       "      <th>5</th>\n",
       "      <td>0efYOjQYRc</td>\n",
       "      <td>4</td>\n",
       "      <td>Chairman Glenn Ives said that Deloitte is very...</td>\n",
       "      <td>0efYOjQYRc4</td>\n",
       "    </tr>\n",
       "    <tr>\n",
       "      <th>10</th>\n",
       "      <td>56276</td>\n",
       "      <td>1</td>\n",
       "      <td>I want to tell you a little bit about this (u...</td>\n",
       "      <td>562761</td>\n",
       "    </tr>\n",
       "    <tr>\n",
       "      <th>12</th>\n",
       "      <td>56276</td>\n",
       "      <td>2</td>\n",
       "      <td>Now I will you that this is probably one of t...</td>\n",
       "      <td>562762</td>\n",
       "    </tr>\n",
       "    <tr>\n",
       "      <th>14</th>\n",
       "      <td>56276</td>\n",
       "      <td>3</td>\n",
       "      <td>This is one of the most stupidest movies, (um...</td>\n",
       "      <td>562763</td>\n",
       "    </tr>\n",
       "    <tr>\n",
       "      <th>...</th>\n",
       "      <td>...</td>\n",
       "      <td>...</td>\n",
       "      <td>...</td>\n",
       "      <td>...</td>\n",
       "    </tr>\n",
       "    <tr>\n",
       "      <th>27102</th>\n",
       "      <td>2h9VVQUZjK0</td>\n",
       "      <td>8</td>\n",
       "      <td>In the digital age, though, technology has ma...</td>\n",
       "      <td>2h9VVQUZjK08</td>\n",
       "    </tr>\n",
       "    <tr>\n",
       "      <th>27104</th>\n",
       "      <td>2h9VVQUZjK0</td>\n",
       "      <td>9</td>\n",
       "      <td>You might sometimes still see a corporate sea...</td>\n",
       "      <td>2h9VVQUZjK09</td>\n",
       "    </tr>\n",
       "    <tr>\n",
       "      <th>27106</th>\n",
       "      <td>2h9VVQUZjK0</td>\n",
       "      <td>10</td>\n",
       "      <td>Today, state laws recognize the signature of ...</td>\n",
       "      <td>2h9VVQUZjK010</td>\n",
       "    </tr>\n",
       "    <tr>\n",
       "      <th>27108</th>\n",
       "      <td>2h9VVQUZjK0</td>\n",
       "      <td>11</td>\n",
       "      <td>Originally, official stock certificates serve...</td>\n",
       "      <td>2h9VVQUZjK011</td>\n",
       "    </tr>\n",
       "    <tr>\n",
       "      <th>27110</th>\n",
       "      <td>2h9VVQUZjK0</td>\n",
       "      <td>12</td>\n",
       "      <td>These certificates showed proof of ownership ...</td>\n",
       "      <td>2h9VVQUZjK012</td>\n",
       "    </tr>\n",
       "  </tbody>\n",
       "</table>\n",
       "<p>13553 rows × 4 columns</p>\n",
       "</div>"
      ],
      "text/plain": [
       "                ID clip                                             Phrase  \\\n",
       "0       0efYOjQYRc    3  He is the co-founder of Rossen and Vettese Lim...   \n",
       "5       0efYOjQYRc    4  Chairman Glenn Ives said that Deloitte is very...   \n",
       "10           56276    1   I want to tell you a little bit about this (u...   \n",
       "12           56276    2   Now I will you that this is probably one of t...   \n",
       "14           56276    3   This is one of the most stupidest movies, (um...   \n",
       "...            ...  ...                                                ...   \n",
       "27102  2h9VVQUZjK0    8   In the digital age, though, technology has ma...   \n",
       "27104  2h9VVQUZjK0    9   You might sometimes still see a corporate sea...   \n",
       "27106  2h9VVQUZjK0   10   Today, state laws recognize the signature of ...   \n",
       "27108  2h9VVQUZjK0   11   Originally, official stock certificates serve...   \n",
       "27110  2h9VVQUZjK0   12   These certificates showed proof of ownership ...   \n",
       "\n",
       "          Segment_ID  \n",
       "0        0efYOjQYRc3  \n",
       "5        0efYOjQYRc4  \n",
       "10            562761  \n",
       "12            562762  \n",
       "14            562763  \n",
       "...              ...  \n",
       "27102   2h9VVQUZjK08  \n",
       "27104   2h9VVQUZjK09  \n",
       "27106  2h9VVQUZjK010  \n",
       "27108  2h9VVQUZjK011  \n",
       "27110  2h9VVQUZjK012  \n",
       "\n",
       "[13553 rows x 4 columns]"
      ]
     },
     "execution_count": 166,
     "metadata": {},
     "output_type": "execute_result"
    }
   ],
   "source": [
    "final_data_2"
   ]
  },
  {
   "cell_type": "code",
   "execution_count": null,
   "id": "applied-evans",
   "metadata": {},
   "outputs": [],
   "source": []
  }
 ],
 "metadata": {
  "kernelspec": {
   "display_name": "Python 3",
   "language": "python",
   "name": "python3"
  },
  "language_info": {
   "codemirror_mode": {
    "name": "ipython",
    "version": 3
   },
   "file_extension": ".py",
   "mimetype": "text/x-python",
   "name": "python",
   "nbconvert_exporter": "python",
   "pygments_lexer": "ipython3",
   "version": "3.8.6"
  },
  "toc": {
   "base_numbering": 1,
   "nav_menu": {},
   "number_sections": true,
   "sideBar": true,
   "skip_h1_title": false,
   "title_cell": "Table of Contents",
   "title_sidebar": "Contents",
   "toc_cell": false,
   "toc_position": {},
   "toc_section_display": true,
   "toc_window_display": false
  },
  "varInspector": {
   "cols": {
    "lenName": 16,
    "lenType": 16,
    "lenVar": 40
   },
   "kernels_config": {
    "python": {
     "delete_cmd_postfix": "",
     "delete_cmd_prefix": "del ",
     "library": "var_list.py",
     "varRefreshCmd": "print(var_dic_list())"
    },
    "r": {
     "delete_cmd_postfix": ") ",
     "delete_cmd_prefix": "rm(",
     "library": "var_list.r",
     "varRefreshCmd": "cat(var_dic_list()) "
    }
   },
   "types_to_exclude": [
    "module",
    "function",
    "builtin_function_or_method",
    "instance",
    "_Feature"
   ],
   "window_display": false
  }
 },
 "nbformat": 4,
 "nbformat_minor": 5
}
